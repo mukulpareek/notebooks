{
 "cells": [
  {
   "cell_type": "markdown",
   "metadata": {},
   "source": [
    "## Easy Example"
   ]
  },
  {
   "cell_type": "code",
   "execution_count": 16,
   "metadata": {},
   "outputs": [
    {
     "data": {
      "text/plain": [
       "(221, b'2.0.0 closing connection d16sm14126056qka.44 - gsmtp')"
      ]
     },
     "execution_count": 16,
     "metadata": {},
     "output_type": "execute_result"
    }
   ],
   "source": [
    "import smtplib\n",
    "from email.message import EmailMessage\n",
    "\n",
    "msg = EmailMessage()\n",
    "msg.set_content('This is my message')\n",
    "\n",
    "msg['Subject'] = 'Tester'\n",
    "msg['From'] = \"Check FN2 <fn2usa@gmail.com>\"\n",
    "msg['To'] = \"Wah wah <mp@pareek.org>, Pareekhome <pareekhome@gmail.com>\"\n",
    "msg['Cc'] = \"pareekhome@gmail.com\"\n",
    "\n",
    "# Send the message via our own SMTP server.\n",
    "server = smtplib.SMTP_SSL('smtp.gmail.com', 465)\n",
    "server.login(\"fn2usa@gmail.com\", \"pwd\")\n",
    "server.send_message(msg)\n",
    "server.quit()"
   ]
  },
  {
   "cell_type": "markdown",
   "metadata": {},
   "source": [
    "## Using function"
   ]
  },
  {
   "cell_type": "code",
   "execution_count": 60,
   "metadata": {},
   "outputs": [],
   "source": [
    "import smtplib\n",
    "from email.message import EmailMessage\n",
    "\n",
    "def email(sender='Function <fn2usa@gmail.com>', to='Mukul New <mp@pareek.org>', \n",
    "          cc='', subject='No subject set', body='No body defined', \n",
    "          gmail_acct='fn2usa@gmail.com', gmail_password='pwd'):\n",
    "    \n",
    "    import smtplib\n",
    "    from email.message import EmailMessage\n",
    "    \n",
    "    msg = EmailMessage()\n",
    "    msg.set_content(body)\n",
    "\n",
    "    msg['Subject'] = subject\n",
    "    msg['From'] = sender\n",
    "    msg['To'] = to\n",
    "    msg['Cc'] = cc\n",
    "\n",
    "    # Send the message via our own SMTP server.\n",
    "    server = smtplib.SMTP_SSL('smtp.gmail.com', 465)\n",
    "    server.login(gmail_acct, gmail_password)\n",
    "    server.send_message(msg)\n",
    "    server.quit()"
   ]
  },
  {
   "cell_type": "code",
   "execution_count": 63,
   "metadata": {},
   "outputs": [],
   "source": [
    "import datetime\n",
    "\n",
    "sub = 'Job done ' + datetime.datetime.now().strftime('%I:%M:%S %p ')\n",
    "bod = 'Job was completed now ' + str(datetime.datetime.now())\n",
    "\n",
    "email(subject=sub, body=bod) # don't use same variable names as in the function, doesn't work"
   ]
  },
  {
   "cell_type": "code",
   "execution_count": 58,
   "metadata": {},
   "outputs": [],
   "source": []
  },
  {
   "cell_type": "code",
   "execution_count": null,
   "metadata": {},
   "outputs": [],
   "source": []
  }
 ],
 "metadata": {
  "kernelspec": {
   "display_name": "Python 3",
   "language": "python",
   "name": "python3"
  },
  "language_info": {
   "codemirror_mode": {
    "name": "ipython",
    "version": 3
   },
   "file_extension": ".py",
   "mimetype": "text/x-python",
   "name": "python",
   "nbconvert_exporter": "python",
   "pygments_lexer": "ipython3",
   "version": "3.7.9"
  }
 },
 "nbformat": 4,
 "nbformat_minor": 4
}
