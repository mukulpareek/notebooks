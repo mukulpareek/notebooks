{
 "cells": [
  {
   "cell_type": "markdown",
   "metadata": {},
   "source": [
    "# Web scraping RSS and Topic Models"
   ]
  },
  {
   "cell_type": "code",
   "execution_count": 1,
   "metadata": {},
   "outputs": [],
   "source": [
    "import newspaper\n",
    "import feedparser\n",
    "import numpy as np\n",
    "import pandas as pd\n",
    "import requests\n",
    "import datetime \n",
    "from tqdm import tqdm\n",
    "import nltk\n",
    "from nltk.corpus import stopwords\n",
    "from sklearn.feature_extraction.text import TfidfVectorizer, CountVectorizer\n",
    "from sklearn.decomposition import NMF, LatentDirichletAllocation\n",
    "import joblib"
   ]
  },
  {
   "cell_type": "markdown",
   "metadata": {},
   "source": [
    "## Web Scraping"
   ]
  },
  {
   "cell_type": "code",
   "execution_count": 2,
   "metadata": {},
   "outputs": [],
   "source": [
    "# Blank dataframe, based on fields identified later\n",
    "\n",
    "rss_feeds = pd.DataFrame(columns = ['title',  'summary',  'links',  'link',  'id',  'guidislink',  'published',  \n",
    "                                    'published_parsed',  'title_detail.type',  'title_detail.language',  \n",
    "                                    'title_detail.base',  'title_detail.value',  'summary_detail.type',  \n",
    "                                    'summary_detail.language',  'summary_detail.base',  'summary_detail.value',  \n",
    "                                    'media_content',  'feedburner_origlink'])\n"
   ]
  },
  {
   "cell_type": "code",
   "execution_count": 3,
   "metadata": {},
   "outputs": [],
   "source": [
    "# List of RSS URLs to scrape\n",
    "\n",
    "rss_urls = [r'http://www.schneier.com/blog/index.rdf', \n",
    "            r'http://feeds.feedburner.com/darknethackers', \n",
    "            r'http://securityaffairs.co/wordpress/feed', \n",
    "            r'http://healthitsecurity.com/feed/', \n",
    "            r'http://blog.seanmason.com/feed/', \n",
    "            r'http://threatpost.com/feed', \n",
    "            r'http://feeds.trendmicro.com/Anti-MalwareBlog/', \n",
    "            r'http://www.infosecurity-magazine.com/rss/news/', \n",
    "            r'http://krebsonsecurity.com/feed/', \n",
    "            r'http://www.darkreading.com/rss/all.xml', \n",
    "            r'http://blog.kaspersky.com/feed/', \n",
    "            r'http://www.baesystems.com/page/rss?lg=en', \n",
    "            r'http://rss.nytimes.com/services/xml/rss/nyt/Technology.xml', \n",
    "            r'http://feeds.feedburner.com/scmagazinenews', \n",
    "            r'http://taosecurity.blogspot.com/atom.xml', \n",
    "            r'http://www.rms.com/blog/feed/', \n",
    "            r'http://iscxml.sans.org/rssfeed.xml', \n",
    "            r'https://community.qualys.com/blogs/securitylabs/feeds/posts', \n",
    "            r'http://googleonlinesecurity.blogspot.com/atom.xml', \n",
    "            r'http://thehackernews.com/feeds/posts/default', \n",
    "            r'http://www.us-cert.gov/current/index.rdf', \n",
    "            r'http://feeds.feedburner.com/Securityweek', \n",
    "            r'http://nakedsecurity.sophos.com/feed/', \n",
    "            r'http://feeds.arstechnica.com/arstechnica/index/', \n",
    "            r'http://www.csoonline.com/feed/attribute/41014', \n",
    "            r'http://blogs.rsa.com/feed/', \n",
    "            r'http://feeds.feedburner.com/Techcrunch', \n",
    "            r'http://recode.net/feed/', \n",
    "            r'http://www.techmeme.com/index.xml', \n",
    "            r'http://www.technologyreview.com/stream/rss/']"
   ]
  },
  {
   "cell_type": "code",
   "execution_count": 4,
   "metadata": {},
   "outputs": [
    {
     "name": "stderr",
     "output_type": "stream",
     "text": [
      "100%|██████████████████████████████████████████████████████████████████████████████████| 30/30 [00:14<00:00,  2.02it/s]"
     ]
    },
    {
     "name": "stdout",
     "output_type": "stream",
     "text": [
      "367 items in rss_feed dataframe\n"
     ]
    },
    {
     "name": "stderr",
     "output_type": "stream",
     "text": [
      "\n"
     ]
    }
   ],
   "source": [
    "# Get all the feed entries.  But the dataframe resulting from this has only a summary line, \n",
    "# not the entire text of the article.  For that we will pull the URL in using the \n",
    "# newspaper library later.\n",
    "\n",
    "for rss in tqdm(rss_urls):\n",
    "    feed = feedparser.parse(rss)\n",
    "    rss_feeds=pd.concat([rss_feeds, pd.json_normalize(feed.entries)], axis=0)\n",
    "print(len(rss_feeds), 'items in rss_feed dataframe')    "
   ]
  },
  {
   "cell_type": "code",
   "execution_count": 5,
   "metadata": {},
   "outputs": [],
   "source": [
    "# Remove duplicate URLs\n",
    "\n",
    "urllist =rss_feeds.link.unique()"
   ]
  },
  {
   "cell_type": "code",
   "execution_count": 6,
   "metadata": {},
   "outputs": [
    {
     "name": "stderr",
     "output_type": "stream",
     "text": [
      "100%|████████████████████████████████████████████████████████████████████████████████| 367/367 [06:03<00:00,  1.01it/s]"
     ]
    },
    {
     "name": "stdout",
     "output_type": "stream",
     "text": [
      "367 stories in dataframe df\n"
     ]
    },
    {
     "name": "stderr",
     "output_type": "stream",
     "text": [
      "\n"
     ]
    },
    {
     "data": {
      "text/html": [
       "<div>\n",
       "<style scoped>\n",
       "    .dataframe tbody tr th:only-of-type {\n",
       "        vertical-align: middle;\n",
       "    }\n",
       "\n",
       "    .dataframe tbody tr th {\n",
       "        vertical-align: top;\n",
       "    }\n",
       "\n",
       "    .dataframe thead th {\n",
       "        text-align: right;\n",
       "    }\n",
       "</style>\n",
       "<table border=\"1\" class=\"dataframe\">\n",
       "  <thead>\n",
       "    <tr style=\"text-align: right;\">\n",
       "      <th></th>\n",
       "      <th>date</th>\n",
       "      <th>URL</th>\n",
       "      <th>authors</th>\n",
       "      <th>keywords</th>\n",
       "      <th>summary</th>\n",
       "      <th>text</th>\n",
       "    </tr>\n",
       "  </thead>\n",
       "  <tbody>\n",
       "    <tr>\n",
       "      <th>41</th>\n",
       "      <td>None</td>\n",
       "      <td>https://threatpost.com/revil-ransomware-attack...</td>\n",
       "      <td>[Lindsey O'Donnell]</td>\n",
       "      <td>[company, attack, including, celeb, ransomware...</td>\n",
       "      <td>Cybercriminals used the REvil ransomware to at...</td>\n",
       "      <td>Cybercriminals used the REvil ransomware to at...</td>\n",
       "    </tr>\n",
       "    <tr>\n",
       "      <th>221</th>\n",
       "      <td>None</td>\n",
       "      <td>http://feedproxy.google.com/~r/TheHackersNews/...</td>\n",
       "      <td>[Mohit Kumar, April]</td>\n",
       "      <td>[attackers, targeted, scammers, successfully, ...</td>\n",
       "      <td>\"Among these high-ranking officer victims, mor...</td>\n",
       "      <td>Have something to say about this article? Comm...</td>\n",
       "    </tr>\n",
       "    <tr>\n",
       "      <th>7</th>\n",
       "      <td>None</td>\n",
       "      <td>https://www.schneier.com/blog/archives/2020/05...</td>\n",
       "      <td>[]</td>\n",
       "      <td>[sweden, schneier, cryptographic, secret, germ...</td>\n",
       "      <td>This paper describes a SIGINT and code-breakin...</td>\n",
       "      <td>This paper describes a SIGINT and code-breakin...</td>\n",
       "    </tr>\n",
       "    <tr>\n",
       "      <th>61</th>\n",
       "      <td>2020-05-13 10:30:00</td>\n",
       "      <td>https://www.infosecurity-magazine.com:443/news...</td>\n",
       "      <td>[Phil Muncaster]</td>\n",
       "      <td>[attackers, sophos, attack, data, pay, ransom,...</td>\n",
       "      <td>Organizations that decide to pay their ransomw...</td>\n",
       "      <td>Organizations that decide to pay their ransomw...</td>\n",
       "    </tr>\n",
       "  </tbody>\n",
       "</table>\n",
       "</div>"
      ],
      "text/plain": [
       "                    date                                                URL  \\\n",
       "41                  None  https://threatpost.com/revil-ransomware-attack...   \n",
       "221                 None  http://feedproxy.google.com/~r/TheHackersNews/...   \n",
       "7                   None  https://www.schneier.com/blog/archives/2020/05...   \n",
       "61   2020-05-13 10:30:00  https://www.infosecurity-magazine.com:443/news...   \n",
       "\n",
       "                  authors                                           keywords  \\\n",
       "41    [Lindsey O'Donnell]  [company, attack, including, celeb, ransomware...   \n",
       "221  [Mohit Kumar, April]  [attackers, targeted, scammers, successfully, ...   \n",
       "7                      []  [sweden, schneier, cryptographic, secret, germ...   \n",
       "61       [Phil Muncaster]  [attackers, sophos, attack, data, pay, ransom,...   \n",
       "\n",
       "                                               summary  \\\n",
       "41   Cybercriminals used the REvil ransomware to at...   \n",
       "221  \"Among these high-ranking officer victims, mor...   \n",
       "7    This paper describes a SIGINT and code-breakin...   \n",
       "61   Organizations that decide to pay their ransomw...   \n",
       "\n",
       "                                                  text  \n",
       "41   Cybercriminals used the REvil ransomware to at...  \n",
       "221  Have something to say about this article? Comm...  \n",
       "7    This paper describes a SIGINT and code-breakin...  \n",
       "61   Organizations that decide to pay their ransomw...  "
      ]
     },
     "execution_count": 6,
     "metadata": {},
     "output_type": "execute_result"
    }
   ],
   "source": [
    "# Get full text using scraping from the newspaper library\n",
    "\n",
    "from newspaper import Article\n",
    "import pandas as pd\n",
    "df = pd.DataFrame(columns = [\"date\",  \"URL\", \"authors\", \"keywords\", \"summary\", \"text\"])\n",
    "\n",
    "for url in tqdm(urllist):\n",
    "    article = Article(url)\n",
    "    try:\n",
    "        article.download()\n",
    "        article.parse()\n",
    "        article.nlp()\n",
    "        dict1 = {\"date\": article.publish_date, \"URL\": url, \"authors\": article.authors, \\\n",
    "             \"keywords\": article.keywords, \"summary\": article.summary, \"text\": article.text}\n",
    "    #print(dict1)\n",
    "        df = df.append(dict1, ignore_index=True)\n",
    "    except:\n",
    "        print('Something wrong with', url)\n",
    "\n",
    "print(len(df),'stories in dataframe df')\n",
    "\n",
    "df.sample(4)"
   ]
  },
  {
   "cell_type": "code",
   "execution_count": 7,
   "metadata": {},
   "outputs": [
    {
     "name": "stdout",
     "output_type": "stream",
     "text": [
      "367 unique articles in file.\n"
     ]
    }
   ],
   "source": [
    "# Merge the RSS dataframe with the full text obtained from the \n",
    "# newspaper library\n",
    "\n",
    "final = rss_feeds.merge(df,how=\"right\", left_on=\"link\", right_on=\"URL\")\n",
    "print(len(final),'unique articles in file.')"
   ]
  },
  {
   "cell_type": "code",
   "execution_count": 8,
   "metadata": {},
   "outputs": [
    {
     "name": "stdout",
     "output_type": "stream",
     "text": [
      "Pickle file created\n"
     ]
    }
   ],
   "source": [
    "# Save the file\n",
    "final.to_pickle('securitynews_' + datetime.datetime.now().strftime(\"date_%Y.%m.%d_time_%H.%M\") + '.pkl')\n",
    "print('Pickle file created')"
   ]
  },
  {
   "cell_type": "code",
   "execution_count": 9,
   "metadata": {},
   "outputs": [
    {
     "name": "stdout",
     "output_type": "stream",
     "text": [
      "Used Tesla Components Contain Personal Information\n",
      "\n",
      "Used Tesla components, sold on eBay, still contain personal information, even after a factory reset.\n",
      "\n",
      "This is a decades-old problem. It's a problem with used hard drives. It's a problem with used photocopiers and printers. It will be a problem with IoT devices. It'll be a problem with everything, until we decide that data deletion is a priority.\n",
      "\n",
      "Posted on May 8, 2020 at 9:46 AM • 12 Comments\n"
     ]
    }
   ],
   "source": [
    "print(final.text[3])"
   ]
  },
  {
   "cell_type": "code",
   "execution_count": null,
   "metadata": {},
   "outputs": [],
   "source": []
  }
 ],
 "metadata": {
  "kernelspec": {
   "display_name": "Python 3",
   "language": "python",
   "name": "python3"
  },
  "language_info": {
   "codemirror_mode": {
    "name": "ipython",
    "version": 3
   },
   "file_extension": ".py",
   "mimetype": "text/x-python",
   "name": "python",
   "nbconvert_exporter": "python",
   "pygments_lexer": "ipython3",
   "version": "3.7.9"
  }
 },
 "nbformat": 4,
 "nbformat_minor": 4
}
