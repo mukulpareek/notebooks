{
 "cells": [
  {
   "cell_type": "markdown",
   "metadata": {},
   "source": [
    "# Python Notes - Mukul Pareek  \n",
    "  Jan 6, 2020   \n",
    "   \n",
    "***About me: [LinkedIn](https://www.linkedin.com/in/mukul-pareek/)***  \n",
    "***Publications: [http://pareek.org/pubs](http://pareek.org/pubs)***  \n",
    "  \n",
    "## Introduction  \n",
    "These are my notes on using Python, and a couple of other related things – and all in Python.  I refer to these occasionally if I need to look something up, for I am a casual Python user and without daily usage find it difficult to remember even the possibilities of what can be done to data with Python.  My interest stems from wanting to understand what is possible so I can ask the experts to build what is needed to solve problems.  \n",
    "\n",
    "Nothing here is original, everything is from books, the internet, and of course stackexchange.  Nearly all of the material is probably something of use only to me, and has been written with just myself in mind as the audience.  \n",
    "\n",
    "## Why would I care about Python?  \n",
    "Much of this exploration into Python comes from a curiosity into data science, specifically machine learning and deep neural networks.  It seems these tools possess an incredible capacity to essentially model any function, no matter how complex, without requiring too much work on the part of an investigator.  So they can be quite powerful for solving certain kinds of problems, and bring about an incredible efficiency to a particular category of problems.  However they cannot solve for everything, and these are still extremely far from general intelligence (nor does there exist a clear path to getting to any level of general intelligence, in my view).\n",
    "\n",
    "## Before Python  \n",
    "My initial tool of choice to explore machine learning and artificial intelligence was R.  I wrote similar notes on R, see those at http://fn2.us.  It then turned out that Python was the tool used at work, and the deeplearning course I wanted to do (https://deeplearning.ai) was also Python based.  So I had to spend a weekend or two getting started with Python, and I found it to be different, though not more difficult than R.  For my rudimentary and occasional data analysis needs, I have decided to stick with Python as the burden of knowing two different tools for the same tasks is excessive for someone who touches code perhaps once a month.\n",
    "\n",
    "## AI and ML\n",
    "Working in an analytical role, I find that AI and ML are not the appropriate tools for every situation.  Not everything can be learned by an algorithm, and for what can be, the right data may not be available.  Many real life problems, other than speech and vision, can be addressed fairly effectively using traditional approaches.  There is still no substitute for good business intelligence capabilities for generating insights.  Humans often demand perfection, and in many situations false positives are not acceptable – a necessary outcome when something is decided based on a computed probability in a model.\n",
    "\n",
    "## Cybersecurity, technology risks and controls\n",
    "I work in cyber security and technology risks and controls.  Cyber security generally generates gobs of sensor data (from firewalls, endpoint agents, emails, system logs etc).  Many of the challenges are solved for by using traditional rules based approaches.  Rules based approaches have the huge advantage of transparency, explainability, and the ability for experts to contribute to building the solution so their acceptance tends to be extremely high.  An ML/AI solution, though much sexier, will need to beat the rules based solutions by a wide margin in order to be accepted.  That is a fundamental challenge.  Second, cyber security data tends to be extremely imbalanced as the proportion of benign incidents is overwhelmingly large.  While there are mathematical techniques to address imbalanced datasets, they are tricky and not always effective.  Finally, false positive rates are a problem.  Even if these rates are extremely low, the large size of the transaction population means that the absolute numerical numbers of false positives can still be extremely high.\n",
    "\n",
    "## AI and ML for cybersecurity\n",
    "Cybersecurity is not new, and for decades people have worked hard to defend against cyber-attacks.  The solutions that have been built over these years are mature, and any AI or ML solution has to improve upon this baseline of existing solutions.  That is difficult.  Whether it is spam detection, DDOS prevention, protecting against phishing attacks, preventing vulnerabilities from being exploited, keeping the perimeter secure, managing access – lots of existing tools and solutions are pretty good, setting a high bar for an AI-ML solution.\n",
    "\n",
    "But this does not mean one cannot use these technologies in cyber security or for managing other kinds of technology risks.  It means that these tools need to be applied to novel problems, some which have not been addressed in the past as being intractable.  Or these tools need to be applied to existing problems in completely novel ways.  \n",
    "\n",
    "There are many vendors that tout AI-ML capabilities in their products to solve traditional problems, but none is a stunning success.  In the field of NLP and speech recognition, deep neural networks gave existing methods their ‘Kodak moment’ (or ‘Blockbuster moment’) to an extent that decades of investments in older techniques had to be thrown away given the absolute dominance of deep learning models.  We await that moment as cyber defenders \n",
    "\n",
    "\n",
    "\n"
   ]
  }
 ],
 "metadata": {
  "kernelspec": {
   "display_name": "Python 3",
   "language": "python",
   "name": "python3"
  },
  "language_info": {
   "codemirror_mode": {
    "name": "ipython",
    "version": 3
   },
   "file_extension": ".py",
   "mimetype": "text/x-python",
   "name": "python",
   "nbconvert_exporter": "python",
   "pygments_lexer": "ipython3",
   "version": "3.7.6"
  }
 },
 "nbformat": 4,
 "nbformat_minor": 4
}
