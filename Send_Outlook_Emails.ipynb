{
 "cells": [
  {
   "cell_type": "code",
   "execution_count": 8,
   "metadata": {},
   "outputs": [],
   "source": [
    "import pandas as pd\n",
    "import win32com.client as win32\n",
    "\n",
    "# Create Excel with three columns - To, Subject and Body\n",
    "\n",
    "df = pd.read_excel('Book1.xlsx')\n",
    "\n",
    "for n in range(len(df)):\n",
    "    to = df.iloc[n]['To']\n",
    "    subject = df.iloc[n]['Subject']\n",
    "    body = df.iloc[n]['Body']\n",
    "\n",
    "    outlook = win32.Dispatch('outlook.application')\n",
    "    mail = outlook.CreateItem(0)\n",
    "    mail.To = to\n",
    "    mail.Subject = subject\n",
    "    mail.Body = body\n",
    "    # mail.HTMLBody = '<h2>HTML Message body</h2>' #this field is optional\n",
    "\n",
    "    # To attach a file to the email (optional):\n",
    "    # attachment  = \"Path to the attachment\"\n",
    "    # mail.Attachments.Add(attachment)\n",
    "    \n",
    "    # To just create, use mail.Display()\n",
    "    mail.Display()\n",
    "    \n",
    "    # To send without prompting, use mail.Display()\n",
    "    # mail.Send()"
   ]
  },
  {
   "cell_type": "code",
   "execution_count": null,
   "metadata": {},
   "outputs": [],
   "source": []
  }
 ],
 "metadata": {
  "kernelspec": {
   "display_name": "Python 3",
   "language": "python",
   "name": "python3"
  },
  "language_info": {
   "codemirror_mode": {
    "name": "ipython",
    "version": 3
   },
   "file_extension": ".py",
   "mimetype": "text/x-python",
   "name": "python",
   "nbconvert_exporter": "python",
   "pygments_lexer": "ipython3",
   "version": "3.7.6"
  }
 },
 "nbformat": 4,
 "nbformat_minor": 4
}
