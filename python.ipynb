{
 "cells": [
  {
   "cell_type": "markdown",
   "metadata": {},
   "source": [
    "# Notes for getting started with Python.  "
   ]
  },
  {
   "cell_type": "markdown",
   "metadata": {},
   "source": [
    " \n",
    "## List, Dicts, Sets and Tuples"
   ]
  },
  {
   "cell_type": "code",
   "execution_count": 1,
   "metadata": {},
   "outputs": [],
   "source": [
    "import pandas as pd\n",
    "import os\n",
    "import random\n",
    "import numpy as np\n",
    "import scipy\n",
    "import math\n",
    "import joblib"
   ]
  },
  {
   "cell_type": "markdown",
   "metadata": {},
   "source": [
    "Lists are expressed as ```[]```<br>\n",
    "Dicts are ```{}``` <br>\n",
    "Sets are also ```{}```, except they don't have the colons separating the key:value pairs<br>\n",
    "Tuples are in ```()```"
   ]
  },
  {
   "cell_type": "code",
   "execution_count": 2,
   "metadata": {},
   "outputs": [
    {
     "data": {
      "text/plain": [
       "{'first': ['John', 'Jane'], 2: (1, 2, 3)}"
      ]
     },
     "execution_count": 2,
     "metadata": {},
     "output_type": "execute_result"
    }
   ],
   "source": [
    "empty_dict = {}\n",
    "dict1 = {'first': ['John', 'Jane'], 2: (1,2,3)}\n",
    "dict1"
   ]
  },
  {
   "cell_type": "code",
   "execution_count": 3,
   "metadata": {},
   "outputs": [
    {
     "data": {
      "text/plain": [
       "dict"
      ]
     },
     "execution_count": 3,
     "metadata": {},
     "output_type": "execute_result"
    }
   ],
   "source": [
    "type(dict1)"
   ]
  },
  {
   "cell_type": "code",
   "execution_count": 4,
   "metadata": {},
   "outputs": [
    {
     "data": {
      "text/plain": [
       "['a', 2, 4, 'python']"
      ]
     },
     "execution_count": 4,
     "metadata": {},
     "output_type": "execute_result"
    }
   ],
   "source": [
    "empty_list = []\n",
    "list1 = ['a', 2,4, 'python']\n",
    "list1"
   ]
  },
  {
   "cell_type": "code",
   "execution_count": 5,
   "metadata": {},
   "outputs": [
    {
     "data": {
      "text/plain": [
       "list"
      ]
     },
     "execution_count": 5,
     "metadata": {},
     "output_type": "execute_result"
    }
   ],
   "source": [
    "type(list1)"
   ]
  },
  {
   "cell_type": "code",
   "execution_count": 6,
   "metadata": {},
   "outputs": [
    {
     "data": {
      "text/plain": [
       "(1, 3, 4)"
      ]
     },
     "execution_count": 6,
     "metadata": {},
     "output_type": "execute_result"
    }
   ],
   "source": [
    "set1 = {1,2,4,5} # Sets can do intersect, union and difference\n",
    "tuple1 = 1, 3, 4 # or\n",
    "tuple1 = (1, 3, 4)\n",
    "tuple1"
   ]
  },
  {
   "cell_type": "markdown",
   "metadata": {},
   "source": [
    "***\n",
    "## Numpy arrays"
   ]
  },
  {
   "cell_type": "markdown",
   "metadata": {},
   "source": [
    "Everything that Numpy touches ends as an array, just like everything from a pandas function is a dataframe.  Easiest way to generate a random array is `np.random.randn(2,3)` which will give an array with dimensions 2,3.  You can pick any other dimensions too.  `randn` gives random normal numbers."
   ]
  },
  {
   "cell_type": "code",
   "execution_count": 7,
   "metadata": {},
   "outputs": [
    {
     "data": {
      "text/plain": [
       "array([[[ 0.01859175,  0.91285871, -0.27777784,  1.1778876 ],\n",
       "        [-1.3581386 , -0.22362897, -1.40181201, -0.42405101],\n",
       "        [ 0.93268656, -0.56882653, -1.00474979, -0.73055752]],\n",
       "\n",
       "       [[-0.73352888, -0.38972479, -2.01955289,  0.67861684],\n",
       "        [ 1.08576053,  0.15419767, -0.85740564, -0.90513423],\n",
       "        [ 1.48783125, -0.48552499, -1.29105235,  0.88736602]]])"
      ]
     },
     "execution_count": 7,
     "metadata": {},
     "output_type": "execute_result"
    }
   ],
   "source": [
    "data = np.random.randn(2, 3, 4)\n",
    "data\n",
    "# The number of `[` gives the number of dimensions in the array.  \n",
    "# Two are represented on screen, the rows and columns.  All others appear afterwards.\n",
    "# The last two dimensions, eg here 3, 4 represent rows and columns.  The 2, the first one, means there are two \n",
    "# sets of these rows and columns in the array."
   ]
  },
  {
   "cell_type": "code",
   "execution_count": 8,
   "metadata": {},
   "outputs": [
    {
     "data": {
      "text/plain": [
       "array([[[[66, 64, 23, 74],\n",
       "         [29, 70, 85, 75]],\n",
       "\n",
       "        [[52, 23, 23, 75],\n",
       "         [27, 36, 34, 26]],\n",
       "\n",
       "        [[37, 60, 62, 95],\n",
       "         [42, 47,  7, 30]]],\n",
       "\n",
       "\n",
       "       [[[79, 41, 91, 68],\n",
       "         [86, 50, 60, 85]],\n",
       "\n",
       "        [[54,  3, 46, 17],\n",
       "         [ 2, 82, 29, 82]],\n",
       "\n",
       "        [[33,  7, 90, 71],\n",
       "         [67,  5, 10, 31]]]])"
      ]
     },
     "execution_count": 8,
     "metadata": {},
     "output_type": "execute_result"
    }
   ],
   "source": [
    "# Now let us add another dimension.  But this time random integers than random normal.\n",
    "# However randint requires specifying low and high for the uniform distribution.\n",
    "data = np.random.randint(low = 1, high = 100, size = (2,3,2,4))\n",
    "data"
   ]
  },
  {
   "cell_type": "markdown",
   "metadata": {},
   "source": [
    "So there will be a collection of 2 rows x 4 columns matrices, repeated 3 times, and that entire set another 2 times. <br><br>\n",
    "And the 4 occurrences of `[[[[` means there are 4 dimensions to the array."
   ]
  },
  {
   "cell_type": "code",
   "execution_count": 9,
   "metadata": {},
   "outputs": [
    {
     "data": {
      "text/plain": [
       "numpy.ndarray"
      ]
     },
     "execution_count": 9,
     "metadata": {},
     "output_type": "execute_result"
    }
   ],
   "source": [
    "type(data)"
   ]
  },
  {
   "cell_type": "code",
   "execution_count": 10,
   "metadata": {},
   "outputs": [
    {
     "data": {
      "text/plain": [
       "[0, 1, 2, 3, 4, 5, 6, 7, 8, 9, 10, 11]"
      ]
     },
     "execution_count": 10,
     "metadata": {},
     "output_type": "execute_result"
    }
   ],
   "source": [
    "# Converting a list to an array\n",
    "list1 = list(range(12))\n",
    "list1"
   ]
  },
  {
   "cell_type": "code",
   "execution_count": 11,
   "metadata": {},
   "outputs": [
    {
     "data": {
      "text/plain": [
       "array([ 0,  1,  2,  3,  4,  5,  6,  7,  8,  9, 10, 11])"
      ]
     },
     "execution_count": 11,
     "metadata": {},
     "output_type": "execute_result"
    }
   ],
   "source": [
    "array1 = np.array(list1)\n",
    "array1"
   ]
  },
  {
   "cell_type": "code",
   "execution_count": 12,
   "metadata": {},
   "outputs": [
    {
     "data": {
      "text/plain": [
       "array([[ 0,  1,  2,  3],\n",
       "       [ 4,  5,  6,  7],\n",
       "       [ 8,  9, 10, 11]])"
      ]
     },
     "execution_count": 12,
     "metadata": {},
     "output_type": "execute_result"
    }
   ],
   "source": [
    "# This array1 is one dimensional, let us convert to a 3x4 array.\n",
    "array1.shape = (3,4)\n",
    "array1"
   ]
  },
  {
   "cell_type": "markdown",
   "metadata": {},
   "source": [
    "### Create arrays"
   ]
  },
  {
   "cell_type": "code",
   "execution_count": 13,
   "metadata": {},
   "outputs": [
    {
     "data": {
      "text/plain": [
       "array([[0., 0., 0.],\n",
       "       [0., 0., 0.]])"
      ]
     },
     "execution_count": 13,
     "metadata": {},
     "output_type": "execute_result"
    }
   ],
   "source": [
    "array1 = np.zeros((2,3)) # The dimensions must be a tuple inside the brackets\n",
    "array1"
   ]
  },
  {
   "cell_type": "code",
   "execution_count": 14,
   "metadata": {},
   "outputs": [
    {
     "data": {
      "text/plain": [
       "array([ 0,  1,  2,  3,  4,  5,  6,  7,  8,  9, 10, 11])"
      ]
     },
     "execution_count": 14,
     "metadata": {},
     "output_type": "execute_result"
    }
   ],
   "source": [
    "array1 = np.arange((12))\n",
    "array1"
   ]
  },
  {
   "cell_type": "code",
   "execution_count": 15,
   "metadata": {},
   "outputs": [
    {
     "data": {
      "text/plain": [
       "array([[ 0,  1,  2,  3],\n",
       "       [ 4,  5,  6,  7],\n",
       "       [ 8,  9, 10, 11]])"
      ]
     },
     "execution_count": 15,
     "metadata": {},
     "output_type": "execute_result"
    }
   ],
   "source": [
    "array1.reshape(3,4) #You can reshape the dimensions of an array"
   ]
  },
  {
   "cell_type": "code",
   "execution_count": 16,
   "metadata": {},
   "outputs": [
    {
     "data": {
      "text/plain": [
       "array([[[ 0,  1],\n",
       "        [ 2,  3]],\n",
       "\n",
       "       [[ 4,  5],\n",
       "        [ 6,  7]],\n",
       "\n",
       "       [[ 8,  9],\n",
       "        [10, 11]]])"
      ]
     },
     "execution_count": 16,
     "metadata": {},
     "output_type": "execute_result"
    }
   ],
   "source": [
    "array1.reshape(3,2,2)"
   ]
  },
  {
   "cell_type": "code",
   "execution_count": 17,
   "metadata": {},
   "outputs": [
    {
     "data": {
      "text/plain": [
       "array([[1., 1., 1., 1., 1.],\n",
       "       [1., 1., 1., 1., 1.],\n",
       "       [1., 1., 1., 1., 1.]])"
      ]
     },
     "execution_count": 17,
     "metadata": {},
     "output_type": "execute_result"
    }
   ],
   "source": [
    "array1 = np.ones((3,5))\n",
    "array1"
   ]
  },
  {
   "cell_type": "code",
   "execution_count": 18,
   "metadata": {},
   "outputs": [
    {
     "data": {
      "text/plain": [
       "array([[1., 0., 0., 0.],\n",
       "       [0., 1., 0., 0.],\n",
       "       [0., 0., 1., 0.],\n",
       "       [0., 0., 0., 1.]])"
      ]
     },
     "execution_count": 18,
     "metadata": {},
     "output_type": "execute_result"
    }
   ],
   "source": [
    "array1 = np.eye(4) #Creates the identity matrix \n",
    "array1"
   ]
  },
  {
   "cell_type": "markdown",
   "metadata": {},
   "source": [
    " **All math on arrays is element wise, and scalars are multiplied/added with each element.**"
   ]
  },
  {
   "cell_type": "code",
   "execution_count": 19,
   "metadata": {},
   "outputs": [
    {
     "data": {
      "text/plain": [
       "array([[5., 4., 4., 4.],\n",
       "       [4., 5., 4., 4.],\n",
       "       [4., 4., 5., 4.],\n",
       "       [4., 4., 4., 5.]])"
      ]
     },
     "execution_count": 19,
     "metadata": {},
     "output_type": "execute_result"
    }
   ],
   "source": [
    "array1 + 4"
   ]
  },
  {
   "cell_type": "code",
   "execution_count": 21,
   "metadata": {},
   "outputs": [
    {
     "data": {
      "text/plain": [
       "array([[False, False, False, False],\n",
       "       [False, False, False, False],\n",
       "       [False, False,  True, False],\n",
       "       [False, False, False,  True]])"
      ]
     },
     "execution_count": 21,
     "metadata": {},
     "output_type": "execute_result"
    }
   ],
   "source": [
    "array1 > np.random.randint(0, 2, (4,4))"
   ]
  },
  {
   "cell_type": "code",
   "execution_count": 22,
   "metadata": {},
   "outputs": [
    {
     "data": {
      "text/plain": [
       "array([[3., 2., 2., 2.],\n",
       "       [2., 3., 2., 2.],\n",
       "       [2., 2., 3., 2.],\n",
       "       [2., 2., 2., 3.]])"
      ]
     },
     "execution_count": 22,
     "metadata": {},
     "output_type": "execute_result"
    }
   ],
   "source": [
    "array1 + 2"
   ]
  },
  {
   "cell_type": "code",
   "execution_count": 23,
   "metadata": {},
   "outputs": [
    {
     "data": {
      "text/plain": [
       "4.0"
      ]
     },
     "execution_count": 23,
     "metadata": {},
     "output_type": "execute_result"
    }
   ],
   "source": [
    "np.sum(array1) # adds all the elements of an array"
   ]
  },
  {
   "cell_type": "code",
   "execution_count": 24,
   "metadata": {},
   "outputs": [
    {
     "data": {
      "text/plain": [
       "array([1., 1., 1., 1.])"
      ]
     },
     "execution_count": 24,
     "metadata": {},
     "output_type": "execute_result"
    }
   ],
   "source": [
    "np.sum(array1, axis = 0) # adds all elements of the array along a particular axis"
   ]
  },
  {
   "cell_type": "markdown",
   "metadata": {},
   "source": [
    "### Subsetting arrays ('slices')\n",
    "The confusing thing is that the first element of every dimension is 0.  The portion of the dimension you wish to select is given in the form `start:finish` where the `start` element is included, but the `finish` is excluded.  So `1:3` means include 1 and 2 but not 3."
   ]
  },
  {
   "cell_type": "code",
   "execution_count": 25,
   "metadata": {},
   "outputs": [
    {
     "data": {
      "text/plain": [
       "array([[57, 21, 33, 90, 24],\n",
       "       [95, 63, 95, 10, 13],\n",
       "       [74, 12, 40, 90, 17]])"
      ]
     },
     "execution_count": 25,
     "metadata": {},
     "output_type": "execute_result"
    }
   ],
   "source": [
    "array1 = np.random.randint(0, 100, (3,5))\n",
    "array1"
   ]
  },
  {
   "cell_type": "code",
   "execution_count": 26,
   "metadata": {},
   "outputs": [
    {
     "data": {
      "text/plain": [
       "array([[57, 21],\n",
       "       [95, 63]])"
      ]
     },
     "execution_count": 26,
     "metadata": {},
     "output_type": "execute_result"
    }
   ],
   "source": [
    "array1[0:2, 0:2]"
   ]
  },
  {
   "cell_type": "code",
   "execution_count": 27,
   "metadata": {},
   "outputs": [
    {
     "data": {
      "text/plain": [
       "array([[57, 21],\n",
       "       [95, 63],\n",
       "       [74, 12]])"
      ]
     },
     "execution_count": 27,
     "metadata": {},
     "output_type": "execute_result"
    }
   ],
   "source": [
    "array1[:,0:2] # ':' means include everything"
   ]
  },
  {
   "cell_type": "code",
   "execution_count": 28,
   "metadata": {},
   "outputs": [
    {
     "data": {
      "text/plain": [
       "array([[57, 21, 33, 90, 24],\n",
       "       [95, 63, 95, 10, 13]])"
      ]
     },
     "execution_count": 28,
     "metadata": {},
     "output_type": "execute_result"
    }
   ],
   "source": [
    "\n",
    "\n",
    "array1[0:2]"
   ]
  },
  {
   "cell_type": "code",
   "execution_count": 29,
   "metadata": {},
   "outputs": [
    {
     "data": {
      "text/plain": [
       "array([[57, 21, 33, 90, 24],\n",
       "       [95, 63, 95, 10, 13]])"
      ]
     },
     "execution_count": 29,
     "metadata": {},
     "output_type": "execute_result"
    }
   ],
   "source": [
    "#Slices are references to the original array.  So you if you need a copy, use the below:\n",
    "array1[0:2].copy()"
   ]
  },
  {
   "cell_type": "markdown",
   "metadata": {},
   "source": [
    "Generally, use the above 'Long Form' way for slicing where you specify the indices for each dimension. Where everything is to be included, use `:`.  There are other short-cut methods of slicing, but can leave those as is.\n",
    "\n",
    "Imagine an array a1 with dimensions (3, 5, 2, 4).  This means:\n",
    " - This array has 3 arrays in it that have the dimensions (5, 2, 4)\n",
    " - Each of these 3 arrays have 5 additional arrays each in them of the dimension (2,4).  (So there are 3*5=15 of these 2x4 arrays)\n",
    " - Each of these (2,4) arrays has 2 one-dimensional arrays with 4 columns.\n",
    " \n",
    "If in the slice notation only a portion of what to include is specified, eg a1[0], then it means we are asking for the first one of these bullets, ie the dimension parameters are specifying from the left of (3, 5, 2, 4).  It means give me the first of the 3 arrays with size (5,2,4).  \n",
    "\n",
    "If the slice notation says a1[0,1], then it means 0th element of the first dim, and 1st element of the second dim.\n",
    "\n",
    "Check it out using the following code:"
   ]
  },
  {
   "cell_type": "code",
   "execution_count": 30,
   "metadata": {},
   "outputs": [
    {
     "data": {
      "text/plain": [
       "array([[[[23, 63, 63,  2, 38],\n",
       "         [23, 16, 63, 97, 69]],\n",
       "\n",
       "        [[ 8, 96, 96,  2, 10],\n",
       "         [11, 86, 80,  0, 98]],\n",
       "\n",
       "        [[52, 51,  6, 34, 77],\n",
       "         [24, 32, 26, 36, 32]],\n",
       "\n",
       "        [[45, 99, 37, 33, 23],\n",
       "         [94, 26, 10, 94, 99]]],\n",
       "\n",
       "\n",
       "       [[[92, 52, 96, 47,  3],\n",
       "         [52, 69, 23, 66, 71]],\n",
       "\n",
       "        [[39,  8, 43, 62, 91],\n",
       "         [35, 77, 33, 25, 10]],\n",
       "\n",
       "        [[42, 93, 97, 12, 44],\n",
       "         [ 3, 61, 82, 38,  0]],\n",
       "\n",
       "        [[89, 19, 85, 54, 81],\n",
       "         [64,  6, 52, 20, 30]]],\n",
       "\n",
       "\n",
       "       [[[27, 33, 88, 22, 51],\n",
       "         [62, 53,  4, 43, 64]],\n",
       "\n",
       "        [[85,  5, 22, 75,  0],\n",
       "         [19, 41,  4, 64, 46]],\n",
       "\n",
       "        [[16, 60, 71,  6,  4],\n",
       "         [ 1, 46, 95, 83, 21]],\n",
       "\n",
       "        [[28, 64, 93, 33,  6],\n",
       "         [51, 96, 47, 98, 28]]]])"
      ]
     },
     "execution_count": 30,
     "metadata": {},
     "output_type": "execute_result"
    }
   ],
   "source": [
    "a1 = np.random.randint(0, 100, (3,4,2,5))\n",
    "a1"
   ]
  },
  {
   "cell_type": "code",
   "execution_count": 31,
   "metadata": {},
   "outputs": [
    {
     "data": {
      "text/plain": [
       "(4, 2, 5)"
      ]
     },
     "execution_count": 31,
     "metadata": {},
     "output_type": "execute_result"
    }
   ],
   "source": [
    "a1[0].shape"
   ]
  },
  {
   "cell_type": "code",
   "execution_count": 32,
   "metadata": {},
   "outputs": [
    {
     "data": {
      "text/plain": [
       "array([[[23, 63, 63,  2, 38],\n",
       "        [23, 16, 63, 97, 69]],\n",
       "\n",
       "       [[ 8, 96, 96,  2, 10],\n",
       "        [11, 86, 80,  0, 98]],\n",
       "\n",
       "       [[52, 51,  6, 34, 77],\n",
       "        [24, 32, 26, 36, 32]],\n",
       "\n",
       "       [[45, 99, 37, 33, 23],\n",
       "        [94, 26, 10, 94, 99]]])"
      ]
     },
     "execution_count": 32,
     "metadata": {},
     "output_type": "execute_result"
    }
   ],
   "source": [
    "a1[0]"
   ]
  },
  {
   "cell_type": "code",
   "execution_count": 33,
   "metadata": {},
   "outputs": [
    {
     "data": {
      "text/plain": [
       "array([[ 8, 96, 96,  2, 10],\n",
       "       [11, 86, 80,  0, 98]])"
      ]
     },
     "execution_count": 33,
     "metadata": {},
     "output_type": "execute_result"
    }
   ],
   "source": [
    "a1[0,1]"
   ]
  },
  {
   "cell_type": "markdown",
   "metadata": {},
   "source": [
    "### Picking selected rows or columns"
   ]
  },
  {
   "cell_type": "code",
   "execution_count": 34,
   "metadata": {},
   "outputs": [
    {
     "data": {
      "text/plain": [
       "array([[17, 89, 41, 63, 93, 89, 84, 29, 14],\n",
       "       [45, 76, 37, 60, 76, 15, 88, 19, 89],\n",
       "       [34, 34, 53, 22, 65,  4, 38, 31, 86],\n",
       "       [74, 40, 66, 99, 94, 97, 29, 90, 31],\n",
       "       [91, 68, 48, 25,  9, 44, 35, 18, 12],\n",
       "       [45, 59,  5, 92, 17, 93, 69, 80,  2],\n",
       "       [ 3, 54, 29, 14, 30, 29, 38, 40, 86],\n",
       "       [53, 79, 89, 34, 65, 69, 96, 59,  6]])"
      ]
     },
     "execution_count": 34,
     "metadata": {},
     "output_type": "execute_result"
    }
   ],
   "source": [
    "a1 = np.random.randint(0, 100, (8,9))\n",
    "a1"
   ]
  },
  {
   "cell_type": "code",
   "execution_count": 35,
   "metadata": {},
   "outputs": [
    {
     "data": {
      "text/plain": [
       "array([[17, 89, 41, 63, 93, 89, 84, 29, 14],\n",
       "       [74, 40, 66, 99, 94, 97, 29, 90, 31]])"
      ]
     },
     "execution_count": 35,
     "metadata": {},
     "output_type": "execute_result"
    }
   ],
   "source": [
    "a1[[0,3]] #pick the first and the fourth rows"
   ]
  },
  {
   "cell_type": "code",
   "execution_count": 36,
   "metadata": {},
   "outputs": [
    {
     "data": {
      "text/plain": [
       "array([[17, 89],\n",
       "       [74, 40]])"
      ]
     },
     "execution_count": 36,
     "metadata": {},
     "output_type": "execute_result"
    }
   ],
   "source": [
    "a1[[0, 3]][:,[0, 1]] # Named rows and columns.  \n",
    "# Note that a1[[0, 3],[0, 1]] does not work as expected, it selects two points (0,0)and (3,1).  Really crazy but it is\n",
    "# what it is."
   ]
  },
  {
   "cell_type": "markdown",
   "metadata": {},
   "source": [
    "## `argsort` \n",
    "Which is sort, and show index numbers instead of the values"
   ]
  },
  {
   "cell_type": "code",
   "execution_count": 37,
   "metadata": {},
   "outputs": [
    {
     "name": "stdout",
     "output_type": "stream",
     "text": [
      "a = np.array([20,10,30,0])\n",
      "\n",
      "\n",
      "Regular ascending argsort\n",
      "np.argsort(a)\n",
      "[3 1 0 2]\n",
      "\n",
      "\n",
      "Descending argsort\n",
      "b = np.argsort(a)[::-1]\n",
      "[2 0 1 3]\n",
      "\n",
      "\n",
      "How to use the argsort to actually perform a sort\n",
      "[30 20 10  0]\n"
     ]
    }
   ],
   "source": [
    "a = np.array([20,10,30,0])\n",
    "print(\"a = np.array([20,10,30,0])\")\n",
    "print('\\n')\n",
    "print('Regular ascending argsort')\n",
    "print(\"np.argsort(a)\")\n",
    "print(np.argsort(a))\n",
    "print('\\n')\n",
    "print('Descending argsort')\n",
    "print(\"b = np.argsort(a)[::-1]\")\n",
    "b = np.argsort(a)[::-1]\n",
    "print(b)\n",
    "print(\"\\n\")\n",
    "print('How to use the argsort to actually perform a sort')\n",
    "print(a[b])"
   ]
  },
  {
   "cell_type": "markdown",
   "metadata": {},
   "source": [
    "### Dot product\n",
    "**Size of a vector, angle between vectors, distance between vectors**"
   ]
  },
  {
   "cell_type": "code",
   "execution_count": 38,
   "metadata": {},
   "outputs": [],
   "source": [
    "a = np.array([1,2,3]); b = np.array([5,4,3])"
   ]
  },
  {
   "cell_type": "code",
   "execution_count": 39,
   "metadata": {},
   "outputs": [
    {
     "data": {
      "text/plain": [
       "3.7416573867739413"
      ]
     },
     "execution_count": 39,
     "metadata": {},
     "output_type": "execute_result"
    }
   ],
   "source": [
    "np.linalg.norm(a) # Size of the vector, computed as the root of the squares of each of the elements"
   ]
  },
  {
   "cell_type": "code",
   "execution_count": 40,
   "metadata": {},
   "outputs": [
    {
     "data": {
      "text/plain": [
       "4.47213595499958"
      ]
     },
     "execution_count": 40,
     "metadata": {},
     "output_type": "execute_result"
    }
   ],
   "source": [
    "np.linalg.norm(a - b) # Distance between two vectora"
   ]
  },
  {
   "cell_type": "code",
   "execution_count": 41,
   "metadata": {},
   "outputs": [
    {
     "data": {
      "text/plain": [
       "0.5889546074455115"
      ]
     },
     "execution_count": 41,
     "metadata": {},
     "output_type": "execute_result"
    }
   ],
   "source": [
    "np.arccos(np.dot(a,b) / (np.linalg.norm(a) * np.linalg.norm(b))) \n",
    "\n",
    "# Angle in radians between two vectors. To get the\n",
    "# answer in degrees, multiply by 180/pi, or 180/math.pi (after import math).  Also there is a function in math called\n",
    "# math.radians to get radians from degrees, or math.degrees(x) to convert angle x from radians to degrees."
   ]
  },
  {
   "cell_type": "code",
   "execution_count": 42,
   "metadata": {},
   "outputs": [
    {
     "data": {
      "text/plain": [
       "0.5889546074455115"
      ]
     },
     "execution_count": 42,
     "metadata": {},
     "output_type": "execute_result"
    }
   ],
   "source": [
    "math.acos(np.dot(a,b) / (np.linalg.norm(a) * np.linalg.norm(b))) # Same as above using math.acos instead of np.arccos"
   ]
  },
  {
   "cell_type": "markdown",
   "metadata": {},
   "source": [
    "***"
   ]
  },
  {
   "cell_type": "markdown",
   "metadata": {},
   "source": [
    "## Matrix math"
   ]
  },
  {
   "cell_type": "markdown",
   "metadata": {},
   "source": [
    "Numpy has arrays as well as matrices.  Matrices are 2D, arrays can have any number of dimensions. The only real difference between a matrix (type = `numpy.matrix`) and an array (type = `numpy.ndarray`) is that all array operations are element wise, ie the special R x C matrix multiplication does not apply to arrays.  However, for an array that is 2 x 2 in shape you can use the `@` operator to do matrix math.\n",
    "\n",
    "So that leaves matrices and arrays interchangeable in a practical sense.  Except that you can't do an inverse of an array using `.I` which you can for a matrix."
   ]
  },
  {
   "cell_type": "code",
   "execution_count": 43,
   "metadata": {},
   "outputs": [],
   "source": [
    "# Create a matrix 'm' and an array 'a' that are identical\n",
    "m = np.matrix(np.random.randint(0,10,(3,3)))\n",
    "a = np.array(m)"
   ]
  },
  {
   "cell_type": "code",
   "execution_count": 44,
   "metadata": {},
   "outputs": [
    {
     "data": {
      "text/plain": [
       "matrix([[0, 4, 0],\n",
       "        [0, 8, 3],\n",
       "        [6, 6, 7]])"
      ]
     },
     "execution_count": 44,
     "metadata": {},
     "output_type": "execute_result"
    }
   ],
   "source": [
    "m"
   ]
  },
  {
   "cell_type": "code",
   "execution_count": 45,
   "metadata": {},
   "outputs": [
    {
     "data": {
      "text/plain": [
       "array([[0, 4, 0],\n",
       "       [0, 8, 3],\n",
       "       [6, 6, 7]])"
      ]
     },
     "execution_count": 45,
     "metadata": {},
     "output_type": "execute_result"
    }
   ],
   "source": [
    "a"
   ]
  },
  {
   "cell_type": "markdown",
   "metadata": {},
   "source": [
    "### Transpose with a `.T`"
   ]
  },
  {
   "cell_type": "code",
   "execution_count": 46,
   "metadata": {},
   "outputs": [
    {
     "data": {
      "text/plain": [
       "matrix([[0, 0, 6],\n",
       "        [4, 8, 6],\n",
       "        [0, 3, 7]])"
      ]
     },
     "execution_count": 46,
     "metadata": {},
     "output_type": "execute_result"
    }
   ],
   "source": [
    "m.T"
   ]
  },
  {
   "cell_type": "code",
   "execution_count": 47,
   "metadata": {},
   "outputs": [
    {
     "data": {
      "text/plain": [
       "array([[0, 0, 6],\n",
       "       [4, 8, 6],\n",
       "       [0, 3, 7]])"
      ]
     },
     "execution_count": 47,
     "metadata": {},
     "output_type": "execute_result"
    }
   ],
   "source": [
    "a.T"
   ]
  },
  {
   "cell_type": "markdown",
   "metadata": {},
   "source": [
    "## Inverse with a `.I` \n",
    "**Does not work for arrays**"
   ]
  },
  {
   "cell_type": "code",
   "execution_count": 48,
   "metadata": {},
   "outputs": [
    {
     "data": {
      "text/plain": [
       "matrix([[ 0.52777778, -0.38888889,  0.16666667],\n",
       "        [ 0.25      ,  0.        ,  0.        ],\n",
       "        [-0.66666667,  0.33333333, -0.        ]])"
      ]
     },
     "execution_count": 48,
     "metadata": {},
     "output_type": "execute_result"
    }
   ],
   "source": [
    "m.I"
   ]
  },
  {
   "cell_type": "markdown",
   "metadata": {},
   "source": [
    "### Matrix multiplication\n",
    "For matrices, just a `*` suffices for matrix multiplication.  If using arrays, use `@` for matrix multiplication, which also works for matrices.  So just to be safe, just use `@`.\n",
    "\n",
    "**Dot-product** is the same as row-by-column matrix multiplication, and is not elementwise."
   ]
  },
  {
   "cell_type": "code",
   "execution_count": 49,
   "metadata": {},
   "outputs": [],
   "source": [
    "a=np.matrix([[4, 3], [2, 1]])\n",
    "b=np.mat([[1, 2], [3, 4]])"
   ]
  },
  {
   "cell_type": "code",
   "execution_count": 50,
   "metadata": {},
   "outputs": [
    {
     "data": {
      "text/plain": [
       "matrix([[4, 3],\n",
       "        [2, 1]])"
      ]
     },
     "execution_count": 50,
     "metadata": {},
     "output_type": "execute_result"
    }
   ],
   "source": [
    "a"
   ]
  },
  {
   "cell_type": "code",
   "execution_count": 51,
   "metadata": {},
   "outputs": [
    {
     "data": {
      "text/plain": [
       "matrix([[1, 2],\n",
       "        [3, 4]])"
      ]
     },
     "execution_count": 51,
     "metadata": {},
     "output_type": "execute_result"
    }
   ],
   "source": [
    "b"
   ]
  },
  {
   "cell_type": "code",
   "execution_count": 52,
   "metadata": {},
   "outputs": [
    {
     "data": {
      "text/plain": [
       "matrix([[13, 20],\n",
       "        [ 5,  8]])"
      ]
     },
     "execution_count": 52,
     "metadata": {},
     "output_type": "execute_result"
    }
   ],
   "source": [
    "a*b"
   ]
  },
  {
   "cell_type": "code",
   "execution_count": 53,
   "metadata": {},
   "outputs": [
    {
     "data": {
      "text/plain": [
       "matrix([[13, 20],\n",
       "        [ 5,  8]])"
      ]
     },
     "execution_count": 53,
     "metadata": {},
     "output_type": "execute_result"
    }
   ],
   "source": [
    "a@b"
   ]
  },
  {
   "cell_type": "code",
   "execution_count": 54,
   "metadata": {},
   "outputs": [],
   "source": [
    "# Now check with arrays\n",
    "a=np.array([[4, 3], [2, 1]])\n",
    "b=np.array([[1, 2], [3, 4]])"
   ]
  },
  {
   "cell_type": "code",
   "execution_count": 55,
   "metadata": {},
   "outputs": [
    {
     "data": {
      "text/plain": [
       "array([[13, 20],\n",
       "       [ 5,  8]])"
      ]
     },
     "execution_count": 55,
     "metadata": {},
     "output_type": "execute_result"
    }
   ],
   "source": [
    "a@b # does matrix multiplication.  "
   ]
  },
  {
   "cell_type": "code",
   "execution_count": 56,
   "metadata": {},
   "outputs": [
    {
     "data": {
      "text/plain": [
       "array([[4, 3],\n",
       "       [2, 1]])"
      ]
     },
     "execution_count": 56,
     "metadata": {},
     "output_type": "execute_result"
    }
   ],
   "source": [
    "a"
   ]
  },
  {
   "cell_type": "code",
   "execution_count": 57,
   "metadata": {},
   "outputs": [
    {
     "data": {
      "text/plain": [
       "array([[1, 2],\n",
       "       [3, 4]])"
      ]
     },
     "execution_count": 57,
     "metadata": {},
     "output_type": "execute_result"
    }
   ],
   "source": [
    "b"
   ]
  },
  {
   "cell_type": "code",
   "execution_count": 58,
   "metadata": {},
   "outputs": [
    {
     "data": {
      "text/plain": [
       "array([[4, 6],\n",
       "       [6, 4]])"
      ]
     },
     "execution_count": 58,
     "metadata": {},
     "output_type": "execute_result"
    }
   ],
   "source": [
    "a*b # element-wise multiplication as a and b are arrays"
   ]
  },
  {
   "cell_type": "markdown",
   "metadata": {},
   "source": [
    "`@` is the same as `np.dot(a, b)`, which is just a longer fully spelled out function."
   ]
  },
  {
   "cell_type": "code",
   "execution_count": 59,
   "metadata": {},
   "outputs": [
    {
     "data": {
      "text/plain": [
       "array([[13, 20],\n",
       "       [ 5,  8]])"
      ]
     },
     "execution_count": 59,
     "metadata": {},
     "output_type": "execute_result"
    }
   ],
   "source": [
    "np.dot(a,b)"
   ]
  },
  {
   "cell_type": "markdown",
   "metadata": {},
   "source": [
    "### Time your code with `%time`"
   ]
  },
  {
   "cell_type": "code",
   "execution_count": 60,
   "metadata": {},
   "outputs": [
    {
     "ename": "ValueError",
     "evalue": "shapes (3,5) and (3,5) not aligned: 5 (dim 1) != 3 (dim 0)",
     "output_type": "error",
     "traceback": [
      "\u001b[1;31m---------------------------------------------------------------------------\u001b[0m",
      "\u001b[1;31mValueError\u001b[0m                                Traceback (most recent call last)",
      "\u001b[1;32m<timed eval>\u001b[0m in \u001b[0;36m<module>\u001b[1;34m\u001b[0m\n",
      "\u001b[1;32m<__array_function__ internals>\u001b[0m in \u001b[0;36mdot\u001b[1;34m(*args, **kwargs)\u001b[0m\n",
      "\u001b[1;31mValueError\u001b[0m: shapes (3,5) and (3,5) not aligned: 5 (dim 1) != 3 (dim 0)"
     ]
    }
   ],
   "source": [
    "%time np.dot(array1, array1)"
   ]
  },
  {
   "cell_type": "markdown",
   "metadata": {},
   "source": [
    "### Exponents with matrices and arrays `**`."
   ]
  },
  {
   "cell_type": "code",
   "execution_count": 61,
   "metadata": {},
   "outputs": [
    {
     "data": {
      "text/plain": [
       "matrix([[4, 3],\n",
       "        [2, 1]])"
      ]
     },
     "execution_count": 61,
     "metadata": {},
     "output_type": "execute_result"
    }
   ],
   "source": [
    "a = np.array([[4, 3], [2, 1]])\n",
    "m = np.matrix(a)\n",
    "m"
   ]
  },
  {
   "cell_type": "code",
   "execution_count": 62,
   "metadata": {},
   "outputs": [
    {
     "data": {
      "text/plain": [
       "array([[16,  9],\n",
       "       [ 4,  1]], dtype=int32)"
      ]
     },
     "execution_count": 62,
     "metadata": {},
     "output_type": "execute_result"
    }
   ],
   "source": [
    "a**2 # Because a is an array, this will square each element of a."
   ]
  },
  {
   "cell_type": "code",
   "execution_count": 63,
   "metadata": {},
   "outputs": [
    {
     "data": {
      "text/plain": [
       "matrix([[22, 15],\n",
       "        [10,  7]])"
      ]
     },
     "execution_count": 63,
     "metadata": {},
     "output_type": "execute_result"
    }
   ],
   "source": [
    "m**2 # Because m is a matrix, this will be read as m*m, and dot product of the matrix with itself will result."
   ]
  },
  {
   "cell_type": "markdown",
   "metadata": {},
   "source": [
    "which is same as `a@a`"
   ]
  },
  {
   "cell_type": "code",
   "execution_count": 64,
   "metadata": {},
   "outputs": [
    {
     "data": {
      "text/plain": [
       "array([[22, 15],\n",
       "       [10,  7]])"
      ]
     },
     "execution_count": 64,
     "metadata": {},
     "output_type": "execute_result"
    }
   ],
   "source": [
    "a@a"
   ]
  },
  {
   "cell_type": "markdown",
   "metadata": {},
   "source": [
    "### Modulus of a vector, matrix or an array\n",
    "The modulus is just sqrt(a^2 + b^2 + ....n^2), where a, b...n are elements of the vector, matrix or array.  Can be calculated using `np.linalg.norm(a)`"
   ]
  },
  {
   "cell_type": "code",
   "execution_count": 65,
   "metadata": {},
   "outputs": [
    {
     "data": {
      "text/plain": [
       "5.477225575051661"
      ]
     },
     "execution_count": 65,
     "metadata": {},
     "output_type": "execute_result"
    }
   ],
   "source": [
    "a = np.array([4,3,2,1])\n",
    "np.linalg.norm(a)"
   ]
  },
  {
   "cell_type": "code",
   "execution_count": 66,
   "metadata": {},
   "outputs": [
    {
     "data": {
      "text/plain": [
       "5.477225575051661"
      ]
     },
     "execution_count": 66,
     "metadata": {},
     "output_type": "execute_result"
    }
   ],
   "source": [
    "# Same as calculating manually\n",
    "(4**2 + 3**2 + 2**2 + 1**2) ** 0.5"
   ]
  },
  {
   "cell_type": "code",
   "execution_count": 67,
   "metadata": {},
   "outputs": [
    {
     "data": {
      "text/plain": [
       "array([[1, 2],\n",
       "       [3, 4]])"
      ]
     },
     "execution_count": 67,
     "metadata": {},
     "output_type": "execute_result"
    }
   ],
   "source": [
    "b\n"
   ]
  },
  {
   "cell_type": "code",
   "execution_count": 68,
   "metadata": {},
   "outputs": [
    {
     "data": {
      "text/plain": [
       "5.477225575051661"
      ]
     },
     "execution_count": 68,
     "metadata": {},
     "output_type": "execute_result"
    }
   ],
   "source": [
    "np.linalg.norm(b)"
   ]
  },
  {
   "cell_type": "code",
   "execution_count": 69,
   "metadata": {},
   "outputs": [
    {
     "data": {
      "text/plain": [
       "matrix([[4, 3],\n",
       "        [2, 1]])"
      ]
     },
     "execution_count": 69,
     "metadata": {},
     "output_type": "execute_result"
    }
   ],
   "source": [
    "m"
   ]
  },
  {
   "cell_type": "code",
   "execution_count": 70,
   "metadata": {},
   "outputs": [
    {
     "data": {
      "text/plain": [
       "5.477225575051661"
      ]
     },
     "execution_count": 70,
     "metadata": {},
     "output_type": "execute_result"
    }
   ],
   "source": [
    "np.linalg.norm(m)"
   ]
  },
  {
   "cell_type": "code",
   "execution_count": 71,
   "metadata": {},
   "outputs": [
    {
     "data": {
      "text/plain": [
       "matrix([[3, 6, 0],\n",
       "        [1, 9, 5],\n",
       "        [9, 1, 7]])"
      ]
     },
     "execution_count": 71,
     "metadata": {},
     "output_type": "execute_result"
    }
   ],
   "source": [
    "m = np.matrix(np.random.randint(0,10,(3,3)))\n",
    "m"
   ]
  },
  {
   "cell_type": "code",
   "execution_count": 72,
   "metadata": {},
   "outputs": [
    {
     "data": {
      "text/plain": [
       "16.822603841260722"
      ]
     },
     "execution_count": 72,
     "metadata": {},
     "output_type": "execute_result"
    }
   ],
   "source": [
    "np.linalg.norm(m)"
   ]
  },
  {
   "cell_type": "code",
   "execution_count": 73,
   "metadata": {},
   "outputs": [
    {
     "data": {
      "text/plain": [
       "19.339079605813716"
      ]
     },
     "execution_count": 73,
     "metadata": {},
     "output_type": "execute_result"
    }
   ],
   "source": [
    "(5**2 + 8**2 + 7**2 + 9**2 + 8**2 + 7**2 + 1**2 + 5**2 + 4**2) **0.5"
   ]
  },
  {
   "cell_type": "markdown",
   "metadata": {},
   "source": [
    "### Determinant of a matrix `np.linalg.det(a)`\n",
    "The determinant explains whether a matrix is expanding or shrinking space."
   ]
  },
  {
   "cell_type": "code",
   "execution_count": 74,
   "metadata": {},
   "outputs": [
    {
     "data": {
      "text/plain": [
       "401.99999999999966"
      ]
     },
     "execution_count": 74,
     "metadata": {},
     "output_type": "execute_result"
    }
   ],
   "source": [
    "np.linalg.det(m)"
   ]
  },
  {
   "cell_type": "markdown",
   "metadata": {},
   "source": [
    "### Converting from matrix to array and vice-versa\n",
    "`np.asmatrix` and `np.asarray` allow you to convert one to the other. Though above we have just used np.array and np.matrix without any issue.\n",
    "\n",
    "The above references: https://stackoverflow.com/questions/4151128/what-are-the-differences-between-numpy-arrays-and-matrices-which-one-should-i-u\n"
   ]
  },
  {
   "cell_type": "markdown",
   "metadata": {},
   "source": [
    "***\n",
    "## Understanding numpy axes"
   ]
  },
  {
   "cell_type": "code",
   "execution_count": 75,
   "metadata": {},
   "outputs": [
    {
     "name": "stdout",
     "output_type": "stream",
     "text": [
      "Shape:  (2, 3, 4)\n"
     ]
    },
    {
     "data": {
      "text/plain": [
       "array([[[1, 1, 2, 4],\n",
       "        [3, 3, 3, 2],\n",
       "        [3, 2, 3, 1]],\n",
       "\n",
       "       [[2, 1, 2, 4],\n",
       "        [4, 3, 1, 4],\n",
       "        [3, 2, 4, 4]]])"
      ]
     },
     "execution_count": 75,
     "metadata": {},
     "output_type": "execute_result"
    }
   ],
   "source": [
    "x = np.random.randint(low = 1, high = 5, size = (2,3,4))\n",
    "print('Shape: ', x.shape)\n",
    "x"
   ]
  },
  {
   "cell_type": "markdown",
   "metadata": {},
   "source": [
    "  \n",
    "  \n",
    "Shape is (2, 3, 4)  \n",
    "  \n",
    "axis = 0 means : (**2**, 3, 4)  \n",
    "axis = 1 means : (2, **3**, 4)  \n",
    "axis = 2 means : (2, 3, **4**)  "
   ]
  },
  {
   "cell_type": "markdown",
   "metadata": {},
   "source": [
    "  \n",
    "Numpy axes numbers run from left to right, starting with the index 0.  So `x.shape` gives me 2, 3, 4 which means 2 is the 0th axis, 3 rows are the 1st axis and 4 columns are the 2nd axis.  \n",
    "\n",
    "Putting the axis = n argument in a function makes axis n disappear, leaving only the rest of the dimensions.  So `np.sum(array_name, axis = n)`, similarly `mean()`, `min()`, `median()`, `std()` etc will calculate the aggregation function by collapsing all the elements of the selected axis number into one and performing that operation.  See below using the sum function.  \n",
    "  "
   ]
  },
  {
   "cell_type": "code",
   "execution_count": 76,
   "metadata": {},
   "outputs": [
    {
     "data": {
      "text/plain": [
       "array([[3, 2, 4, 8],\n",
       "       [7, 6, 4, 6],\n",
       "       [6, 4, 7, 5]])"
      ]
     },
     "execution_count": 76,
     "metadata": {},
     "output_type": "execute_result"
    }
   ],
   "source": [
    "# So with axis = 0, the very first dimension, ie the 2, will collapse leaving an array of shape (3,4)\n",
    "x.sum(axis = 0) # (3,4) will remain"
   ]
  },
  {
   "cell_type": "code",
   "execution_count": 77,
   "metadata": {},
   "outputs": [
    {
     "data": {
      "text/plain": [
       "array([[ 7,  6,  8,  7],\n",
       "       [ 9,  6,  7, 12]])"
      ]
     },
     "execution_count": 77,
     "metadata": {},
     "output_type": "execute_result"
    }
   ],
   "source": [
    "x.sum(axis = 1) # (2,4) will remain"
   ]
  },
  {
   "cell_type": "code",
   "execution_count": 78,
   "metadata": {},
   "outputs": [
    {
     "data": {
      "text/plain": [
       "array([[ 8, 11,  9],\n",
       "       [ 9, 12, 13]])"
      ]
     },
     "execution_count": 78,
     "metadata": {},
     "output_type": "execute_result"
    }
   ],
   "source": [
    "x.sum(axis = 2) # (2,3) will remain"
   ]
  },
  {
   "cell_type": "markdown",
   "metadata": {},
   "source": [
    "  \n",
    "That's about it!"
   ]
  }
 ],
 "metadata": {
  "kernelspec": {
   "display_name": "Python 3",
   "language": "python",
   "name": "python3"
  },
  "language_info": {
   "codemirror_mode": {
    "name": "ipython",
    "version": 3
   },
   "file_extension": ".py",
   "mimetype": "text/x-python",
   "name": "python",
   "nbconvert_exporter": "python",
   "pygments_lexer": "ipython3",
   "version": "3.7.6"
  }
 },
 "nbformat": 4,
 "nbformat_minor": 4
}
