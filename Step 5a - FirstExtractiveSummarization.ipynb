{
 "cells": [
  {
   "cell_type": "code",
   "execution_count": null,
   "metadata": {},
   "outputs": [],
   "source": [
    "### Extractive text summarization\n",
    "This notebook has a function at the end that can be used on any "
   ]
  },
  {
   "cell_type": "code",
   "execution_count": 2,
   "metadata": {
    "colab": {},
    "colab_type": "code",
    "id": "bPbQbqFkxxYO"
   },
   "outputs": [],
   "source": [
    "from tqdm import tqdm\n",
    "import joblib\n",
    "data = joblib.load('final_df3.pkl')"
   ]
  },
  {
   "cell_type": "code",
   "execution_count": 3,
   "metadata": {
    "colab": {},
    "colab_type": "code",
    "id": "qNkJZBpO1e5j"
   },
   "outputs": [],
   "source": [
    "def wrap(mytext):\n",
    "  import textwrap\n",
    "  wrapper = textwrap.TextWrapper(width=60)\n",
    "  word_list = wrapper.wrap(text=mytext) \n",
    "\n",
    "  # Print each line. \n",
    "  for element in word_list: \n",
    "      print(element) \n"
   ]
  },
  {
   "cell_type": "code",
   "execution_count": 6,
   "metadata": {
    "colab": {
     "base_uri": "https://localhost:8080/",
     "height": 68
    },
    "colab_type": "code",
    "executionInfo": {
     "elapsed": 733,
     "status": "ok",
     "timestamp": 1592173873012,
     "user": {
      "displayName": "Mukul Pareek",
      "photoUrl": "",
      "userId": "01102224183704244279"
     },
     "user_tz": 240
    },
    "id": "sk35GtFf0CvV",
    "outputId": "2a934f34-8f31-4929-b8a6-a324f2fd034e"
   },
   "outputs": [
    {
     "name": "stdout",
     "output_type": "stream",
     "text": [
      "Index(['title', 'summary_x', 'URL', 'published', 'keywords', 'summary_y',\n",
      "       'text'],\n",
      "      dtype='object')\n"
     ]
    }
   ],
   "source": [
    "print(data.columns)\n",
    "textonly = list(data.text)"
   ]
  },
  {
   "cell_type": "code",
   "execution_count": 4,
   "metadata": {
    "colab": {
     "base_uri": "https://localhost:8080/",
     "height": 51
    },
    "colab_type": "code",
    "executionInfo": {
     "elapsed": 576,
     "status": "ok",
     "timestamp": 1592172463428,
     "user": {
      "displayName": "Mukul Pareek",
      "photoUrl": "",
      "userId": "01102224183704244279"
     },
     "user_tz": 240
    },
    "id": "E8ohu6_JM8vW",
    "outputId": "982ddd49-0191-453d-ce85-05d64cf7a1e1"
   },
   "outputs": [
    {
     "name": "stderr",
     "output_type": "stream",
     "text": [
      "[nltk_data] Downloading package stopwords to\n",
      "[nltk_data]     C:\\Users\\user\\AppData\\Roaming\\nltk_data...\n",
      "[nltk_data]   Package stopwords is already up-to-date!\n"
     ]
    }
   ],
   "source": [
    "# Main function generate_summary defined in this cell, usage is generate_summary( text, number_of_sentences_to_return)\n",
    "# https://towardsdatascience.com/understand-text-summarization-and-create-your-own-summarizer-in-python-b26a9f09fc70\n",
    "\n",
    "from nltk.corpus import stopwords\n",
    "from nltk.cluster.util import cosine_distance\n",
    "import numpy as np\n",
    "import networkx as nx\n",
    "import nltk\n",
    "nltk.download('stopwords')\n",
    "import textwrap\n",
    " \n",
    "def read_article(text):\n",
    "  # file = open(file_name, 'r')\n",
    "  # filedata = file.readlines()\n",
    "  # filedata = [x for x in filedata if x != '\\n']\n",
    "  filedata = text\n",
    "  filedata = [x.replace('\\n',' ') for x in filedata]\n",
    "  filedata = ''.join(filedata)\n",
    "  filedata = filedata.split('. ')\n",
    "  sentences = []\n",
    "\n",
    "  for sentence in filedata:\n",
    "    sentences.append(sentence.replace('[^a-zA-Z]', ' ').split(' '))\n",
    "     \n",
    "  return sentences\n",
    "\n",
    "def sentence_similarity(sent1, sent2, stopwords=None):\n",
    "    if stopwords is None:\n",
    "        stopwords = []\n",
    " \n",
    "    sent1 = [w.lower() for w in sent1]\n",
    "    sent2 = [w.lower() for w in sent2]\n",
    " \n",
    "    all_words = list(set(sent1 + sent2))\n",
    " \n",
    "    vector1 = [0] * len(all_words)\n",
    "    vector2 = [0] * len(all_words)\n",
    " \n",
    "    # build the vector for the first sentence\n",
    "    for w in sent1:\n",
    "        if w in stopwords:\n",
    "            continue\n",
    "        vector1[all_words.index(w)] += 1\n",
    " \n",
    "    # build the vector for the second sentence\n",
    "    for w in sent2:\n",
    "        if w in stopwords:\n",
    "            continue\n",
    "        vector2[all_words.index(w)] += 1\n",
    " \n",
    "    return 1 - cosine_distance(vector1, vector2)\n",
    " \n",
    "def build_similarity_matrix(sentences, stop_words):\n",
    "    # Create an empty similarity matrix\n",
    "    similarity_matrix = np.zeros((len(sentences), len(sentences)))\n",
    " \n",
    "    for idx1 in range(len(sentences)):\n",
    "        for idx2 in range(len(sentences)):\n",
    "            if idx1 == idx2: #ignore if both are same sentences\n",
    "                continue \n",
    "            similarity_matrix[idx1][idx2] = sentence_similarity(sentences[idx1], sentences[idx2], stop_words)\n",
    "\n",
    "    return similarity_matrix\n",
    "\n",
    "\n",
    "def generate_summary(file_name, top_n=5):\n",
    "    stop_words = stopwords.words('english')\n",
    "    summarize_text = []\n",
    "\n",
    "    # Step 1 - Read text anc split it\n",
    "    sentences =  read_article(file_name)\n",
    "    if len(sentences) < top_n:\n",
    "      top_n = len(sentences)\n",
    "\n",
    "    # Step 2 - Generate Similary Martix across sentences\n",
    "    sentence_similarity_martix = build_similarity_matrix(sentences, stop_words)\n",
    "\n",
    "    # Step 3 - Rank sentences in similarity martix\n",
    "    sentence_similarity_graph = nx.from_numpy_array(sentence_similarity_martix)\n",
    "    scores = nx.pagerank(sentence_similarity_graph)\n",
    "\n",
    "    # Step 4 - Sort the rank and pick top sentences\n",
    "    ranked_sentence = sorted(((scores[i],s) for i,s in enumerate(sentences)), reverse=True)    \n",
    "    #print(\"Indexes of top ranked_sentence order are \", ranked_sentence)    \n",
    "\n",
    "    for i in range(top_n):\n",
    "      summarize_text.append(\" \".join(ranked_sentence[i][1]))\n",
    "\n",
    "    # Step 5 - Output the summarized text\n",
    "    summary = \". \".join(summarize_text)\n",
    "    # print(\"Summarize Text: \\n\", \". \".join(summarize_text))\n",
    "    return summary\n",
    "\n",
    "    # wrapper = textwrap.TextWrapper(width=60)\n",
    "    # word_list = wrapper.wrap(text=summary) \n",
    "  \n",
    "    # # Print each line. \n",
    "    # for element in word_list: \n",
    "    #     print(element) \n",
    "\n",
    "    # # print(type(summary))\n",
    "    # # print(summary)\n",
    "    \n",
    "\n",
    "# let's begin\n",
    "# generate_summary( \"msft.txt\", 2)"
   ]
  },
  {
   "cell_type": "code",
   "execution_count": null,
   "metadata": {
    "colab": {
     "base_uri": "https://localhost:8080/",
     "height": 88
    },
    "colab_type": "code",
    "executionInfo": {
     "elapsed": 756363,
     "status": "ok",
     "timestamp": 1592174711307,
     "user": {
      "displayName": "Mukul Pareek",
      "photoUrl": "",
      "userId": "01102224183704244279"
     },
     "user_tz": 240
    },
    "id": "sLNt0S4Z0CyK",
    "outputId": "32f51631-0f18-437f-96d1-168b8e3e9c16"
   },
   "outputs": [
    {
     "name": "stderr",
     "output_type": "stream",
     "text": [
      " 20%|█▉        | 794/3985 [02:12<19:11,  2.77it/s]/usr/local/lib/python3.6/dist-packages/nltk/cluster/util.py:133: RuntimeWarning: invalid value encountered in true_divide\n",
      "  sqrt(numpy.dot(u, u)) * sqrt(numpy.dot(v, v))))\n",
      "100%|██████████| 3985/3985 [12:35<00:00,  5.27it/s]\n"
     ]
    }
   ],
   "source": [
    "summ = []\n",
    "err = []\n",
    "for x in tqdm(textonly):\n",
    "  try:\n",
    "    summ.append(generate_summary(x, 5))\n",
    "  except:\n",
    "    err.append(textonly.index(x))\n",
    "    summ.append('Could not generate')\n",
    "    \n",
    "\n",
    "    \n"
   ]
  },
  {
   "cell_type": "code",
   "execution_count": 8,
   "metadata": {
    "colab": {
     "base_uri": "https://localhost:8080/",
     "height": 34
    },
    "colab_type": "code",
    "executionInfo": {
     "elapsed": 1303,
     "status": "ok",
     "timestamp": 1592179594417,
     "user": {
      "displayName": "Mukul Pareek",
      "photoUrl": "",
      "userId": "01102224183704244279"
     },
     "user_tz": 240
    },
    "id": "STe5XZ3aTFll",
    "outputId": "0bba6a7b-87e9-431b-8a77-82186da3d366"
   },
   "outputs": [
    {
     "data": {
      "text/plain": [
       "'John J. Mooney, an inventor of the catalytic converter, the small and ubiquitous device that makes the engines that power everything from cars to lawn mowers less polluting and more fuel efficient, died on June 16 at his home in Wyckoff, N.J. He was 90.\\n\\nThe cause was complications of a stroke, his daughter Elizabeth Mooney Convery said.\\n\\nMr. Mooney was a high school graduate working as a clerk at a gas company when his colleagues encouraged him to pursue a college education. After earning a bachelor’s degree and two master’s degrees, he went on to receive 17 patents during his 43-year career with the Englehard Corporation in Iselin, N.J. (now the Catalyst Division of the German chemical manufacturer BASF).\\n\\nAmong them was the three-way catalytic converter, which has been described by the Society of Automotive Engineers as among the 10 most important innovations in the history of the automobile.\\n\\nThe Environmental Protection Agency has estimated that tailpipe emissions from the newest passenger cars, sport utility vehicles, trucks and buses generate about 99 percent less smog-producing exhaust and soot than those from the 1970 models did.'"
      ]
     },
     "execution_count": 8,
     "metadata": {},
     "output_type": "execute_result"
    }
   ],
   "source": [
    "x = textonly[345]\n",
    "textonly[345]"
   ]
  },
  {
   "cell_type": "code",
   "execution_count": 14,
   "metadata": {},
   "outputs": [
    {
     "data": {
      "text/plain": [
       "3"
      ]
     },
     "execution_count": 14,
     "metadata": {},
     "output_type": "execute_result"
    }
   ],
   "source": [
    "len(textonly[:3])"
   ]
  },
  {
   "cell_type": "code",
   "execution_count": 15,
   "metadata": {},
   "outputs": [],
   "source": [
    "file = open('input.txt','w')\n",
    "for element in textonly[:4]:\n",
    "    file.write(element+'\\n')\n",
    "file.close()"
   ]
  },
  {
   "cell_type": "code",
   "execution_count": 11,
   "metadata": {
    "colab": {
     "base_uri": "https://localhost:8080/",
     "height": 34
    },
    "colab_type": "code",
    "executionInfo": {
     "elapsed": 578,
     "status": "ok",
     "timestamp": 1592179602649,
     "user": {
      "displayName": "Mukul Pareek",
      "photoUrl": "",
      "userId": "01102224183704244279"
     },
     "user_tz": 240
    },
    "id": "TiQ9YgTcTFv8",
    "outputId": "38b015bc-cdeb-4cd9-e5a6-e7213405afe5"
   },
   "outputs": [
    {
     "data": {
      "text/plain": [
       "' Mr.  The cause was complications of a stroke, his daughter Elizabeth Mooney Convery said.  Among them was the three-way catalytic converter, which has been described by the Society of Automotive Engineers as among the 10 most important innovations in the history of the automobile.  The Environmental Protection Agency has estimated that tailpipe emissions from the newest passenger cars, sport utility vehicles, trucks and buses generate about 99 percent less smog-producing exhaust and soot than those from the 1970 models did.'"
      ]
     },
     "execution_count": 11,
     "metadata": {},
     "output_type": "execute_result"
    }
   ],
   "source": [
    "generate_summary(x, 4)"
   ]
  },
  {
   "cell_type": "code",
   "execution_count": null,
   "metadata": {
    "colab": {
     "base_uri": "https://localhost:8080/",
     "height": 34
    },
    "colab_type": "code",
    "executionInfo": {
     "elapsed": 588,
     "status": "ok",
     "timestamp": 1592179606483,
     "user": {
      "displayName": "Mukul Pareek",
      "photoUrl": "",
      "userId": "01102224183704244279"
     },
     "user_tz": 240
    },
    "id": "S2ozPcNATF5F",
    "outputId": "22df1626-05c5-4516-83f8-4e18365ace26"
   },
   "outputs": [
    {
     "data": {
      "text/plain": [
       "[795, 858, 1405, 1725, 1893, 1998, 2100, 2332, 2594, 3018, 3132, 3446, 3783]"
      ]
     },
     "execution_count": 89,
     "metadata": {
      "tags": []
     },
     "output_type": "execute_result"
    }
   ],
   "source": [
    "err"
   ]
  },
  {
   "cell_type": "code",
   "execution_count": null,
   "metadata": {
    "colab": {
     "base_uri": "https://localhost:8080/",
     "height": 34
    },
    "colab_type": "code",
    "executionInfo": {
     "elapsed": 525,
     "status": "ok",
     "timestamp": 1592179684577,
     "user": {
      "displayName": "Mukul Pareek",
      "photoUrl": "",
      "userId": "01102224183704244279"
     },
     "user_tz": 240
    },
    "id": "xNvcC4iuTNTg",
    "outputId": "b23ed5cb-b685-446b-ca98-b3045ace8dcb"
   },
   "outputs": [
    {
     "data": {
      "text/plain": [
       "'https://www.kaspersky.com/blog/raising-digital-parents/35633/'"
      ]
     },
     "execution_count": 92,
     "metadata": {
      "tags": []
     },
     "output_type": "execute_result"
    }
   ],
   "source": [
    "data.iloc[795].URL"
   ]
  },
  {
   "cell_type": "code",
   "execution_count": null,
   "metadata": {
    "colab": {
     "base_uri": "https://localhost:8080/",
     "height": 595
    },
    "colab_type": "code",
    "executionInfo": {
     "elapsed": 558,
     "status": "ok",
     "timestamp": 1592181127952,
     "user": {
      "displayName": "Mukul Pareek",
      "photoUrl": "",
      "userId": "01102224183704244279"
     },
     "user_tz": 240
    },
    "id": "fUzKKIRmTNWc",
    "outputId": "62e0d7f5-3c82-4c16-d36b-1c89a9c41bd3"
   },
   "outputs": [
    {
     "name": "stdout",
     "output_type": "stream",
     "text": [
      " Nines is the first company to receive FDA clearance for use\n",
      "of an AI tool in triaging intracranial hemorrhage and mass\n",
      "effect.  The NinesAI tool is being made available free to\n",
      "Nines customers who use its teleradiology product, and also\n",
      "to any existing customers for use in-house at radiology\n",
      "practices with no additional costs.  NinesAI is designed to\n",
      "identify possible emergent cases of intracranial hemorrhage\n",
      "and mass effect conditions in patients, helping radiologists\n",
      "prioritize cases to review for further study. Medical\n",
      "startup Nines, which has developed an AI-based triage tool\n",
      "that has received clearance from the U.S. Food and Drug\n",
      "Administration (FDA) for use, is making that tool available\n",
      "for free to all until June 30 to help address the growing\n",
      "burden on radiology diagnostics departments as COVID-19\n",
      "continues to reshape the healthcare landscape in the U.S\n",
      "None\n",
      "\n",
      "-------------\n",
      " Nines is the first company to receive FDA clearance for use\n",
      "of an AI tool in triaging intracranial hemorrhage and mass\n",
      "effect.  The NinesAI tool is being made available free to\n",
      "Nines customers who use its teleradiology product, and also\n",
      "to any existing customers for use in-house at radiology\n",
      "practices with no additional costs.  NinesAI is designed to\n",
      "identify possible emergent cases of intracranial hemorrhage\n",
      "and mass effect conditions in patients, helping radiologists\n",
      "prioritize cases to review for further study. Medical\n",
      "startup Nines, which has developed an AI-based triage tool\n",
      "that has received clearance from the U.S. Food and Drug\n",
      "Administration (FDA) for use, is making that tool available\n",
      "for free to all until June 30 to help address the growing\n",
      "burden on radiology diagnostics departments as COVID-19\n",
      "continues to reshape the healthcare landscape in the U.S\n",
      "None\n"
     ]
    }
   ],
   "source": [
    "i=3445\n",
    "print(wrap(summ[i]))\n",
    "print('\\n-------------')\n",
    "print(wrap(summ[i]))"
   ]
  },
  {
   "cell_type": "code",
   "execution_count": null,
   "metadata": {
    "colab": {
     "base_uri": "https://localhost:8080/",
     "height": 612
    },
    "colab_type": "code",
    "executionInfo": {
     "elapsed": 537,
     "status": "ok",
     "timestamp": 1592179879332,
     "user": {
      "displayName": "Mukul Pareek",
      "photoUrl": "",
      "userId": "01102224183704244279"
     },
     "user_tz": 240
    },
    "id": "agLqgU2aTNZB",
    "outputId": "65145775-1da2-4c9a-a055-cc00c8581384"
   },
   "outputs": [
    {
     "name": "stdout",
     "output_type": "stream",
     "text": [
      "To hear more audio stories from publishers like The New York\n",
      "Times, download Audm for iPhone or Android.  A virus, at\n",
      "heart, is information, a packet of data that benefits from\n",
      "being shared.  The information at stake is genetic:\n",
      "instructions to make more virus. Unlike a truly living\n",
      "organism, a virus cannot replicate on its own; it cannot\n",
      "move, grow, persist or perpetuate. It needs a host. The\n",
      "viral code breaks into a living cell, hijacks the genetic\n",
      "machinery and instructs it to produce new code — new virus.\n",
      "President Trump has characterized the response to the\n",
      "pandemic as a “medical war,” and described the virus behind\n",
      "it as, by turns, “genius,” a “hidden enemy” and “a monster.”\n",
      "It would be more accurate to say that we find ourselves at\n",
      "odds with a microscopic photocopy machine. Not even that: an\n",
      "assembly manual for a photocopier, model SARS-CoV-2.  For at\n",
      "least six months now, the virus has replicated among us. The\n",
      "toll has been devastating. Officially, more than six million\n",
      "people worldwide have been infected so far, and 370,000 have\n",
      "died. (The actual numbers are certainly higher.) The United\n",
      "States, which has seen the largest share of cases and\n",
      "casualties, recently surpassed 100,000 deaths, one-fourth\n",
      "the number of all Americans who died in World War II.\n",
      "Businesses are shuttered — in 10 weeks, some 40 million\n",
      "Americans have lost their jobs — and food banks are overrun.\n",
      "The virus has fueled widespread frustration and exposed our\n",
      "deepest faults: of color, class and privilege, between the\n",
      "deliverers and the delivered to.  Still, summer — summer! —\n",
      "has all but arrived. We step out to look, breathe, vent. The\n",
      "pause is illusory. Cases are falling in New York, the\n",
      "epicenter in the United States, but firmly rising in\n",
      "Wisconsin, Virginia, Alabama, Arkansas, North and South\n",
      "Carolina, and other states. China, where the pandemic\n",
      "originated, and South Korea saw recent resurgences. Health\n",
      "officials fear another major wave of infections in the fall,\n",
      "and a possible wave train beyond.\n"
     ]
    }
   ],
   "source": [
    "wrap(textonly[796])"
   ]
  },
  {
   "cell_type": "code",
   "execution_count": null,
   "metadata": {
    "colab": {},
    "colab_type": "code",
    "id": "zjCVlF4tTNcX"
   },
   "outputs": [],
   "source": []
  },
  {
   "cell_type": "code",
   "execution_count": null,
   "metadata": {
    "colab": {
     "base_uri": "https://localhost:8080/",
     "height": 204
    },
    "colab_type": "code",
    "executionInfo": {
     "elapsed": 542,
     "status": "ok",
     "timestamp": 1592172829191,
     "user": {
      "displayName": "Mukul Pareek",
      "photoUrl": "",
      "userId": "01102224183704244279"
     },
     "user_tz": 240
    },
    "id": "nkoEku_K4qa9",
    "outputId": "bc84cb63-f710-49b1-fb4e-a371c9a0fdec"
   },
   "outputs": [
    {
     "name": "stdout",
     "output_type": "stream",
     "text": [
      " [...]  The new SGX attacks are known as SGAxe and\n",
      "CrossTalk. Here's a new vulnerability:  On Tuesday, two\n",
      "separate academic teams disclosed two new and distinctive\n",
      "exploits that pierce Intel's Software Guard eXtension, by\n",
      "far the most sensitive region of the company's processors.\n",
      "Remember Spectre and Meltdown? Back in early 2018, I wrote:\n",
      "Spectre and Meltdown are pretty catastrophic\n",
      "vulnerabilities, but they only affect the confidentiality of\n",
      "data.  That has turned out to be true. These will be\n",
      "similarly impossible to fix, and the only strategy will be\n",
      "to throw our devices away and buy new ones\n"
     ]
    }
   ],
   "source": [
    "wrap(summ[2])"
   ]
  },
  {
   "cell_type": "code",
   "execution_count": null,
   "metadata": {
    "colab": {
     "base_uri": "https://localhost:8080/",
     "height": 54
    },
    "colab_type": "code",
    "executionInfo": {
     "elapsed": 551,
     "status": "ok",
     "timestamp": 1592171999553,
     "user": {
      "displayName": "Mukul Pareek",
      "photoUrl": "",
      "userId": "01102224183704244279"
     },
     "user_tz": 240
    },
    "id": "VA82J6Ol2Jwy",
    "outputId": "928c7739-59f4-4a2e-9044-64e8ed0c3dec"
   },
   "outputs": [
    {
     "data": {
      "text/plain": [
       "'This is a weird story:\\n\\nHernandez was able to evade capture for so long because he used Tails, a version of Linux designed for users at high risk of surveillance and which routes all inbound and outbound connections through the open-source Tor network to anonymize it. According to Vice, the FBI had tried to hack into Hernandez\\'s computer but failed, as the approach they used \"was not tailored for Tails.\" Hernandez then proceeded to mock the FBI in subsequent messages, two Facebook employees told Vice.\\n\\nFacebook had tasked a dedicated employee to unmasking Hernandez, developed an automated system to flag recently created accounts that messaged minors, and made catching Hernandez a priority for its security teams, according to Vice. They also paid a third party contractor \"six figures\" to help develop a zero-day exploit in Tails: a bug in its video player that enabled them to retrieve the real I.P. address of a person viewing a clip. Three sources told Vice that an intermediary passed the tool onto the FBI, who then obtained a search warrant to have one of the victims send a modified video file to Hernandez (a tactic the agency has used before).\\n\\n[...]\\n\\nFacebook also never notified the Tails team of the flaw -- breaking with a long industry tradition of disclosure in which the relevant developers are notified of vulnerabilities in advance of them becoming public so they have a chance at implementing a fix. Sources told Vice that since an upcoming Tails update was slated to strip the vulnerable code, Facebook didn\\'t bother to do so, though the social media company had no reason to believe Tails developers had ever discovered the bug.\\n\\n[...]\\n\\n\"The only acceptable outcome to us was Buster Hernandez facing accountability for his abuse of young girls,\" a Facebook spokesperson told Vice.. \"This was a unique case, because he was using such sophisticated methods to hide his identity, that we took the extraordinary steps of working with security experts to help the FBI bring him to justice.\"'"
      ]
     },
     "execution_count": 61,
     "metadata": {
      "tags": []
     },
     "output_type": "execute_result"
    }
   ],
   "source": [
    "data[1]"
   ]
  },
  {
   "cell_type": "code",
   "execution_count": null,
   "metadata": {
    "colab": {
     "base_uri": "https://localhost:8080/",
     "height": 323
    },
    "colab_type": "code",
    "executionInfo": {
     "elapsed": 547,
     "status": "ok",
     "timestamp": 1592170125530,
     "user": {
      "displayName": "Mukul Pareek",
      "photoUrl": "",
      "userId": "01102224183704244279"
     },
     "user_tz": 240
    },
    "id": "NLMI8tB1Ng-p",
    "outputId": "faf702ec-39cc-4bf6-8f79-8514d8131ce3"
   },
   "outputs": [
    {
     "name": "stdout",
     "output_type": "stream",
     "text": [
      "Windows 7 users should be aware by now that while a fair\n",
      "number of flaws addressed this month by Microsoft affect\n",
      "Windows 7 systems, this operating system is no longer being\n",
      "supported with security updates (unless you’re an enterprise\n",
      "taking advantage of Microsoft’s paid extended security\n",
      "updates program, which is available to Windows 7\n",
      "Professional and Windows 7 enterprise users). Perhaps most\n",
      "troubling of these (CVE-2020-1301) is a remote code\n",
      "execution bug in SMB capabilities built into Windows 7 and\n",
      "Windows Server 2008 systems — both operating systems that\n",
      "Microsoft stopped supporting with security updates in\n",
      "January 2020. Microsoft Office and Excel get several updates\n",
      "this month. Microsoft today released software patches to\n",
      "plug at least 129 security holes in its Windows operating\n",
      "systems and supported software, by some accounts a record\n",
      "number of fixes in one go for the software giant. Adobe also\n",
      "released security updates for its Experience Manager and\n",
      "Framemaker products\n"
     ]
    }
   ],
   "source": [
    "read_article(textonly)"
   ]
  },
  {
   "cell_type": "code",
   "execution_count": null,
   "metadata": {
    "colab": {},
    "colab_type": "code",
    "id": "J6EU6d2qNDFO"
   },
   "outputs": [],
   "source": [
    "import os\n",
    "os.chdir(\"/content/drive/My Drive/Colab Notebooks\")"
   ]
  },
  {
   "cell_type": "code",
   "execution_count": null,
   "metadata": {
    "colab": {},
    "colab_type": "code",
    "id": "-IpanlNtNkxm"
   },
   "outputs": [],
   "source": [
    "    stop_words = stopwords.words('english')\n",
    "    summarize_text = []\n",
    "\n",
    "    # Step 1 - Read text anc split it\n",
    "    sentences =  read_article('textfile.txt')\n",
    "\n",
    "    # Step 2 - Generate Similary Martix across sentences\n",
    "    sentence_similarity_martix = build_similarity_matrix(sentences, stop_words)\n",
    "\n",
    "    # Step 3 - Rank sentences in similarity martix\n",
    "    sentence_similarity_graph = nx.from_numpy_array(sentence_similarity_martix)\n",
    "    scores = nx.pagerank(sentence_similarity_graph)"
   ]
  },
  {
   "cell_type": "code",
   "execution_count": null,
   "metadata": {
    "colab": {
     "base_uri": "https://localhost:8080/",
     "height": 34
    },
    "colab_type": "code",
    "executionInfo": {
     "elapsed": 518,
     "status": "ok",
     "timestamp": 1592172224338,
     "user": {
      "displayName": "Mukul Pareek",
      "photoUrl": "",
      "userId": "01102224183704244279"
     },
     "user_tz": 240
    },
    "id": "QMfJOLcMXDUJ",
    "outputId": "972d3b3c-4a5f-44de-bc5a-b7d2e5b9ec37"
   },
   "outputs": [
    {
     "data": {
      "text/plain": [
       "4"
      ]
     },
     "execution_count": 68,
     "metadata": {
      "tags": []
     },
     "output_type": "execute_result"
    }
   ],
   "source": [
    "len(read_article(textonly[0]))"
   ]
  },
  {
   "cell_type": "code",
   "execution_count": null,
   "metadata": {
    "colab": {},
    "colab_type": "code",
    "id": "5qBQhEtDvKtA"
   },
   "outputs": [],
   "source": []
  }
 ],
 "metadata": {
  "colab": {
   "authorship_tag": "ABX9TyM/LahMyaXtv7rNOIW5he7K",
   "mount_file_id": "1blXCpH4OrYIYNsrkmurfL6EqKv_1Ga0I",
   "name": "ExtractiveSummarization.ipynb",
   "provenance": []
  },
  "kernelspec": {
   "display_name": "Python 3",
   "language": "python",
   "name": "python3"
  },
  "language_info": {
   "codemirror_mode": {
    "name": "ipython",
    "version": 3
   },
   "file_extension": ".py",
   "mimetype": "text/x-python",
   "name": "python",
   "nbconvert_exporter": "python",
   "pygments_lexer": "ipython3",
   "version": "3.7.6"
  }
 },
 "nbformat": 4,
 "nbformat_minor": 4
}
