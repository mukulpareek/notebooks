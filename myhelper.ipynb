{
 "cells": [
  {
   "cell_type": "markdown",
   "id": "446c844e-e6d5-4ab9-80ca-ec5875bb87ec",
   "metadata": {},
   "source": [
    "# MyHelper\n",
    "## Helper functions that can assist with everyday tasks"
   ]
  },
  {
   "cell_type": "code",
   "execution_count": 40,
   "id": "9fee9d25-3154-47f8-b286-938b1018e4d2",
   "metadata": {},
   "outputs": [],
   "source": [
    "import pandas as pd\n",
    "\n",
    "# Sample data\n",
    "data = {'Category': ['A', 'B', 'A', 'A', 'C', 'B', 'C', 'A', 'B', 'C']}\n",
    "df = pd.DataFrame(data)"
   ]
  },
  {
   "cell_type": "code",
   "execution_count": 42,
   "id": "ded85459-47b0-43c8-b532-77379d7adc32",
   "metadata": {},
   "outputs": [
    {
     "data": {
      "text/html": [
       "<div>\n",
       "<style scoped>\n",
       "    .dataframe tbody tr th:only-of-type {\n",
       "        vertical-align: middle;\n",
       "    }\n",
       "\n",
       "    .dataframe tbody tr th {\n",
       "        vertical-align: top;\n",
       "    }\n",
       "\n",
       "    .dataframe thead th {\n",
       "        text-align: right;\n",
       "    }\n",
       "</style>\n",
       "<table border=\"1\" class=\"dataframe\">\n",
       "  <thead>\n",
       "    <tr style=\"text-align: right;\">\n",
       "      <th></th>\n",
       "      <th>Category</th>\n",
       "    </tr>\n",
       "  </thead>\n",
       "  <tbody>\n",
       "    <tr>\n",
       "      <th>0</th>\n",
       "      <td>A</td>\n",
       "    </tr>\n",
       "    <tr>\n",
       "      <th>1</th>\n",
       "      <td>B</td>\n",
       "    </tr>\n",
       "    <tr>\n",
       "      <th>2</th>\n",
       "      <td>A</td>\n",
       "    </tr>\n",
       "    <tr>\n",
       "      <th>3</th>\n",
       "      <td>A</td>\n",
       "    </tr>\n",
       "    <tr>\n",
       "      <th>4</th>\n",
       "      <td>C</td>\n",
       "    </tr>\n",
       "    <tr>\n",
       "      <th>5</th>\n",
       "      <td>B</td>\n",
       "    </tr>\n",
       "    <tr>\n",
       "      <th>6</th>\n",
       "      <td>C</td>\n",
       "    </tr>\n",
       "    <tr>\n",
       "      <th>7</th>\n",
       "      <td>A</td>\n",
       "    </tr>\n",
       "    <tr>\n",
       "      <th>8</th>\n",
       "      <td>B</td>\n",
       "    </tr>\n",
       "    <tr>\n",
       "      <th>9</th>\n",
       "      <td>C</td>\n",
       "    </tr>\n",
       "  </tbody>\n",
       "</table>\n",
       "</div>"
      ],
      "text/plain": [
       "  Category\n",
       "0        A\n",
       "1        B\n",
       "2        A\n",
       "3        A\n",
       "4        C\n",
       "5        B\n",
       "6        C\n",
       "7        A\n",
       "8        B\n",
       "9        C"
      ]
     },
     "execution_count": 42,
     "metadata": {},
     "output_type": "execute_result"
    }
   ],
   "source": [
    "df"
   ]
  },
  {
   "cell_type": "code",
   "execution_count": 43,
   "id": "03062d2a-224b-40e0-ab45-1f830c1cc478",
   "metadata": {},
   "outputs": [],
   "source": [
    "import seaborn as sns\n",
    "mpg = sns.load_dataset(\"mpg\")"
   ]
  },
  {
   "cell_type": "code",
   "execution_count": 44,
   "id": "94c6cc6c-afc7-4365-9e45-55105cde532b",
   "metadata": {},
   "outputs": [],
   "source": [
    "import pandas as pd\n",
    "\n",
    "def val_counts(df_column):\n",
    "    \"\"\"\n",
    "    Example usage:\n",
    "Assuming df is your DataFrame and 'column_name' is the name of the column you want to analyze\n",
    "result = val_counts(df['column_name'])\n",
    "print(result)\n",
    "    \"\"\"\n",
    "    # Calculate counts\n",
    "    counts = df_column.value_counts(dropna=False)\n",
    "    total_count = counts.sum()\n",
    "    \n",
    "    # Calculate normalized counts\n",
    "    normalized_counts = counts / total_count\n",
    "    \n",
    "    # Calculate cumulative counts\n",
    "    cumulative_counts = counts.cumsum()\n",
    "    \n",
    "    # Calculate cumulative normalized counts\n",
    "    cumulative_normalized_counts = cumulative_counts / total_count\n",
    "    \n",
    "    # Create DataFrame\n",
    "    result_df = pd.DataFrame({\n",
    "        'counts': counts,\n",
    "        'normalized': normalized_counts,\n",
    "        'cumulative_counts': cumulative_counts,\n",
    "        'cumulative_normalized': cumulative_normalized_counts\n",
    "    })\n",
    "    \n",
    "    # Add totals row\n",
    "    total_row = pd.Series({\n",
    "        'counts': total_count,\n",
    "        'normalized': 1.0,\n",
    "        'cumulative_counts': total_count,\n",
    "        'cumulative_normalized': 1.0\n",
    "    }, name='Total')\n",
    "    \n",
    "    result_df.loc[\"Total\"] = total_row\n",
    "    \n",
    "    return result_df\n",
    "\n",
    "\n"
   ]
  },
  {
   "cell_type": "code",
   "execution_count": 45,
   "id": "1a589024-6fe3-451a-954c-e711fa981d31",
   "metadata": {},
   "outputs": [
    {
     "data": {
      "text/html": [
       "<div>\n",
       "<style scoped>\n",
       "    .dataframe tbody tr th:only-of-type {\n",
       "        vertical-align: middle;\n",
       "    }\n",
       "\n",
       "    .dataframe tbody tr th {\n",
       "        vertical-align: top;\n",
       "    }\n",
       "\n",
       "    .dataframe thead th {\n",
       "        text-align: right;\n",
       "    }\n",
       "</style>\n",
       "<table border=\"1\" class=\"dataframe\">\n",
       "  <thead>\n",
       "    <tr style=\"text-align: right;\">\n",
       "      <th></th>\n",
       "      <th>counts</th>\n",
       "      <th>normalized</th>\n",
       "      <th>cumulative_counts</th>\n",
       "      <th>cumulative_normalized</th>\n",
       "    </tr>\n",
       "    <tr>\n",
       "      <th>origin</th>\n",
       "      <th></th>\n",
       "      <th></th>\n",
       "      <th></th>\n",
       "      <th></th>\n",
       "    </tr>\n",
       "  </thead>\n",
       "  <tbody>\n",
       "    <tr>\n",
       "      <th>usa</th>\n",
       "      <td>249.0</td>\n",
       "      <td>0.625628</td>\n",
       "      <td>249.0</td>\n",
       "      <td>0.625628</td>\n",
       "    </tr>\n",
       "    <tr>\n",
       "      <th>japan</th>\n",
       "      <td>79.0</td>\n",
       "      <td>0.198492</td>\n",
       "      <td>328.0</td>\n",
       "      <td>0.824121</td>\n",
       "    </tr>\n",
       "    <tr>\n",
       "      <th>europe</th>\n",
       "      <td>70.0</td>\n",
       "      <td>0.175879</td>\n",
       "      <td>398.0</td>\n",
       "      <td>1.000000</td>\n",
       "    </tr>\n",
       "    <tr>\n",
       "      <th>Total</th>\n",
       "      <td>398.0</td>\n",
       "      <td>1.000000</td>\n",
       "      <td>398.0</td>\n",
       "      <td>1.000000</td>\n",
       "    </tr>\n",
       "  </tbody>\n",
       "</table>\n",
       "</div>"
      ],
      "text/plain": [
       "        counts  normalized  cumulative_counts  cumulative_normalized\n",
       "origin                                                              \n",
       "usa      249.0    0.625628              249.0               0.625628\n",
       "japan     79.0    0.198492              328.0               0.824121\n",
       "europe    70.0    0.175879              398.0               1.000000\n",
       "Total    398.0    1.000000              398.0               1.000000"
      ]
     },
     "execution_count": 45,
     "metadata": {},
     "output_type": "execute_result"
    }
   ],
   "source": [
    "val_counts(mpg.origin)"
   ]
  },
  {
   "cell_type": "code",
   "execution_count": 46,
   "id": "97785b3c-8e56-424c-8e2f-e319821f0962",
   "metadata": {},
   "outputs": [
    {
     "data": {
      "text/html": [
       "<div>\n",
       "<style scoped>\n",
       "    .dataframe tbody tr th:only-of-type {\n",
       "        vertical-align: middle;\n",
       "    }\n",
       "\n",
       "    .dataframe tbody tr th {\n",
       "        vertical-align: top;\n",
       "    }\n",
       "\n",
       "    .dataframe thead th {\n",
       "        text-align: right;\n",
       "    }\n",
       "</style>\n",
       "<table border=\"1\" class=\"dataframe\">\n",
       "  <thead>\n",
       "    <tr style=\"text-align: right;\">\n",
       "      <th></th>\n",
       "      <th>counts</th>\n",
       "      <th>normalized</th>\n",
       "      <th>cumulative_counts</th>\n",
       "      <th>cumulative_normalized</th>\n",
       "    </tr>\n",
       "    <tr>\n",
       "      <th>Category</th>\n",
       "      <th></th>\n",
       "      <th></th>\n",
       "      <th></th>\n",
       "      <th></th>\n",
       "    </tr>\n",
       "  </thead>\n",
       "  <tbody>\n",
       "    <tr>\n",
       "      <th>A</th>\n",
       "      <td>4.0</td>\n",
       "      <td>0.4</td>\n",
       "      <td>4.0</td>\n",
       "      <td>0.4</td>\n",
       "    </tr>\n",
       "    <tr>\n",
       "      <th>B</th>\n",
       "      <td>3.0</td>\n",
       "      <td>0.3</td>\n",
       "      <td>7.0</td>\n",
       "      <td>0.7</td>\n",
       "    </tr>\n",
       "    <tr>\n",
       "      <th>C</th>\n",
       "      <td>3.0</td>\n",
       "      <td>0.3</td>\n",
       "      <td>10.0</td>\n",
       "      <td>1.0</td>\n",
       "    </tr>\n",
       "    <tr>\n",
       "      <th>Total</th>\n",
       "      <td>10.0</td>\n",
       "      <td>1.0</td>\n",
       "      <td>10.0</td>\n",
       "      <td>1.0</td>\n",
       "    </tr>\n",
       "  </tbody>\n",
       "</table>\n",
       "</div>"
      ],
      "text/plain": [
       "          counts  normalized  cumulative_counts  cumulative_normalized\n",
       "Category                                                              \n",
       "A            4.0         0.4                4.0                    0.4\n",
       "B            3.0         0.3                7.0                    0.7\n",
       "C            3.0         0.3               10.0                    1.0\n",
       "Total       10.0         1.0               10.0                    1.0"
      ]
     },
     "execution_count": 46,
     "metadata": {},
     "output_type": "execute_result"
    }
   ],
   "source": [
    "val_counts(df.Category)"
   ]
  },
  {
   "cell_type": "code",
   "execution_count": 65,
   "id": "640f10ad-5087-4e7b-93fb-79e5fcc6de72",
   "metadata": {},
   "outputs": [],
   "source": [
    "import pandas as pd\n",
    "from datetime import datetime\n",
    "\n",
    "def excel(dataframe, excel_filename=None, sheet_name=None, index=False):\n",
    "    \"\"\"\n",
    "    Save dataframe to Excel in the current working directory.\n",
    "    Parameters: dataframe, excel_filename=None, sheet_name=None, index=False\n",
    "    \"\"\"\n",
    "    dataframe_as_string = [x for x in globals() if globals()[x] is dataframe][0]\n",
    "    if excel_filename is None:\n",
    "        tm = datetime.now().strftime('%m%d%Y_%H.%M_Hrs')\n",
    "        excel_filename = f\"{dataframe_as_string}_{tm}.xlsx\"\n",
    "        \n",
    "    if sheet_name is None:\n",
    "        sheet_name = dataframe_as_string\n",
    "    \n",
    "    try:\n",
    "        with pd.ExcelWriter(excel_filename, mode='a', engine='openpyxl',if_sheet_exists='replace') as writer:\n",
    "                # Write the DataFrame to the Excel file\n",
    "            dataframe.to_excel(writer, sheet_name=sheet_name, index=index)\n",
    "            print('Updated file', excel_filename, ', sheet:', sheet_name)\n",
    "    except FileNotFoundError:\n",
    "        # File does not exist, create a new one\n",
    "        dataframe.to_excel(excel_filename, sheet_name=sheet_name, index=index)\n",
    "        print('Created new file', excel_filename, ', sheet:', sheet_name)\n",
    "\n",
    "# Example usage:\n",
    "# Assuming df is your DataFrame\n",
    "# save_to_excel(df, excel_filename='output.xlsx', sheet_name='Sheet1')\n"
   ]
  },
  {
   "cell_type": "code",
   "execution_count": 67,
   "id": "85105801-1a51-4d41-9e5f-a46467403546",
   "metadata": {},
   "outputs": [
    {
     "name": "stdout",
     "output_type": "stream",
     "text": [
      "Created new file mpg_04172024_13.22_Hrs.xlsx , sheet: mpg\n"
     ]
    }
   ],
   "source": [
    "excel(mpg,)"
   ]
  },
  {
   "cell_type": "code",
   "execution_count": 68,
   "id": "8f3dd6dc-757f-4cfe-8196-8d556431232d",
   "metadata": {},
   "outputs": [
    {
     "name": "stdout",
     "output_type": "stream",
     "text": [
      "Created new file df_04172024_13.22_Hrs.xlsx , sheet: df\n"
     ]
    }
   ],
   "source": [
    "excel(df)"
   ]
  },
  {
   "cell_type": "code",
   "execution_count": null,
   "id": "ac58b0c7-73bd-401a-ad67-cb676519b17d",
   "metadata": {},
   "outputs": [],
   "source": []
  }
 ],
 "metadata": {
  "kernelspec": {
   "display_name": "Python 3 (ipykernel)",
   "language": "python",
   "name": "python3"
  },
  "language_info": {
   "codemirror_mode": {
    "name": "ipython",
    "version": 3
   },
   "file_extension": ".py",
   "mimetype": "text/x-python",
   "name": "python",
   "nbconvert_exporter": "python",
   "pygments_lexer": "ipython3",
   "version": "3.11.6"
  }
 },
 "nbformat": 4,
 "nbformat_minor": 5
}
