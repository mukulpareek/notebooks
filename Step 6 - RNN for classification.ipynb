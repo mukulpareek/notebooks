{
 "cells": [
  {
   "cell_type": "markdown",
   "metadata": {},
   "source": [
    "# Text processing with an RNN  \n",
    "  \n",
    "In order to get the RNN to consume text data, we need two things:  \n",
    "  \n",
    "1. A list of all the texts, eg `texts = ['Today is a nice day', 'Yesterday was gorgeous',....]`  \n",
    "2. We need the labels in a list too, eg `labels = [1, 0, 1, 1,...]`.  If labels are text string categories, then use one-hot encoding to convert them into an array, with each row of the array corresponding to an observation.  \n",
    "  \n",
    "We first set up a tokenizer as follows:  \n",
    "  \n",
    "```python\n",
    "from keras.preprocessing.text import Tokenizer  \n",
    "from keras.preprocessing.sequence import pad_sequences  \n",
    "  \n",
    "tokenizer = Tokenizer(num_words = vocab_size) #Sets up a blank tokenizer  \n",
    "tokenizer.fit_on_texts(texts)   \n",
    "# fit_on_texts creates the vocabulary based on `texts`, based on word frequency. So if you give it something like, \"The cat sat on the mat.\" It will create a dictionary s.t. word_index[\"the\"] = 1; word_index[\"cat\"] = 2 it is word -> index dictionary so every word gets a unique integer value. 0 is reserved for padding. So lower integer means more frequent word (often the first few are stop words because they appear a lot).  \n",
    "  \n",
    "sequences = tokenizer.texts_to_sequences(texts)  \n",
    "# This step transforms each text in texts to a sequence of integers. So it basically takes each word in the text and replaces it with its corresponding integer value from the word_index dictionary.   \n",
    "  \n",
    "word_index = tokenizer.word_index # This is the dictionary of words and their indexes which one can see using  word_index.items()  \n",
    "  \n",
    "data = pad_sequences(sequences, maxlen = maxlen) # Here we make all texts equal in length, and padding is pre (can be changed   by padding='post')  \n",
    "  \n",
    "labels = np.asarray(labels) # We convert the labels into an array from its original list form.  \n",
    "\n",
    "```  \n",
    "  \n",
    "At this point all our input text data exists as perfectly sized tensors in the variable called `data`, and `labels`.  The `data` variable has references to the `word_index` which is essentially the dictionary for the task.  \n",
    "  \n",
    "Next, we need to create the embeddings_matrix based on Glove.  For this, we first load up Glove in a giant matrix, and then we look up each item in the `word_index` in the Glove matrix and create our pre-trained embeddings_matrix based on Glove.  In this matrix, we preserve the index order as in the `word_index`, so what is #3 in the word index is also the 3rd row in the embeddings_matrix.  The 0th row is all zeros, and only the first row onwards are used because in the `word_index` dictionary there is no entry for zero.  \n",
    "  \n",
    "Now we are good to go to feed this into our NN. The pretrained embeddings_matrix makes its way into the NN using the following commands:  \n",
    "  \n",
    "```python\n",
    "model.layers[0].set_weights([embedding_matrix])\n",
    "model.layers[0].trainable = False\n",
    "```\n",
    "  \n",
    "  "
   ]
  },
  {
   "cell_type": "code",
   "execution_count": 1,
   "metadata": {},
   "outputs": [
    {
     "data": {
      "text/plain": [
       "Index(['title', 'summary_x', 'URL', 'keywords', 'summary_y', 'text',\n",
       "       'published_date', 'corona'],\n",
       "      dtype='object')"
      ]
     },
     "execution_count": 1,
     "metadata": {},
     "output_type": "execute_result"
    }
   ],
   "source": [
    "import pandas as pd\n",
    "import joblib\n",
    "df = joblib.load('final_df3.pkl')\n",
    "df.columns"
   ]
  },
  {
   "cell_type": "code",
   "execution_count": 2,
   "metadata": {},
   "outputs": [],
   "source": [
    "texts = list(df.text)"
   ]
  },
  {
   "cell_type": "code",
   "execution_count": 3,
   "metadata": {},
   "outputs": [],
   "source": [
    "import pandas as pd"
   ]
  },
  {
   "cell_type": "code",
   "execution_count": null,
   "metadata": {},
   "outputs": [],
   "source": [
    "texts"
   ]
  },
  {
   "cell_type": "code",
   "execution_count": 5,
   "metadata": {},
   "outputs": [],
   "source": [
    "# labels = (np.random.randint(0,2,970))\n",
    "labels = df.corona"
   ]
  },
  {
   "cell_type": "code",
   "execution_count": 6,
   "metadata": {},
   "outputs": [
    {
     "data": {
      "text/plain": [
       "'C:\\\\Users\\\\user'"
      ]
     },
     "execution_count": 6,
     "metadata": {},
     "output_type": "execute_result"
    }
   ],
   "source": [
    "import os\n",
    "os.getcwd()"
   ]
  },
  {
   "cell_type": "code",
   "execution_count": 2,
   "metadata": {},
   "outputs": [],
   "source": [
    "# import os\n",
    "# imdb_dir = '\\\\Users\\\\user\\\\aclImdb'\n",
    "# train_dir = os.path.join(imdb_dir, 'train')\n",
    "# labels=[]\n",
    "# texts=[]\n",
    "\n"
   ]
  },
  {
   "cell_type": "code",
   "execution_count": 3,
   "metadata": {},
   "outputs": [],
   "source": [
    "# Read all the text files\n",
    "# for label_type in ['neg','pos']:\n",
    "#     dir_name = os.path.join(train_dir, label_type)\n",
    "#     for fname in os.listdir(dir_name):\n",
    "#         if fname[-4:]== '.txt':\n",
    "#             f = open(os.path.join(dir_name, fname))\n",
    "#             #print(fname)\n",
    "#             texts.append(f.read())\n",
    "#             f.close()\n",
    "#             if label_type =='neg':\n",
    "#                 labels.append(0)\n",
    "#             else:\n",
    "#                 labels.append(1)\n",
    "            \n",
    "        \n"
   ]
  },
  {
   "cell_type": "markdown",
   "metadata": {},
   "source": [
    "At this point, the variable `texts` contains all the reviews in plaintext as a list."
   ]
  },
  {
   "cell_type": "code",
   "execution_count": 7,
   "metadata": {},
   "outputs": [
    {
     "name": "stdout",
     "output_type": "stream",
     "text": [
      "Number of items in texts is 6036 \n",
      " Its stats are:\n",
      "count    6036.000000\n",
      "mean      563.801359\n",
      "std       517.209699\n",
      "min         1.000000\n",
      "25%       265.000000\n",
      "50%       437.000000\n",
      "75%       762.000000\n",
      "max      7244.000000\n",
      "dtype: float64\n",
      "-----\n",
      "Number of labels count is 6036\n"
     ]
    },
    {
     "data": {
      "image/png": "[encoded data removed]",
      "text/plain": [
       "<Figure size 432x288 with 1 Axes>"
      ]
     },
     "metadata": {
      "needs_background": "light"
     },
     "output_type": "display_data"
    }
   ],
   "source": [
    "print('Number of items in texts is', len(texts), '\\n Its stats are:')\n",
    "print(pd.Series([len(texts[i].split(' ')) for i in range(len(texts))]).describe())\n",
    "pd.Series([len(texts[i].split(' ')) for i in range(len(texts))]).plot.hist()\n",
    "print('-----')\n",
    "print('Number of labels count is', len(labels))"
   ]
  },
  {
   "cell_type": "code",
   "execution_count": 11,
   "metadata": {},
   "outputs": [
    {
     "name": "stdout",
     "output_type": "stream",
     "text": [
      "Found 74822 unique tokens\n",
      "Shape of data tensor (6036, 5000)\n",
      "Shape of label tensor (6036,)\n"
     ]
    }
   ],
   "source": [
    "from keras.preprocessing.text import Tokenizer\n",
    "from keras.preprocessing.sequence import pad_sequences\n",
    "import numpy as np\n",
    "\n",
    "maxlen=5000  # how many words to take from each text\n",
    "training_samples=int(len(texts) * 0.8)\n",
    "validation_samples = len(texts) - training_samples\n",
    "vocab_size=20000\n",
    "\n",
    "tokenizer = Tokenizer(num_words = vocab_size)\n",
    "tokenizer.fit_on_texts(texts)\n",
    "sequences = tokenizer.texts_to_sequences(texts)\n",
    "word_index = tokenizer.word_index\n",
    "print('Found %s unique tokens' % len(word_index))\n",
    "data = pad_sequences(sequences, maxlen = maxlen)\n",
    "labels = np.asarray(labels)\n",
    "print('Shape of data tensor', data.shape)\n",
    "print('Shape of label tensor', labels.shape)\n",
    "\n",
    "indices = np.arange(data.shape[0])\n",
    "np.random.shuffle(indices)\n",
    "data = data[indices]\n",
    "labels = labels[indices]\n",
    "\n",
    "x_train = data[:training_samples]\n",
    "y_train = labels[:training_samples]\n",
    "x_val = data[training_samples:training_samples+validation_samples]\n",
    "y_val = labels[training_samples:training_samples+validation_samples]\n",
    "\n"
   ]
  },
  {
   "cell_type": "code",
   "execution_count": 9,
   "metadata": {},
   "outputs": [
    {
     "data": {
      "text/plain": [
       "79"
      ]
     },
     "execution_count": 9,
     "metadata": {},
     "output_type": "execute_result"
    }
   ],
   "source": [
    "int(79.2)"
   ]
  },
  {
   "cell_type": "code",
   "execution_count": 12,
   "metadata": {},
   "outputs": [
    {
     "data": {
      "text/plain": [
       "6036"
      ]
     },
     "execution_count": 12,
     "metadata": {},
     "output_type": "execute_result"
    }
   ],
   "source": [
    "len(data)"
   ]
  },
  {
   "cell_type": "code",
   "execution_count": 13,
   "metadata": {},
   "outputs": [
    {
     "name": "stdout",
     "output_type": "stream",
     "text": [
      "Found 400000 words and corresponding vectors\n"
     ]
    }
   ],
   "source": [
    "glove_dir = '\\\\Users\\\\user\\\\glove.6B'\n",
    "\n",
    "embeddings_index = {}\n",
    "#f = open(os.path.join(glove_dir, 'glove.6B.100d.txt'))\n",
    "f=open('\\\\Users\\\\user\\\\glove.6B\\\\glove.6B.100d.txt', encoding=\"utf8\")\n",
    "for line in f:\n",
    "    values = line.split()\n",
    "    word = values[0]\n",
    "    coefs = np.asarray(values[1:], dtype = 'float32')\n",
    "    embeddings_index[word] = coefs\n",
    "f.close()\n",
    "\n",
    "print('Found %s words and corresponding vectors' % len(embeddings_index))"
   ]
  },
  {
   "cell_type": "code",
   "execution_count": 14,
   "metadata": {},
   "outputs": [
    {
     "data": {
      "text/plain": [
       "100"
      ]
     },
     "execution_count": 14,
     "metadata": {},
     "output_type": "execute_result"
    }
   ],
   "source": [
    "len(embeddings_index.get('security'))"
   ]
  },
  {
   "cell_type": "code",
   "execution_count": 15,
   "metadata": {},
   "outputs": [
    {
     "name": "stdout",
     "output_type": "stream",
     "text": [
      "None\n"
     ]
    }
   ],
   "source": [
    "print(embeddings_index.get('th13e'))"
   ]
  },
  {
   "cell_type": "code",
   "execution_count": 16,
   "metadata": {},
   "outputs": [],
   "source": [
    "# Create the embedding matrix based on Glove\n",
    "embedding_dim = 100\n",
    "embedding_matrix = np.zeros((vocab_size, embedding_dim))\n",
    "for word, i in word_index.items():\n",
    "    if i < vocab_size:\n",
    "        embedding_vector = embeddings_index.get(word)\n",
    "        if embedding_vector is not None:\n",
    "            embedding_matrix[i] = embedding_vector\n",
    "            "
   ]
  },
  {
   "cell_type": "code",
   "execution_count": 17,
   "metadata": {},
   "outputs": [
    {
     "data": {
      "text/plain": [
       "(20000, 100)"
      ]
     },
     "execution_count": 17,
     "metadata": {},
     "output_type": "execute_result"
    }
   ],
   "source": [
    "embedding_matrix.shape"
   ]
  },
  {
   "cell_type": "markdown",
   "metadata": {},
   "source": [
    "At this point the `embedding_matrix` has one row per word in the vocabulary.  Each row has the vector for that word, picked from glove.  Because it is an np.array, it has no row or column names. The order of the words in the rows is the same as the order of words in the dict word_index.  \n",
    "  \n",
    "We will feed this embedding matrix as weights to the embedding layer.  \n",
    "  \n",
    "## Build the model  "
   ]
  },
  {
   "cell_type": "code",
   "execution_count": 18,
   "metadata": {},
   "outputs": [],
   "source": [
    "from keras.models import Sequential\n",
    "from keras.layers import Embedding, Flatten, Dense, LSTM, SimpleRNN\n"
   ]
  },
  {
   "cell_type": "code",
   "execution_count": 19,
   "metadata": {},
   "outputs": [
    {
     "name": "stdout",
     "output_type": "stream",
     "text": [
      "Model: \"sequential_1\"\n",
      "_________________________________________________________________\n",
      "Layer (type)                 Output Shape              Param #   \n",
      "=================================================================\n",
      "embedding_1 (Embedding)      (None, None, 100)         2000000   \n",
      "_________________________________________________________________\n",
      "lstm_1 (LSTM)                (None, 32)                17024     \n",
      "_________________________________________________________________\n",
      "dense_1 (Dense)              (None, 1)                 33        \n",
      "=================================================================\n",
      "Total params: 2,017,057\n",
      "Trainable params: 2,017,057\n",
      "Non-trainable params: 0\n",
      "_________________________________________________________________\n"
     ]
    }
   ],
   "source": [
    "model = Sequential()\n",
    "model.add(Embedding(vocab_size, embedding_dim)) # Note that vocab_size=10000 (vocab size), embedding_dim = 100 (100 dense vector for each word from Glove), maxlen=100 (using only first 100 words of each review)\n",
    "model.add(LSTM(32))\n",
    "\n",
    "model.add(Dense(1, activation='sigmoid'))\n",
    "model.summary()\n",
    "model.layers[0].set_weights([embedding_matrix])\n",
    "model.layers[0].trainable = False"
   ]
  },
  {
   "cell_type": "code",
   "execution_count": 20,
   "metadata": {},
   "outputs": [
    {
     "name": "stdout",
     "output_type": "stream",
     "text": [
      "Train on 3862 samples, validate on 966 samples\n",
      "Epoch 1/15\n",
      "3862/3862 [==============================] - 335s 87ms/step - loss: 0.5318 - acc: 0.7740 - val_loss: 0.5191 - val_acc: 0.7961\n",
      "Epoch 2/15\n",
      "3862/3862 [==============================] - 328s 85ms/step - loss: 0.5180 - acc: 0.7869 - val_loss: 0.5153 - val_acc: 0.7961\n",
      "Epoch 3/15\n",
      "3862/3862 [==============================] - 316s 82ms/step - loss: 0.5147 - acc: 0.7869 - val_loss: 0.5237 - val_acc: 0.7961\n",
      "Epoch 4/15\n",
      "3862/3862 [==============================] - 283s 73ms/step - loss: 0.5137 - acc: 0.7869 - val_loss: 0.5163 - val_acc: 0.7961\n",
      "Epoch 5/15\n",
      "3862/3862 [==============================] - 279s 72ms/step - loss: 0.5106 - acc: 0.7869 - val_loss: 0.5150 - val_acc: 0.7961\n",
      "Epoch 6/15\n",
      "3862/3862 [==============================] - 274s 71ms/step - loss: 0.5090 - acc: 0.7872 - val_loss: 0.5226 - val_acc: 0.7961\n",
      "Epoch 7/15\n",
      "3862/3862 [==============================] - 278s 72ms/step - loss: 0.5068 - acc: 0.7872 - val_loss: 0.5215 - val_acc: 0.7961\n",
      "Epoch 8/15\n",
      "3862/3862 [==============================] - 277s 72ms/step - loss: 0.5039 - acc: 0.7872 - val_loss: 0.5264 - val_acc: 0.7950\n",
      "Epoch 9/15\n",
      "3862/3862 [==============================] - 274s 71ms/step - loss: 0.5007 - acc: 0.7882 - val_loss: 0.5219 - val_acc: 0.7950\n",
      "Epoch 10/15\n",
      "3862/3862 [==============================] - 286s 74ms/step - loss: 0.4991 - acc: 0.7879 - val_loss: 0.5298 - val_acc: 0.7930\n",
      "Epoch 11/15\n",
      "3862/3862 [==============================] - 283s 73ms/step - loss: 0.4957 - acc: 0.7895 - val_loss: 0.5232 - val_acc: 0.7950\n",
      "Epoch 12/15\n",
      "3862/3862 [==============================] - 279s 72ms/step - loss: 0.4919 - acc: 0.7892 - val_loss: 0.5260 - val_acc: 0.7950\n",
      "Epoch 13/15\n",
      "3862/3862 [==============================] - 275s 71ms/step - loss: 0.4914 - acc: 0.7897 - val_loss: 0.5276 - val_acc: 0.7950\n",
      "Epoch 14/15\n",
      "3862/3862 [==============================] - 288s 75ms/step - loss: 0.4853 - acc: 0.7905 - val_loss: 0.5378 - val_acc: 0.7950\n",
      "Epoch 15/15\n",
      "3862/3862 [==============================] - 281s 73ms/step - loss: 0.4816 - acc: 0.7910 - val_loss: 0.5704 - val_acc: 0.7650\n"
     ]
    }
   ],
   "source": [
    "model.compile(optimizer='rmsprop', loss='binary_crossentropy', metrics=['acc'])\n",
    "history = model.fit(x_train, y_train, epochs=15, batch_size=128, validation_split=0.2)"
   ]
  },
  {
   "cell_type": "code",
   "execution_count": null,
   "metadata": {},
   "outputs": [],
   "source": []
  },
  {
   "cell_type": "code",
   "execution_count": null,
   "metadata": {},
   "outputs": [],
   "source": []
  }
 ],
 "metadata": {
  "kernelspec": {
   "display_name": "Python 3",
   "language": "python",
   "name": "python3"
  },
  "language_info": {
   "codemirror_mode": {
    "name": "ipython",
    "version": 3
   },
   "file_extension": ".py",
   "mimetype": "text/x-python",
   "name": "python",
   "nbconvert_exporter": "python",
   "pygments_lexer": "ipython3",
   "version": "3.7.6"
  }
 },
 "nbformat": 4,
 "nbformat_minor": 4
}
