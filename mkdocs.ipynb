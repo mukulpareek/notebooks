{
 "cells": [
  {
   "cell_type": "markdown",
   "metadata": {},
   "source": [
    "# How to use ```mkdocs```  \n",
    "  \n",
    "1. Install mkdocs using ```pip install mkdocs```\n",
    "2. Install any themes you need, eg ```pip install mkdocs-themename```\n",
    "3. Using Anaconda3 prompt, then ```mkdocs new my-project```\n",
    "4. Put markdown ```.md``` files from Jupyter notebooks in the docs folder under my-project.\n",
    "5. Update the ```my-project.yml``` file with the new pages - example below.  Note that the homepage should be named ```index.md```, otherwise it doesn't work:  \n",
    "\n",
    "```\n",
    "    site_name: Python Notes - Mukul Pareek\n",
    "    nav:\n",
    "        - Python Notes: index.md\n",
    "        - RNN : RNN_for_texts.md\n",
    "        - RNN parameters: RNN_parameters.md\n",
    "        - One Hot: OneHot.md\n",
    "    markdown_extensions:\n",
    "        - extra\n",
    "        - tables\n",
    "        - mdx_math:\n",
    "            enable_dollar_delimiter: True\n",
    "        - fenced_code\n",
    "    theme: windmill \n",
    "    extra_javascript: \n",
    "        - https://cdnjs.cloudflare.com/ajax/libs/mathjax/2.7.4/MathJax.js?config=TeX-AMS-MML_HTMLorMML\n",
    "```  \n",
    "\n",
    "  \n",
    "6. Use the ```matjaxhelper.js``` file if Latex is needed  \n",
    "6. Do ```mkdocs serve``` to test the file locally  \n",
    "7. Do ```mkdocs build``` to create the site directory that will be uploaded to the web server  \n",
    "\n"
   ]
  },
  {
   "cell_type": "markdown",
   "metadata": {},
   "source": [
    "## Latex on mkdocs\n",
    "To have the ```$...$``` notation work for inline Latex, instead of \\\\(..\\\\) because the ```$``` notation works directly in Jupyter notebooks and you can see what your text will look like without first running mkdocs.\n",
    "\n",
    "For both \\\\$..\\\\$and \\\\$\\\\$..\\\\$\\\\$ styles to work, first install ```pip install --upgrade python-markdown-math```.  \n",
    "\n",
    "Then do the following:  \n",
    "  \n",
    "1. Put a text file called *mathjaxhelper.js* in the /docs folder, and it should contain only the following:\n",
    "\n",
    "```\n",
    "    MathJax.Hub.Config({\n",
    "      config: [\"MMLorHTML.js\"],\n",
    "      jax: [\"input/TeX\", \"output/HTML-CSS\", \"output/NativeMML\"],\n",
    "      extensions: [\"MathMenu.js\", \"MathZoom.js\"]\n",
    "    });\n",
    "```\n",
    "\n",
    "2. The *project.yml* file should contain the following. (replace *project.yml* with your actual yml file)  \n",
    "  \n",
    "```\n",
    "    markdown_extensions:\n",
    "        - extra\n",
    "        - tables\n",
    "        - mdx_math:\n",
    "            enable_dollar_delimiter: True\n",
    "        - fenced_code\n",
    "    theme: readthedocs\n",
    "    extra_javascript: \n",
    "        - https://cdnjs.cloudflare.com/ajax/libs/mathjax/2.7.4/MathJax.js?config=TeX-AMS-MML_HTMLorMML\n",
    "```\n",
    "\n",
    "Test ```$e^x$```\n",
    "$e^x$\n",
    "\n",
    "Separate line:  \n",
    "```$$e^{x^2}$$```    \n",
    "\n",
    "$$e^{x^2}$$  \n"
   ]
  },
  {
   "cell_type": "code",
   "execution_count": null,
   "metadata": {},
   "outputs": [],
   "source": []
  }
 ],
 "metadata": {
  "kernelspec": {
   "display_name": "Python 3",
   "language": "python",
   "name": "python3"
  },
  "language_info": {
   "codemirror_mode": {
    "name": "ipython",
    "version": 3
   },
   "file_extension": ".py",
   "mimetype": "text/x-python",
   "name": "python",
   "nbconvert_exporter": "python",
   "pygments_lexer": "ipython3",
   "version": "3.7.6"
  }
 },
 "nbformat": 4,
 "nbformat_minor": 4
}
