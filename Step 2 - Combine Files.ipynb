{
 "cells": [
  {
   "cell_type": "code",
   "execution_count": 1,
   "metadata": {},
   "outputs": [],
   "source": [
    "import os\n",
    "import pandas as pd\n",
    "import joblib\n",
    "from tqdm import tqdm\n",
    "import datetime\n",
    "from datetime import datetime\n",
    "from bs4 import BeautifulSoup"
   ]
  },
  {
   "cell_type": "code",
   "execution_count": 2,
   "metadata": {},
   "outputs": [
    {
     "name": "stderr",
     "output_type": "stream",
     "text": [
      "100%|████████████████████████████████████████████████████████████████████████████████| 111/111 [00:40<00:00,  2.77it/s]"
     ]
    },
    {
     "name": "stdout",
     "output_type": "stream",
     "text": [
      "Wall time: 40.3 s\n"
     ]
    },
    {
     "name": "stderr",
     "output_type": "stream",
     "text": [
      "\n"
     ]
    }
   ],
   "source": [
    "%%time\n",
    "\n",
    "a = pd.DataFrame({'filename1': os.listdir()})\n",
    "b = a.filename1.str.startswith(\"security\")\n",
    "files = list(a[b].filename1)\n",
    "final_df = pd.DataFrame()\n",
    "\n",
    "for file in tqdm(files):\n",
    "    df = joblib.load(file)\n",
    "    if final_df.empty:\n",
    "        final_df = df\n",
    "    else:\n",
    "        final_df = pd.concat([df, final_df])"
   ]
  },
  {
   "cell_type": "code",
   "execution_count": 3,
   "metadata": {},
   "outputs": [
    {
     "data": {
      "text/html": [
       "<div>\n",
       "<style scoped>\n",
       "    .dataframe tbody tr th:only-of-type {\n",
       "        vertical-align: middle;\n",
       "    }\n",
       "\n",
       "    .dataframe tbody tr th {\n",
       "        vertical-align: top;\n",
       "    }\n",
       "\n",
       "    .dataframe thead th {\n",
       "        text-align: right;\n",
       "    }\n",
       "</style>\n",
       "<table border=\"1\" class=\"dataframe\">\n",
       "  <thead>\n",
       "    <tr style=\"text-align: right;\">\n",
       "      <th></th>\n",
       "      <th>title</th>\n",
       "      <th>summary_x</th>\n",
       "      <th>links</th>\n",
       "      <th>link</th>\n",
       "      <th>id</th>\n",
       "      <th>guidislink</th>\n",
       "      <th>published</th>\n",
       "      <th>published_parsed</th>\n",
       "      <th>title_detail.type</th>\n",
       "      <th>title_detail.language</th>\n",
       "      <th>...</th>\n",
       "      <th>authorposts</th>\n",
       "      <th>postcategory</th>\n",
       "      <th>customexcerpt</th>\n",
       "      <th>categories</th>\n",
       "      <th>date</th>\n",
       "      <th>URL</th>\n",
       "      <th>authors_y</th>\n",
       "      <th>keywords</th>\n",
       "      <th>summary_y</th>\n",
       "      <th>text</th>\n",
       "    </tr>\n",
       "  </thead>\n",
       "  <tbody>\n",
       "    <tr>\n",
       "      <th>313</th>\n",
       "      <td>How drones affect your threat model</td>\n",
       "      <td>&lt;p&gt;Most security leaders are unlikely to have ...</td>\n",
       "      <td>[{'rel': 'alternate', 'type': 'text/html', 'hr...</td>\n",
       "      <td>https://www.csoonline.com/article/3568452/how-...</td>\n",
       "      <td>NaN</td>\n",
       "      <td>NaN</td>\n",
       "      <td>Mon, 03 Aug 2020 03:00:00 -0700</td>\n",
       "      <td>(2020, 8, 3, 10, 0, 0, 0, 216, 0)</td>\n",
       "      <td>text/plain</td>\n",
       "      <td>None</td>\n",
       "      <td>...</td>\n",
       "      <td>NaN</td>\n",
       "      <td>NaN</td>\n",
       "      <td>NaN</td>\n",
       "      <td></td>\n",
       "      <td>None</td>\n",
       "      <td>https://www.csoonline.com/article/3568452/how-...</td>\n",
       "      <td>[Jaikumar Vijayan]</td>\n",
       "      <td>[model, drone, security, unmanned, using, need...</td>\n",
       "      <td>Most security leaders are unlikely to have dro...</td>\n",
       "      <td>Most security leaders are unlikely to have dro...</td>\n",
       "    </tr>\n",
       "    <tr>\n",
       "      <th>346</th>\n",
       "      <td>A look at Benchmark Analytics, which wants to ...</td>\n",
       "      <td>&lt;A HREF=\"https://www.bloomberg.com/news/articl...</td>\n",
       "      <td>[{'rel': 'alternate', 'type': 'text/html', 'hr...</td>\n",
       "      <td>http://www.techmeme.com/200715/p41#a200715p41</td>\n",
       "      <td>http://www.techmeme.com/200715/p41#a200715p41</td>\n",
       "      <td>False</td>\n",
       "      <td>Wed, 15 Jul 2020 16:20:01 -0400</td>\n",
       "      <td>(2020, 7, 15, 20, 20, 1, 2, 197, 0)</td>\n",
       "      <td>text/plain</td>\n",
       "      <td>None</td>\n",
       "      <td>...</td>\n",
       "      <td>NaN</td>\n",
       "      <td>NaN</td>\n",
       "      <td>NaN</td>\n",
       "      <td>NaN</td>\n",
       "      <td>2015-07-20 00:00:00</td>\n",
       "      <td>http://www.techmeme.com/200715/p41#a200715p41</td>\n",
       "      <td>[]</td>\n",
       "      <td>[jan, significant, amazon, deadline, look, com...</td>\n",
       "      <td>— - Amazon has told staff who can work from ho...</td>\n",
       "      <td>— - Amazon has told staff who can work from ho...</td>\n",
       "    </tr>\n",
       "  </tbody>\n",
       "</table>\n",
       "<p>2 rows × 53 columns</p>\n",
       "</div>"
      ],
      "text/plain": [
       "                                                 title  \\\n",
       "313                How drones affect your threat model   \n",
       "346  A look at Benchmark Analytics, which wants to ...   \n",
       "\n",
       "                                             summary_x  \\\n",
       "313  <p>Most security leaders are unlikely to have ...   \n",
       "346  <A HREF=\"https://www.bloomberg.com/news/articl...   \n",
       "\n",
       "                                                 links  \\\n",
       "313  [{'rel': 'alternate', 'type': 'text/html', 'hr...   \n",
       "346  [{'rel': 'alternate', 'type': 'text/html', 'hr...   \n",
       "\n",
       "                                                  link  \\\n",
       "313  https://www.csoonline.com/article/3568452/how-...   \n",
       "346      http://www.techmeme.com/200715/p41#a200715p41   \n",
       "\n",
       "                                                id guidislink  \\\n",
       "313                                            NaN        NaN   \n",
       "346  http://www.techmeme.com/200715/p41#a200715p41      False   \n",
       "\n",
       "                           published                     published_parsed  \\\n",
       "313  Mon, 03 Aug 2020 03:00:00 -0700    (2020, 8, 3, 10, 0, 0, 0, 216, 0)   \n",
       "346  Wed, 15 Jul 2020 16:20:01 -0400  (2020, 7, 15, 20, 20, 1, 2, 197, 0)   \n",
       "\n",
       "    title_detail.type title_detail.language  ... authorposts postcategory  \\\n",
       "313        text/plain                  None  ...         NaN          NaN   \n",
       "346        text/plain                  None  ...         NaN          NaN   \n",
       "\n",
       "    customexcerpt categories                 date  \\\n",
       "313           NaN                            None   \n",
       "346           NaN        NaN  2015-07-20 00:00:00   \n",
       "\n",
       "                                                   URL           authors_y  \\\n",
       "313  https://www.csoonline.com/article/3568452/how-...  [Jaikumar Vijayan]   \n",
       "346      http://www.techmeme.com/200715/p41#a200715p41                  []   \n",
       "\n",
       "                                              keywords  \\\n",
       "313  [model, drone, security, unmanned, using, need...   \n",
       "346  [jan, significant, amazon, deadline, look, com...   \n",
       "\n",
       "                                             summary_y  \\\n",
       "313  Most security leaders are unlikely to have dro...   \n",
       "346  — - Amazon has told staff who can work from ho...   \n",
       "\n",
       "                                                  text  \n",
       "313  Most security leaders are unlikely to have dro...  \n",
       "346  — - Amazon has told staff who can work from ho...  \n",
       "\n",
       "[2 rows x 53 columns]"
      ]
     },
     "execution_count": 3,
     "metadata": {},
     "output_type": "execute_result"
    }
   ],
   "source": [
    "final_df.sample(2)"
   ]
  },
  {
   "cell_type": "code",
   "execution_count": 4,
   "metadata": {},
   "outputs": [
    {
     "data": {
      "text/plain": [
       "41162"
      ]
     },
     "execution_count": 4,
     "metadata": {},
     "output_type": "execute_result"
    }
   ],
   "source": [
    "sum(list(final_df.URL == final_df.link))"
   ]
  },
  {
   "cell_type": "code",
   "execution_count": 5,
   "metadata": {},
   "outputs": [],
   "source": [
    "final_df2 = final_df[['title', 'summary_x', 'URL', 'published', 'keywords', 'summary_y', 'text' ]]"
   ]
  },
  {
   "cell_type": "markdown",
   "metadata": {},
   "source": [
    "------"
   ]
  },
  {
   "cell_type": "code",
   "execution_count": null,
   "metadata": {},
   "outputs": [],
   "source": []
  },
  {
   "cell_type": "code",
   "execution_count": 6,
   "metadata": {},
   "outputs": [
    {
     "name": "stderr",
     "output_type": "stream",
     "text": [
      "C:\\Users\\user\\Anaconda3\\lib\\site-packages\\pandas\\core\\generic.py:5303: SettingWithCopyWarning: \n",
      "A value is trying to be set on a copy of a slice from a DataFrame.\n",
      "Try using .loc[row_indexer,col_indexer] = value instead\n",
      "\n",
      "See the caveats in the documentation: https://pandas.pydata.org/pandas-docs/stable/user_guide/indexing.html#returning-a-view-versus-a-copy\n",
      "  self[name] = value\n"
     ]
    }
   ],
   "source": [
    "# the column 'published' has the time string.  Convert to datetime, as a timezone aware entry. \n",
    "# Fix EDT and PDT in advance\n",
    "\n",
    "t1 = final_df2.published.apply(str)\n",
    "t1 = [x.replace('EDT', '-0400') for x in t1]\n",
    "t1 = [x.replace('PDT', '-0700') for x in t1]\n",
    "t1 = [(pd.to_datetime(x)) for x in t1]\n",
    "final_df2.published = t1"
   ]
  },
  {
   "cell_type": "code",
   "execution_count": 7,
   "metadata": {},
   "outputs": [],
   "source": [
    "# Write a function to get just the data and time without timezone so it can be exported to Excel\n",
    "\n",
    "def no_timezone(time_string):\n",
    "    try:\n",
    "        no_tz = datetime.strftime(time_string, \"%Y-%m-%d %H:%M:%S\")\n",
    "    except:\n",
    "        no_tz = 0\n",
    "    return no_tz"
   ]
  },
  {
   "cell_type": "code",
   "execution_count": 8,
   "metadata": {},
   "outputs": [
    {
     "name": "stderr",
     "output_type": "stream",
     "text": [
      "C:\\Users\\user\\Anaconda3\\lib\\site-packages\\ipykernel_launcher.py:2: SettingWithCopyWarning: \n",
      "A value is trying to be set on a copy of a slice from a DataFrame.\n",
      "Try using .loc[row_indexer,col_indexer] = value instead\n",
      "\n",
      "See the caveats in the documentation: https://pandas.pydata.org/pandas-docs/stable/user_guide/indexing.html#returning-a-view-versus-a-copy\n",
      "  \n",
      "C:\\Users\\user\\Anaconda3\\lib\\site-packages\\pandas\\core\\frame.py:3997: SettingWithCopyWarning: \n",
      "A value is trying to be set on a copy of a slice from a DataFrame\n",
      "\n",
      "See the caveats in the documentation: https://pandas.pydata.org/pandas-docs/stable/user_guide/indexing.html#returning-a-view-versus-a-copy\n",
      "  errors=errors,\n"
     ]
    }
   ],
   "source": [
    "# Get the published date (no timezone) in a new column\n",
    "final_df2['published_date'] = final_df2.published.apply(no_timezone)\n",
    "\n",
    "# Drop the published column \n",
    "final_df2.drop(columns = ['published'], inplace = True)"
   ]
  },
  {
   "cell_type": "code",
   "execution_count": null,
   "metadata": {},
   "outputs": [],
   "source": []
  },
  {
   "cell_type": "code",
   "execution_count": null,
   "metadata": {},
   "outputs": [],
   "source": []
  },
  {
   "cell_type": "code",
   "execution_count": 9,
   "metadata": {},
   "outputs": [
    {
     "data": {
      "text/plain": [
       "41162"
      ]
     },
     "execution_count": 9,
     "metadata": {},
     "output_type": "execute_result"
    }
   ],
   "source": [
    "len(final_df2)"
   ]
  },
  {
   "cell_type": "code",
   "execution_count": 10,
   "metadata": {},
   "outputs": [
    {
     "data": {
      "text/html": [
       "<div>\n",
       "<style scoped>\n",
       "    .dataframe tbody tr th:only-of-type {\n",
       "        vertical-align: middle;\n",
       "    }\n",
       "\n",
       "    .dataframe tbody tr th {\n",
       "        vertical-align: top;\n",
       "    }\n",
       "\n",
       "    .dataframe thead th {\n",
       "        text-align: right;\n",
       "    }\n",
       "</style>\n",
       "<table border=\"1\" class=\"dataframe\">\n",
       "  <thead>\n",
       "    <tr style=\"text-align: right;\">\n",
       "      <th></th>\n",
       "      <th>title</th>\n",
       "      <th>summary_x</th>\n",
       "      <th>URL</th>\n",
       "      <th>keywords</th>\n",
       "      <th>summary_y</th>\n",
       "      <th>text</th>\n",
       "      <th>published_date</th>\n",
       "    </tr>\n",
       "  </thead>\n",
       "  <tbody>\n",
       "    <tr>\n",
       "      <th>240</th>\n",
       "      <td>TikTok, WeChat Bans Not Crucial to US Security...</td>\n",
       "      <td>&lt;p&gt;&lt;strong&gt;&lt;span style=\"font-size: medium;\"&gt;&lt;s...</td>\n",
       "      <td>http://feedproxy.google.com/~r/Securityweek/~3...</td>\n",
       "      <td>[china, trump, chinese, bans, crucial, wechat,...</td>\n",
       "      <td>The US bans on Chinese apps TikTok and WeChat ...</td>\n",
       "      <td>The US bans on Chinese apps TikTok and WeChat ...</td>\n",
       "      <td>2020-08-10 11:35:31</td>\n",
       "    </tr>\n",
       "    <tr>\n",
       "      <th>197</th>\n",
       "      <td>Improving Malicious Document Detection in Gmai...</td>\n",
       "      <td>&lt;span class=\"byline-author\"&gt;Posted by Elie Bur...</td>\n",
       "      <td>http://feedproxy.google.com/~r/GoogleOnlineSec...</td>\n",
       "      <td>[documents, users, improving, detection, scann...</td>\n",
       "      <td>The document analyzers are responsible for par...</td>\n",
       "      <td>\\n\\n\\n\\n\\n\\nSince the new scanner launched at ...</td>\n",
       "      <td>2020-02-25 12:00:00</td>\n",
       "    </tr>\n",
       "    <tr>\n",
       "      <th>293</th>\n",
       "      <td>Trump space speech in Florida likely to test a...</td>\n",
       "      <td>White House recognizes the role human spacefli...</td>\n",
       "      <td>https://arstechnica.com/?p=1679682</td>\n",
       "      <td>[going, florida, nasa, test, crew, speech, pro...</td>\n",
       "      <td>After President Trump appointed a conservative...</td>\n",
       "      <td>After President Trump appointed a conservative...</td>\n",
       "      <td>2020-05-29 15:04:16</td>\n",
       "    </tr>\n",
       "    <tr>\n",
       "      <th>207</th>\n",
       "      <td>QakBot Banking Trojan Returned With New Sneaky...</td>\n",
       "      <td>A notorious banking trojan aimed at stealing b...</td>\n",
       "      <td>http://feedproxy.google.com/~r/TheHackersNews/...</td>\n",
       "      <td>[sneaky, point, qbot, money, malspam, qakbot, ...</td>\n",
       "      <td>\"An external operator can perform bank transac...</td>\n",
       "      <td>Using Hijacked Email Threads as Lures\\n\\nFrom ...</td>\n",
       "      <td>2020-08-27 02:59:37</td>\n",
       "    </tr>\n",
       "    <tr>\n",
       "      <th>292</th>\n",
       "      <td>9 tips to detect and prevent web shell attacks...</td>\n",
       "      <td>&lt;p&gt;One tool that bad guys use to go after your...</td>\n",
       "      <td>https://www.csoonline.com/article/3541614/9-ti...</td>\n",
       "      <td>[networks, detect, files, windows, compare, ns...</td>\n",
       "      <td>One tool that bad guys use to go after your we...</td>\n",
       "      <td>One tool that bad guys use to go after your we...</td>\n",
       "      <td>2020-05-13 03:00:00</td>\n",
       "    </tr>\n",
       "  </tbody>\n",
       "</table>\n",
       "</div>"
      ],
      "text/plain": [
       "                                                 title  \\\n",
       "240  TikTok, WeChat Bans Not Crucial to US Security...   \n",
       "197  Improving Malicious Document Detection in Gmai...   \n",
       "293  Trump space speech in Florida likely to test a...   \n",
       "207  QakBot Banking Trojan Returned With New Sneaky...   \n",
       "292  9 tips to detect and prevent web shell attacks...   \n",
       "\n",
       "                                             summary_x  \\\n",
       "240  <p><strong><span style=\"font-size: medium;\"><s...   \n",
       "197  <span class=\"byline-author\">Posted by Elie Bur...   \n",
       "293  White House recognizes the role human spacefli...   \n",
       "207  A notorious banking trojan aimed at stealing b...   \n",
       "292  <p>One tool that bad guys use to go after your...   \n",
       "\n",
       "                                                   URL  \\\n",
       "240  http://feedproxy.google.com/~r/Securityweek/~3...   \n",
       "197  http://feedproxy.google.com/~r/GoogleOnlineSec...   \n",
       "293                 https://arstechnica.com/?p=1679682   \n",
       "207  http://feedproxy.google.com/~r/TheHackersNews/...   \n",
       "292  https://www.csoonline.com/article/3541614/9-ti...   \n",
       "\n",
       "                                              keywords  \\\n",
       "240  [china, trump, chinese, bans, crucial, wechat,...   \n",
       "197  [documents, users, improving, detection, scann...   \n",
       "293  [going, florida, nasa, test, crew, speech, pro...   \n",
       "207  [sneaky, point, qbot, money, malspam, qakbot, ...   \n",
       "292  [networks, detect, files, windows, compare, ns...   \n",
       "\n",
       "                                             summary_y  \\\n",
       "240  The US bans on Chinese apps TikTok and WeChat ...   \n",
       "197  The document analyzers are responsible for par...   \n",
       "293  After President Trump appointed a conservative...   \n",
       "207  \"An external operator can perform bank transac...   \n",
       "292  One tool that bad guys use to go after your we...   \n",
       "\n",
       "                                                  text       published_date  \n",
       "240  The US bans on Chinese apps TikTok and WeChat ...  2020-08-10 11:35:31  \n",
       "197  \\n\\n\\n\\n\\n\\nSince the new scanner launched at ...  2020-02-25 12:00:00  \n",
       "293  After President Trump appointed a conservative...  2020-05-29 15:04:16  \n",
       "207  Using Hijacked Email Threads as Lures\\n\\nFrom ...  2020-08-27 02:59:37  \n",
       "292  One tool that bad guys use to go after your we...  2020-05-13 03:00:00  "
      ]
     },
     "execution_count": 10,
     "metadata": {},
     "output_type": "execute_result"
    }
   ],
   "source": [
    "final_df2.sample(5)"
   ]
  },
  {
   "cell_type": "code",
   "execution_count": 9,
   "metadata": {},
   "outputs": [],
   "source": [
    "# print((final_df2.applymap(type) == list).all())"
   ]
  },
  {
   "cell_type": "code",
   "execution_count": 10,
   "metadata": {},
   "outputs": [],
   "source": [
    "# print(final_df2.applymap(type))"
   ]
  },
  {
   "cell_type": "code",
   "execution_count": 11,
   "metadata": {},
   "outputs": [],
   "source": [
    "# a = ['one', 'two', 'three']\n",
    "# b = ','.join(a)"
   ]
  },
  {
   "cell_type": "code",
   "execution_count": 12,
   "metadata": {},
   "outputs": [],
   "source": [
    "\n",
    "final_df2.keywords = [','.join(a) for a in final_df2.keywords.copy(deep=True)]"
   ]
  },
  {
   "cell_type": "code",
   "execution_count": 13,
   "metadata": {},
   "outputs": [
    {
     "name": "stdout",
     "output_type": "stream",
     "text": [
      "Length before drop_duplicates 41162\n",
      "Length after drop_duplicates 38676\n"
     ]
    }
   ],
   "source": [
    "print('Length before drop_duplicates', len(final_df2))\n",
    "final_df2 = final_df2.drop_duplicates()\n",
    "print('Length after drop_duplicates', len(final_df2))\n"
   ]
  },
  {
   "cell_type": "code",
   "execution_count": 14,
   "metadata": {},
   "outputs": [
    {
     "data": {
      "text/plain": [
       "10369"
      ]
     },
     "execution_count": 14,
     "metadata": {},
     "output_type": "execute_result"
    }
   ],
   "source": [
    "final_df2.text.nunique()\n",
    "# final_df2.text2=final_df2.text"
   ]
  },
  {
   "cell_type": "code",
   "execution_count": 15,
   "metadata": {},
   "outputs": [
    {
     "name": "stdout",
     "output_type": "stream",
     "text": [
      "10369 articles in final_df3\n"
     ]
    }
   ],
   "source": [
    "final_df3 = final_df2.groupby('text').head(1)\n",
    "print(len(final_df3), 'articles in final_df3')"
   ]
  },
  {
   "cell_type": "code",
   "execution_count": 16,
   "metadata": {},
   "outputs": [],
   "source": [
    "final_df3.reset_index(drop=True, inplace=True)"
   ]
  },
  {
   "cell_type": "code",
   "execution_count": 17,
   "metadata": {},
   "outputs": [
    {
     "data": {
      "text/html": [
       "<div>\n",
       "<style scoped>\n",
       "    .dataframe tbody tr th:only-of-type {\n",
       "        vertical-align: middle;\n",
       "    }\n",
       "\n",
       "    .dataframe tbody tr th {\n",
       "        vertical-align: top;\n",
       "    }\n",
       "\n",
       "    .dataframe thead th {\n",
       "        text-align: right;\n",
       "    }\n",
       "</style>\n",
       "<table border=\"1\" class=\"dataframe\">\n",
       "  <thead>\n",
       "    <tr style=\"text-align: right;\">\n",
       "      <th></th>\n",
       "      <th>title</th>\n",
       "      <th>summary_x</th>\n",
       "      <th>URL</th>\n",
       "      <th>keywords</th>\n",
       "      <th>summary_y</th>\n",
       "      <th>text</th>\n",
       "      <th>published_date</th>\n",
       "    </tr>\n",
       "  </thead>\n",
       "  <tbody>\n",
       "    <tr>\n",
       "      <th>0</th>\n",
       "      <td>Friday Squid Blogging: Morning Squid</td>\n",
       "      <td>Asa ika means \"morning squid\" in Japanese. As ...</td>\n",
       "      <td>https://www.schneier.com/blog/archives/2020/09...</td>\n",
       "      <td>w,r,i,t,i,n,g,,,p,e,r,s,o,n,a,l,,,w,o,r,k,i,n,...</td>\n",
       "      <td>About Bruce SchneierI am a public-interest tec...</td>\n",
       "      <td>About Bruce Schneier\\n\\nI am a public-interest...</td>\n",
       "      <td>2020-09-04 21:53:54</td>\n",
       "    </tr>\n",
       "    <tr>\n",
       "      <th>1</th>\n",
       "      <td>Insider Attack on the Carnegie Library</td>\n",
       "      <td>Greg Priore, the person in charge of the rare ...</td>\n",
       "      <td>https://www.schneier.com/blog/archives/2020/09...</td>\n",
       "      <td>p,e,r,e,n,n,i,a,l,,,c,a,r,n,e,g,i,e,,,t,r,u,s,...</td>\n",
       "      <td>Insider Attack on the Carnegie LibraryGreg Pri...</td>\n",
       "      <td>Insider Attack on the Carnegie Library\\n\\nGreg...</td>\n",
       "      <td>2020-09-02 12:02:03</td>\n",
       "    </tr>\n",
       "    <tr>\n",
       "      <th>2</th>\n",
       "      <td>North Korea ATM Hack</td>\n",
       "      <td>The US Cybersecurity and Infrastructure Securi...</td>\n",
       "      <td>https://www.schneier.com/blog/archives/2020/09...</td>\n",
       "      <td>c,y,b,e,r,s,e,c,u,r,i,t,y,,,c,i,s,a,,,s,c,h,n,...</td>\n",
       "      <td>North Korea ATM HackThe US Cybersecurity and I...</td>\n",
       "      <td>North Korea ATM Hack\\n\\nThe US Cybersecurity a...</td>\n",
       "      <td>2020-09-01 11:17:39</td>\n",
       "    </tr>\n",
       "    <tr>\n",
       "      <th>3</th>\n",
       "      <td>US Postal Service Files Blockchain Voting Patent</td>\n",
       "      <td>The US Postal Service has filed a patent on a ...</td>\n",
       "      <td>https://www.schneier.com/blog/archives/2020/08...</td>\n",
       "      <td>m,a,i,l,,,v,o,t,e,s,,,b,l,o,c,k,c,h,a,i,n,,,s,...</td>\n",
       "      <td>US Postal Service Files Blockchain Voting Pate...</td>\n",
       "      <td>US Postal Service Files Blockchain Voting Pate...</td>\n",
       "      <td>2020-08-28 11:40:08</td>\n",
       "    </tr>\n",
       "    <tr>\n",
       "      <th>4</th>\n",
       "      <td>Cory Doctorow on The Age of Surveillance Capit...</td>\n",
       "      <td>Cory Doctorow has writtten an extended rebutta...</td>\n",
       "      <td>https://www.schneier.com/blog/archives/2020/08...</td>\n",
       "      <td>u,n,i,q,u,e,,,u,n,e,t,h,i,c,a,l,,,s,o,c,i,e,t,...</td>\n",
       "      <td>Cory Doctorow on The Age of Surveillance Capit...</td>\n",
       "      <td>Cory Doctorow on The Age of Surveillance Capit...</td>\n",
       "      <td>2020-08-27 11:33:31</td>\n",
       "    </tr>\n",
       "    <tr>\n",
       "      <th>...</th>\n",
       "      <td>...</td>\n",
       "      <td>...</td>\n",
       "      <td>...</td>\n",
       "      <td>...</td>\n",
       "      <td>...</td>\n",
       "      <td>...</td>\n",
       "      <td>...</td>\n",
       "    </tr>\n",
       "    <tr>\n",
       "      <th>10364</th>\n",
       "      <td>Amazon confirms a major outbreak of COVID-19 a...</td>\n",
       "      <td>&lt;A HREF=\"https://www.businessinsider.com/amazo...</td>\n",
       "      <td>http://www.techmeme.com/200423/p38#a200423p38</td>\n",
       "      <td>v,i,d,e,o,,,p,a,s,t,,,s,e,c,u,r,i,t,y,,,w,a,r,...</td>\n",
       "      <td>— Zoom Video Communications Inc. has been lamb...</td>\n",
       "      <td>— Zoom Video Communications Inc. has been lamb...</td>\n",
       "      <td>2020-04-23 19:55:23</td>\n",
       "    </tr>\n",
       "    <tr>\n",
       "      <th>10365</th>\n",
       "      <td>The coronavirus is accelerating the shift to a...</td>\n",
       "      <td>&lt;A HREF=\"https://www.ft.com/content/990e89de-8...</td>\n",
       "      <td>http://www.techmeme.com/200423/p33#a200423p33</td>\n",
       "      <td>s,h,i,f,t,,,f,i,n,a,n,c,i,a,l,,,r,i,g,h,t,,,w,...</td>\n",
       "      <td>— Miro is a company in the right place at the ...</td>\n",
       "      <td>— Miro is a company in the right place at the ...</td>\n",
       "      <td>2020-04-23 17:30:02</td>\n",
       "    </tr>\n",
       "    <tr>\n",
       "      <th>10366</th>\n",
       "      <td>Doctors are using AI to triage covid-19 patien...</td>\n",
       "      <td>Rizwan Malik had always had an interest in AI....</td>\n",
       "      <td>https://www.technologyreview.com/2020/04/23/10...</td>\n",
       "      <td>p,a,n,d,e,m,i,c,,,h,e,a,l,t,h,,,s,y,s,t,e,m,,,...</td>\n",
       "      <td>The pandemic, in other words, has turned into ...</td>\n",
       "      <td>The Royal Bolton Hospital is among a growing n...</td>\n",
       "      <td>2020-04-23 14:00:00</td>\n",
       "    </tr>\n",
       "    <tr>\n",
       "      <th>10367</th>\n",
       "      <td>The race to save the first draft of coronaviru...</td>\n",
       "      <td>Eight years ago, Suleika Jaouad was alone in a...</td>\n",
       "      <td>https://www.technologyreview.com/2020/04/21/99...</td>\n",
       "      <td>s,a,v,e,,,p,a,n,d,e,m,i,c,,,l,i,f,e,,,i,n,t,e,...</td>\n",
       "      <td>But getting the internet to archive as much as...</td>\n",
       "      <td>Within a week, Blair’s tweet got the attention...</td>\n",
       "      <td>2020-04-21 09:00:00</td>\n",
       "    </tr>\n",
       "    <tr>\n",
       "      <th>10368</th>\n",
       "      <td>The US needs to do 20 million tests a day to r...</td>\n",
       "      <td>The news: A group of experts has produced a pl...</td>\n",
       "      <td>https://www.technologyreview.com/2020/04/20/10...</td>\n",
       "      <td>s,a,f,e,l,y,,,w,a,y,,,d,a,y,,,2,0,,,p,l,a,n,,,...</td>\n",
       "      <td>The news: A group of experts has produced a pl...</td>\n",
       "      <td>The news: A group of experts has produced a pl...</td>\n",
       "      <td>2020-04-20 10:40:47</td>\n",
       "    </tr>\n",
       "  </tbody>\n",
       "</table>\n",
       "<p>10369 rows × 7 columns</p>\n",
       "</div>"
      ],
      "text/plain": [
       "                                                   title  \\\n",
       "0                   Friday Squid Blogging: Morning Squid   \n",
       "1                 Insider Attack on the Carnegie Library   \n",
       "2                                   North Korea ATM Hack   \n",
       "3       US Postal Service Files Blockchain Voting Patent   \n",
       "4      Cory Doctorow on The Age of Surveillance Capit...   \n",
       "...                                                  ...   \n",
       "10364  Amazon confirms a major outbreak of COVID-19 a...   \n",
       "10365  The coronavirus is accelerating the shift to a...   \n",
       "10366  Doctors are using AI to triage covid-19 patien...   \n",
       "10367  The race to save the first draft of coronaviru...   \n",
       "10368  The US needs to do 20 million tests a day to r...   \n",
       "\n",
       "                                               summary_x  \\\n",
       "0      Asa ika means \"morning squid\" in Japanese. As ...   \n",
       "1      Greg Priore, the person in charge of the rare ...   \n",
       "2      The US Cybersecurity and Infrastructure Securi...   \n",
       "3      The US Postal Service has filed a patent on a ...   \n",
       "4      Cory Doctorow has writtten an extended rebutta...   \n",
       "...                                                  ...   \n",
       "10364  <A HREF=\"https://www.businessinsider.com/amazo...   \n",
       "10365  <A HREF=\"https://www.ft.com/content/990e89de-8...   \n",
       "10366  Rizwan Malik had always had an interest in AI....   \n",
       "10367  Eight years ago, Suleika Jaouad was alone in a...   \n",
       "10368  The news: A group of experts has produced a pl...   \n",
       "\n",
       "                                                     URL  \\\n",
       "0      https://www.schneier.com/blog/archives/2020/09...   \n",
       "1      https://www.schneier.com/blog/archives/2020/09...   \n",
       "2      https://www.schneier.com/blog/archives/2020/09...   \n",
       "3      https://www.schneier.com/blog/archives/2020/08...   \n",
       "4      https://www.schneier.com/blog/archives/2020/08...   \n",
       "...                                                  ...   \n",
       "10364      http://www.techmeme.com/200423/p38#a200423p38   \n",
       "10365      http://www.techmeme.com/200423/p33#a200423p33   \n",
       "10366  https://www.technologyreview.com/2020/04/23/10...   \n",
       "10367  https://www.technologyreview.com/2020/04/21/99...   \n",
       "10368  https://www.technologyreview.com/2020/04/20/10...   \n",
       "\n",
       "                                                keywords  \\\n",
       "0      w,r,i,t,i,n,g,,,p,e,r,s,o,n,a,l,,,w,o,r,k,i,n,...   \n",
       "1      p,e,r,e,n,n,i,a,l,,,c,a,r,n,e,g,i,e,,,t,r,u,s,...   \n",
       "2      c,y,b,e,r,s,e,c,u,r,i,t,y,,,c,i,s,a,,,s,c,h,n,...   \n",
       "3      m,a,i,l,,,v,o,t,e,s,,,b,l,o,c,k,c,h,a,i,n,,,s,...   \n",
       "4      u,n,i,q,u,e,,,u,n,e,t,h,i,c,a,l,,,s,o,c,i,e,t,...   \n",
       "...                                                  ...   \n",
       "10364  v,i,d,e,o,,,p,a,s,t,,,s,e,c,u,r,i,t,y,,,w,a,r,...   \n",
       "10365  s,h,i,f,t,,,f,i,n,a,n,c,i,a,l,,,r,i,g,h,t,,,w,...   \n",
       "10366  p,a,n,d,e,m,i,c,,,h,e,a,l,t,h,,,s,y,s,t,e,m,,,...   \n",
       "10367  s,a,v,e,,,p,a,n,d,e,m,i,c,,,l,i,f,e,,,i,n,t,e,...   \n",
       "10368  s,a,f,e,l,y,,,w,a,y,,,d,a,y,,,2,0,,,p,l,a,n,,,...   \n",
       "\n",
       "                                               summary_y  \\\n",
       "0      About Bruce SchneierI am a public-interest tec...   \n",
       "1      Insider Attack on the Carnegie LibraryGreg Pri...   \n",
       "2      North Korea ATM HackThe US Cybersecurity and I...   \n",
       "3      US Postal Service Files Blockchain Voting Pate...   \n",
       "4      Cory Doctorow on The Age of Surveillance Capit...   \n",
       "...                                                  ...   \n",
       "10364  — Zoom Video Communications Inc. has been lamb...   \n",
       "10365  — Miro is a company in the right place at the ...   \n",
       "10366  The pandemic, in other words, has turned into ...   \n",
       "10367  But getting the internet to archive as much as...   \n",
       "10368  The news: A group of experts has produced a pl...   \n",
       "\n",
       "                                                    text       published_date  \n",
       "0      About Bruce Schneier\\n\\nI am a public-interest...  2020-09-04 21:53:54  \n",
       "1      Insider Attack on the Carnegie Library\\n\\nGreg...  2020-09-02 12:02:03  \n",
       "2      North Korea ATM Hack\\n\\nThe US Cybersecurity a...  2020-09-01 11:17:39  \n",
       "3      US Postal Service Files Blockchain Voting Pate...  2020-08-28 11:40:08  \n",
       "4      Cory Doctorow on The Age of Surveillance Capit...  2020-08-27 11:33:31  \n",
       "...                                                  ...                  ...  \n",
       "10364  — Zoom Video Communications Inc. has been lamb...  2020-04-23 19:55:23  \n",
       "10365  — Miro is a company in the right place at the ...  2020-04-23 17:30:02  \n",
       "10366  The Royal Bolton Hospital is among a growing n...  2020-04-23 14:00:00  \n",
       "10367  Within a week, Blair’s tweet got the attention...  2020-04-21 09:00:00  \n",
       "10368  The news: A group of experts has produced a pl...  2020-04-20 10:40:47  \n",
       "\n",
       "[10369 rows x 7 columns]"
      ]
     },
     "execution_count": 17,
     "metadata": {},
     "output_type": "execute_result"
    }
   ],
   "source": [
    "final_df3\n"
   ]
  },
  {
   "cell_type": "code",
   "execution_count": 18,
   "metadata": {},
   "outputs": [
    {
     "data": {
      "text/html": [
       "<div>\n",
       "<style scoped>\n",
       "    .dataframe tbody tr th:only-of-type {\n",
       "        vertical-align: middle;\n",
       "    }\n",
       "\n",
       "    .dataframe tbody tr th {\n",
       "        vertical-align: top;\n",
       "    }\n",
       "\n",
       "    .dataframe thead th {\n",
       "        text-align: right;\n",
       "    }\n",
       "</style>\n",
       "<table border=\"1\" class=\"dataframe\">\n",
       "  <thead>\n",
       "    <tr style=\"text-align: right;\">\n",
       "      <th></th>\n",
       "      <th>title</th>\n",
       "      <th>summary_x</th>\n",
       "      <th>URL</th>\n",
       "      <th>keywords</th>\n",
       "      <th>summary_y</th>\n",
       "      <th>text</th>\n",
       "      <th>published_date</th>\n",
       "    </tr>\n",
       "  </thead>\n",
       "  <tbody>\n",
       "    <tr>\n",
       "      <th>3682</th>\n",
       "      <td>U.S. Imposes Sanctions on 11 Chinese Companies...</td>\n",
       "      <td>The move, which affects suppliers to major int...</td>\n",
       "      <td>https://www.nytimes.com/2020/07/20/business/ec...</td>\n",
       "      <td>c,o,m,p,a,n,i,e,s,,,i,m,p,o,s,e,s,,,1,1,,,s,a,...</td>\n",
       "      <td>WASHINGTON — The Trump administration on Monda...</td>\n",
       "      <td>WASHINGTON — The Trump administration on Monda...</td>\n",
       "      <td>2020-07-21 00:29:16</td>\n",
       "    </tr>\n",
       "    <tr>\n",
       "      <th>9041</th>\n",
       "      <td>More Than 8,000 Unsecured Redis Instances Foun...</td>\n",
       "      <td>&lt;img width=\"200\" height=\"125\" src=\"https://blo...</td>\n",
       "      <td>http://feeds.trendmicro.com/~r/Anti-MalwareBlo...</td>\n",
       "      <td>d,a,t,a,,,c,o,m,m,a,n,d,,,i,n,s,t,a,n,c,e,s,,,...</td>\n",
       "      <td>In a previous case, a fake ransomware called F...</td>\n",
       "      <td>By David Fiser (Security Researcher)\\n\\nWe dis...</td>\n",
       "      <td>2020-04-02 12:57:40</td>\n",
       "    </tr>\n",
       "    <tr>\n",
       "      <th>4215</th>\n",
       "      <td>US the Primary Target of ‘Significant’ Cyber-A...</td>\n",
       "      <td>The US has faced 156 major cyber-attacks over ...</td>\n",
       "      <td>https://www.infosecurity-magazine.com:443/news...</td>\n",
       "      <td>c,o,u,n,t,r,i,e,s,,,a,t,t,a,c,k,s,,,s,p,e,c,o,...</td>\n",
       "      <td>The US experienced far more ‘significant’ cybe...</td>\n",
       "      <td>The US experienced far more ‘significant’ cybe...</td>\n",
       "      <td>2020-07-15 08:20:00</td>\n",
       "    </tr>\n",
       "  </tbody>\n",
       "</table>\n",
       "</div>"
      ],
      "text/plain": [
       "                                                  title  \\\n",
       "3682  U.S. Imposes Sanctions on 11 Chinese Companies...   \n",
       "9041  More Than 8,000 Unsecured Redis Instances Foun...   \n",
       "4215  US the Primary Target of ‘Significant’ Cyber-A...   \n",
       "\n",
       "                                              summary_x  \\\n",
       "3682  The move, which affects suppliers to major int...   \n",
       "9041  <img width=\"200\" height=\"125\" src=\"https://blo...   \n",
       "4215  The US has faced 156 major cyber-attacks over ...   \n",
       "\n",
       "                                                    URL  \\\n",
       "3682  https://www.nytimes.com/2020/07/20/business/ec...   \n",
       "9041  http://feeds.trendmicro.com/~r/Anti-MalwareBlo...   \n",
       "4215  https://www.infosecurity-magazine.com:443/news...   \n",
       "\n",
       "                                               keywords  \\\n",
       "3682  c,o,m,p,a,n,i,e,s,,,i,m,p,o,s,e,s,,,1,1,,,s,a,...   \n",
       "9041  d,a,t,a,,,c,o,m,m,a,n,d,,,i,n,s,t,a,n,c,e,s,,,...   \n",
       "4215  c,o,u,n,t,r,i,e,s,,,a,t,t,a,c,k,s,,,s,p,e,c,o,...   \n",
       "\n",
       "                                              summary_y  \\\n",
       "3682  WASHINGTON — The Trump administration on Monda...   \n",
       "9041  In a previous case, a fake ransomware called F...   \n",
       "4215  The US experienced far more ‘significant’ cybe...   \n",
       "\n",
       "                                                   text       published_date  \n",
       "3682  WASHINGTON — The Trump administration on Monda...  2020-07-21 00:29:16  \n",
       "9041  By David Fiser (Security Researcher)\\n\\nWe dis...  2020-04-02 12:57:40  \n",
       "4215  The US experienced far more ‘significant’ cybe...  2020-07-15 08:20:00  "
      ]
     },
     "execution_count": 18,
     "metadata": {},
     "output_type": "execute_result"
    }
   ],
   "source": [
    "final_df3.sample(3)"
   ]
  },
  {
   "cell_type": "code",
   "execution_count": 19,
   "metadata": {},
   "outputs": [],
   "source": [
    "# sum(final_df3.title.str.contains(\"Corona|corona|coronavirus|covid|Covid|cyber\"))"
   ]
  },
  {
   "cell_type": "code",
   "execution_count": null,
   "metadata": {},
   "outputs": [],
   "source": []
  },
  {
   "cell_type": "code",
   "execution_count": 20,
   "metadata": {},
   "outputs": [],
   "source": [
    "final_df3.to_excel('temp.xlsx',index=False)"
   ]
  },
  {
   "cell_type": "code",
   "execution_count": 23,
   "metadata": {},
   "outputs": [],
   "source": [
    "# Define a function for True/False for corona depending on if any of the corona related\n",
    "# strings is found in a piece of text\n",
    "\n",
    "def corona(text):\n",
    "    corona_story_strings = ['covid', 'corona', 'sars', 'virus', 'coronavirus', 'vaccine']\n",
    "    return any(x in text for x in corona_story_strings)\n",
    "    \n",
    "    \n"
   ]
  },
  {
   "cell_type": "code",
   "execution_count": 24,
   "metadata": {},
   "outputs": [
    {
     "name": "stderr",
     "output_type": "stream",
     "text": [
      "C:\\Users\\user\\Anaconda3\\lib\\site-packages\\ipykernel_launcher.py:1: SettingWithCopyWarning: \n",
      "A value is trying to be set on a copy of a slice from a DataFrame.\n",
      "Try using .loc[row_indexer,col_indexer] = value instead\n",
      "\n",
      "See the caveats in the documentation: https://pandas.pydata.org/pandas-docs/stable/user_guide/indexing.html#returning-a-view-versus-a-copy\n",
      "  \"\"\"Entry point for launching an IPython kernel.\n"
     ]
    }
   ],
   "source": [
    "final_df3['corona'] = final_df3.text.apply(corona)"
   ]
  },
  {
   "cell_type": "code",
   "execution_count": 28,
   "metadata": {},
   "outputs": [
    {
     "data": {
      "text/plain": [
       "['final_df3.pkl']"
      ]
     },
     "execution_count": 28,
     "metadata": {},
     "output_type": "execute_result"
    }
   ],
   "source": [
    "joblib.dump(final_df3, 'final_df3.pkl')"
   ]
  },
  {
   "cell_type": "code",
   "execution_count": 29,
   "metadata": {},
   "outputs": [
    {
     "data": {
      "text/plain": [
       "(6036, 8)"
      ]
     },
     "execution_count": 29,
     "metadata": {},
     "output_type": "execute_result"
    }
   ],
   "source": [
    "final_df3.shape"
   ]
  },
  {
   "cell_type": "code",
   "execution_count": 26,
   "metadata": {},
   "outputs": [
    {
     "data": {
      "text/plain": [
       "False    4779\n",
       "True     1257\n",
       "Name: corona, dtype: int64"
      ]
     },
     "execution_count": 26,
     "metadata": {},
     "output_type": "execute_result"
    }
   ],
   "source": [
    "final_df3.corona.value_counts()"
   ]
  },
  {
   "cell_type": "code",
   "execution_count": 27,
   "metadata": {},
   "outputs": [
    {
     "data": {
      "text/html": [
       "<div>\n",
       "<style scoped>\n",
       "    .dataframe tbody tr th:only-of-type {\n",
       "        vertical-align: middle;\n",
       "    }\n",
       "\n",
       "    .dataframe tbody tr th {\n",
       "        vertical-align: top;\n",
       "    }\n",
       "\n",
       "    .dataframe thead th {\n",
       "        text-align: right;\n",
       "    }\n",
       "</style>\n",
       "<table border=\"1\" class=\"dataframe\">\n",
       "  <thead>\n",
       "    <tr style=\"text-align: right;\">\n",
       "      <th></th>\n",
       "      <th>title</th>\n",
       "      <th>summary_x</th>\n",
       "      <th>URL</th>\n",
       "      <th>keywords</th>\n",
       "      <th>summary_y</th>\n",
       "      <th>text</th>\n",
       "      <th>published_date</th>\n",
       "      <th>corona</th>\n",
       "    </tr>\n",
       "  </thead>\n",
       "  <tbody>\n",
       "    <tr>\n",
       "      <th>20</th>\n",
       "      <td>Evilnum Group targets European and British fin...</td>\n",
       "      <td>&lt;p&gt;A threat actor tracked as Evilnum targeted ...</td>\n",
       "      <td>https://securityaffairs.co/wordpress/105784/cy...</td>\n",
       "      <td>group,evilnum,companies,european,attacks,used,...</td>\n",
       "      <td>A threat actor tracked as Evilnum targeted fin...</td>\n",
       "      <td>A threat actor tracked as Evilnum targeted fin...</td>\n",
       "      <td>2020-07-11 04:45:03</td>\n",
       "      <td>True</td>\n",
       "    </tr>\n",
       "    <tr>\n",
       "      <th>27</th>\n",
       "      <td>15 billion credentials available in the cyberc...</td>\n",
       "      <td>&lt;p&gt;More than 15 billion username and passwords...</td>\n",
       "      <td>https://securityaffairs.co/wordpress/105698/ha...</td>\n",
       "      <td>file,accounts,15,report,access,cybercrime,aver...</td>\n",
       "      <td>More than 15 billion username and passwords ar...</td>\n",
       "      <td>More than 15 billion username and passwords ar...</td>\n",
       "      <td>2020-07-09 14:05:45</td>\n",
       "      <td>True</td>\n",
       "    </tr>\n",
       "    <tr>\n",
       "      <th>30</th>\n",
       "      <td>15K Billion Compromised Credentials Available ...</td>\n",
       "      <td>There are currently 15… &lt;a href=\"https://healt...</td>\n",
       "      <td>https://healthitsecurity.com/news/15k-billion-...</td>\n",
       "      <td>hacker,accounts,compromised,attacks,researcher...</td>\n",
       "      <td>The number of stolen credentials for sale on t...</td>\n",
       "      <td>By Jessica Davis\\n\\nJuly 09, 2020 - There are ...</td>\n",
       "      <td>0</td>\n",
       "      <td>True</td>\n",
       "    </tr>\n",
       "    <tr>\n",
       "      <th>32</th>\n",
       "      <td>Microsoft Sues, Now Controls COVID-19 Phishing...</td>\n",
       "      <td>The US District Court for… &lt;a href=\"https://he...</td>\n",
       "      <td>https://healthitsecurity.com/news/microsoft-su...</td>\n",
       "      <td>case,campaign,attacks,order,court,microsoft,do...</td>\n",
       "      <td>The judge issued a civil court order that allo...</td>\n",
       "      <td>By Jessica Davis\\n\\nJuly 08, 2020 - The US Dis...</td>\n",
       "      <td>0</td>\n",
       "      <td>True</td>\n",
       "    </tr>\n",
       "    <tr>\n",
       "      <th>33</th>\n",
       "      <td>NSA Shares Guide to Securing IPSec VPNs, Telew...</td>\n",
       "      <td>The National Security… &lt;a href=\"https://health...</td>\n",
       "      <td>https://healthitsecurity.com/news/nsa-shares-g...</td>\n",
       "      <td>telework,cnssp,shares,sites,nsa,security,crypt...</td>\n",
       "      <td>By Jessica DavisJuly 07, 2020 - The National S...</td>\n",
       "      <td>By Jessica Davis\\n\\nJuly 07, 2020 - The Nation...</td>\n",
       "      <td>0</td>\n",
       "      <td>True</td>\n",
       "    </tr>\n",
       "    <tr>\n",
       "      <th>...</th>\n",
       "      <td>...</td>\n",
       "      <td>...</td>\n",
       "      <td>...</td>\n",
       "      <td>...</td>\n",
       "      <td>...</td>\n",
       "      <td>...</td>\n",
       "      <td>...</td>\n",
       "      <td>...</td>\n",
       "    </tr>\n",
       "    <tr>\n",
       "      <th>6029</th>\n",
       "      <td>Nextdoor and Walmart partner on a new neighbor...</td>\n",
       "      <td>Neighborhood social network Nextdoor and Walma...</td>\n",
       "      <td>http://feedproxy.google.com/~r/Techcrunch/~3/_...</td>\n",
       "      <td>offer,groups,feature,nextdoor,help,neighbors,n...</td>\n",
       "      <td>Neighborhood social network Nextdoor and Walma...</td>\n",
       "      <td>Neighborhood social network Nextdoor and Walma...</td>\n",
       "      <td>2020-04-23 16:22:09</td>\n",
       "      <td>True</td>\n",
       "    </tr>\n",
       "    <tr>\n",
       "      <th>6030</th>\n",
       "      <td>Daily Crunch: There’s a major iPhone email sec...</td>\n",
       "      <td>Apple plans to fix an iPhone email security bu...</td>\n",
       "      <td>http://feedproxy.google.com/~r/Techcrunch/~3/a...</td>\n",
       "      <td>google,bug,daily,firm,security,extra,techcrunc...</td>\n",
       "      <td>Apple plans to fix an iPhone email security bu...</td>\n",
       "      <td>Apple plans to fix an iPhone email security bu...</td>\n",
       "      <td>2020-04-23 16:10:28</td>\n",
       "      <td>True</td>\n",
       "    </tr>\n",
       "    <tr>\n",
       "      <th>6033</th>\n",
       "      <td>Doctors are using AI to triage covid-19 patien...</td>\n",
       "      <td>Rizwan Malik had always had an interest in AI....</td>\n",
       "      <td>https://www.technologyreview.com/2020/04/23/10...</td>\n",
       "      <td>pandemic,health,system,triage,using,coronaviru...</td>\n",
       "      <td>The pandemic, in other words, has turned into ...</td>\n",
       "      <td>The Royal Bolton Hospital is among a growing n...</td>\n",
       "      <td>2020-04-23 14:00:00</td>\n",
       "      <td>True</td>\n",
       "    </tr>\n",
       "    <tr>\n",
       "      <th>6034</th>\n",
       "      <td>The race to save the first draft of coronaviru...</td>\n",
       "      <td>Eight years ago, Suleika Jaouad was alone in a...</td>\n",
       "      <td>https://www.technologyreview.com/2020/04/21/99...</td>\n",
       "      <td>save,pandemic,life,internet,history,coronaviru...</td>\n",
       "      <td>But getting the internet to archive as much as...</td>\n",
       "      <td>Within a week, Blair’s tweet got the attention...</td>\n",
       "      <td>2020-04-21 09:00:00</td>\n",
       "      <td>True</td>\n",
       "    </tr>\n",
       "    <tr>\n",
       "      <th>6035</th>\n",
       "      <td>The US needs to do 20 million tests a day to r...</td>\n",
       "      <td>The news: A group of experts has produced a pl...</td>\n",
       "      <td>https://www.technologyreview.com/2020/04/20/10...</td>\n",
       "      <td>safely,way,day,20,plan,million,test,reopen,tes...</td>\n",
       "      <td>The news: A group of experts has produced a pl...</td>\n",
       "      <td>The news: A group of experts has produced a pl...</td>\n",
       "      <td>2020-04-20 10:40:47</td>\n",
       "      <td>True</td>\n",
       "    </tr>\n",
       "  </tbody>\n",
       "</table>\n",
       "<p>1257 rows × 8 columns</p>\n",
       "</div>"
      ],
      "text/plain": [
       "                                                  title  \\\n",
       "20    Evilnum Group targets European and British fin...   \n",
       "27    15 billion credentials available in the cyberc...   \n",
       "30    15K Billion Compromised Credentials Available ...   \n",
       "32    Microsoft Sues, Now Controls COVID-19 Phishing...   \n",
       "33    NSA Shares Guide to Securing IPSec VPNs, Telew...   \n",
       "...                                                 ...   \n",
       "6029  Nextdoor and Walmart partner on a new neighbor...   \n",
       "6030  Daily Crunch: There’s a major iPhone email sec...   \n",
       "6033  Doctors are using AI to triage covid-19 patien...   \n",
       "6034  The race to save the first draft of coronaviru...   \n",
       "6035  The US needs to do 20 million tests a day to r...   \n",
       "\n",
       "                                              summary_x  \\\n",
       "20    <p>A threat actor tracked as Evilnum targeted ...   \n",
       "27    <p>More than 15 billion username and passwords...   \n",
       "30    There are currently 15… <a href=\"https://healt...   \n",
       "32    The US District Court for… <a href=\"https://he...   \n",
       "33    The National Security… <a href=\"https://health...   \n",
       "...                                                 ...   \n",
       "6029  Neighborhood social network Nextdoor and Walma...   \n",
       "6030  Apple plans to fix an iPhone email security bu...   \n",
       "6033  Rizwan Malik had always had an interest in AI....   \n",
       "6034  Eight years ago, Suleika Jaouad was alone in a...   \n",
       "6035  The news: A group of experts has produced a pl...   \n",
       "\n",
       "                                                    URL  \\\n",
       "20    https://securityaffairs.co/wordpress/105784/cy...   \n",
       "27    https://securityaffairs.co/wordpress/105698/ha...   \n",
       "30    https://healthitsecurity.com/news/15k-billion-...   \n",
       "32    https://healthitsecurity.com/news/microsoft-su...   \n",
       "33    https://healthitsecurity.com/news/nsa-shares-g...   \n",
       "...                                                 ...   \n",
       "6029  http://feedproxy.google.com/~r/Techcrunch/~3/_...   \n",
       "6030  http://feedproxy.google.com/~r/Techcrunch/~3/a...   \n",
       "6033  https://www.technologyreview.com/2020/04/23/10...   \n",
       "6034  https://www.technologyreview.com/2020/04/21/99...   \n",
       "6035  https://www.technologyreview.com/2020/04/20/10...   \n",
       "\n",
       "                                               keywords  \\\n",
       "20    group,evilnum,companies,european,attacks,used,...   \n",
       "27    file,accounts,15,report,access,cybercrime,aver...   \n",
       "30    hacker,accounts,compromised,attacks,researcher...   \n",
       "32    case,campaign,attacks,order,court,microsoft,do...   \n",
       "33    telework,cnssp,shares,sites,nsa,security,crypt...   \n",
       "...                                                 ...   \n",
       "6029  offer,groups,feature,nextdoor,help,neighbors,n...   \n",
       "6030  google,bug,daily,firm,security,extra,techcrunc...   \n",
       "6033  pandemic,health,system,triage,using,coronaviru...   \n",
       "6034  save,pandemic,life,internet,history,coronaviru...   \n",
       "6035  safely,way,day,20,plan,million,test,reopen,tes...   \n",
       "\n",
       "                                              summary_y  \\\n",
       "20    A threat actor tracked as Evilnum targeted fin...   \n",
       "27    More than 15 billion username and passwords ar...   \n",
       "30    The number of stolen credentials for sale on t...   \n",
       "32    The judge issued a civil court order that allo...   \n",
       "33    By Jessica DavisJuly 07, 2020 - The National S...   \n",
       "...                                                 ...   \n",
       "6029  Neighborhood social network Nextdoor and Walma...   \n",
       "6030  Apple plans to fix an iPhone email security bu...   \n",
       "6033  The pandemic, in other words, has turned into ...   \n",
       "6034  But getting the internet to archive as much as...   \n",
       "6035  The news: A group of experts has produced a pl...   \n",
       "\n",
       "                                                   text       published_date  \\\n",
       "20    A threat actor tracked as Evilnum targeted fin...  2020-07-11 04:45:03   \n",
       "27    More than 15 billion username and passwords ar...  2020-07-09 14:05:45   \n",
       "30    By Jessica Davis\\n\\nJuly 09, 2020 - There are ...                    0   \n",
       "32    By Jessica Davis\\n\\nJuly 08, 2020 - The US Dis...                    0   \n",
       "33    By Jessica Davis\\n\\nJuly 07, 2020 - The Nation...                    0   \n",
       "...                                                 ...                  ...   \n",
       "6029  Neighborhood social network Nextdoor and Walma...  2020-04-23 16:22:09   \n",
       "6030  Apple plans to fix an iPhone email security bu...  2020-04-23 16:10:28   \n",
       "6033  The Royal Bolton Hospital is among a growing n...  2020-04-23 14:00:00   \n",
       "6034  Within a week, Blair’s tweet got the attention...  2020-04-21 09:00:00   \n",
       "6035  The news: A group of experts has produced a pl...  2020-04-20 10:40:47   \n",
       "\n",
       "      corona  \n",
       "20      True  \n",
       "27      True  \n",
       "30      True  \n",
       "32      True  \n",
       "33      True  \n",
       "...      ...  \n",
       "6029    True  \n",
       "6030    True  \n",
       "6033    True  \n",
       "6034    True  \n",
       "6035    True  \n",
       "\n",
       "[1257 rows x 8 columns]"
      ]
     },
     "execution_count": 27,
     "metadata": {},
     "output_type": "execute_result"
    }
   ],
   "source": [
    "final_df3.query('corona == True')"
   ]
  },
  {
   "cell_type": "code",
   "execution_count": 115,
   "metadata": {},
   "outputs": [],
   "source": [
    "final_df3.query('corona == True').to_excel('temp.xlsx')"
   ]
  },
  {
   "cell_type": "code",
   "execution_count": 1,
   "metadata": {},
   "outputs": [
    {
     "name": "stdout",
     "output_type": "stream",
     "text": [
      "Collecting tabloo\n",
      "  Downloading tabloo-0.0.13.tar.gz (2.3 MB)\n",
      "Requirement already satisfied: flask in c:\\users\\user\\anaconda3\\lib\\site-packages (from tabloo) (1.1.2)\n",
      "Collecting flask-cors\n",
      "  Downloading Flask_Cors-3.0.9-py2.py3-none-any.whl (14 kB)\n",
      "Requirement already satisfied: pandas in c:\\users\\user\\anaconda3\\lib\\site-packages (from tabloo) (1.0.3)\n",
      "Requirement already satisfied: Werkzeug>=0.15 in c:\\users\\user\\anaconda3\\lib\\site-packages (from flask->tabloo) (1.0.1)\n",
      "Requirement already satisfied: Jinja2>=2.10.1 in c:\\users\\user\\anaconda3\\lib\\site-packages (from flask->tabloo) (2.11.2)\n",
      "Requirement already satisfied: click>=5.1 in c:\\users\\user\\anaconda3\\lib\\site-packages (from flask->tabloo) (7.1.2)\n",
      "Requirement already satisfied: itsdangerous>=0.24 in c:\\users\\user\\anaconda3\\lib\\site-packages (from flask->tabloo) (1.1.0)\n",
      "Requirement already satisfied: Six in c:\\users\\user\\anaconda3\\lib\\site-packages (from flask-cors->tabloo) (1.14.0)\n",
      "Requirement already satisfied: pytz>=2017.2 in c:\\users\\user\\anaconda3\\lib\\site-packages (from pandas->tabloo) (2020.1)\n",
      "Requirement already satisfied: numpy>=1.13.3 in c:\\users\\user\\anaconda3\\lib\\site-packages (from pandas->tabloo) (1.18.4)\n",
      "Requirement already satisfied: python-dateutil>=2.6.1 in c:\\users\\user\\anaconda3\\lib\\site-packages (from pandas->tabloo) (2.8.1)\n",
      "Requirement already satisfied: MarkupSafe>=0.23 in c:\\users\\user\\anaconda3\\lib\\site-packages (from Jinja2>=2.10.1->flask->tabloo) (1.1.1)\n",
      "Building wheels for collected packages: tabloo\n",
      "  Building wheel for tabloo (setup.py): started\n",
      "  Building wheel for tabloo (setup.py): finished with status 'done'\n",
      "  Created wheel for tabloo: filename=tabloo-0.0.13-py3-none-any.whl size=2329707 sha256=895c5304f3c3851e4312800212b57b46f394d8d082b00096e5e69f94113fbb37\n",
      "  Stored in directory: c:\\users\\user\\appdata\\local\\pip\\cache\\wheels\\ac\\d6\\6d\\33d33c6bb6bf642ba5e0d08225a1c025952391f0a9d4fb0e95\n",
      "Successfully built tabloo\n",
      "Installing collected packages: flask-cors, tabloo\n",
      "Successfully installed flask-cors-3.0.9 tabloo-0.0.13\n"
     ]
    }
   ],
   "source": [
    "!pip install tabloo\n"
   ]
  },
  {
   "cell_type": "code",
   "execution_count": 2,
   "metadata": {},
   "outputs": [
    {
     "ename": "NameError",
     "evalue": "name 'final_df3' is not defined",
     "output_type": "error",
     "traceback": [
      "\u001b[1;31m---------------------------------------------------------------------------\u001b[0m",
      "\u001b[1;31mNameError\u001b[0m                                 Traceback (most recent call last)",
      "\u001b[1;32m<ipython-input-2-05d03679cc0c>\u001b[0m in \u001b[0;36m<module>\u001b[1;34m\u001b[0m\n\u001b[1;32m----> 1\u001b[1;33m \u001b[0mfinal_df3\u001b[0m\u001b[1;33m\u001b[0m\u001b[1;33m\u001b[0m\u001b[0m\n\u001b[0m",
      "\u001b[1;31mNameError\u001b[0m: name 'final_df3' is not defined"
     ]
    }
   ],
   "source": []
  },
  {
   "cell_type": "code",
   "execution_count": null,
   "metadata": {},
   "outputs": [],
   "source": []
  }
 ],
 "metadata": {
  "kernelspec": {
   "display_name": "Python 3",
   "language": "python",
   "name": "python3"
  },
  "language_info": {
   "codemirror_mode": {
    "name": "ipython",
    "version": 3
   },
   "file_extension": ".py",
   "mimetype": "text/x-python",
   "name": "python",
   "nbconvert_exporter": "python",
   "pygments_lexer": "ipython3",
   "version": "3.7.9"
  }
 },
 "nbformat": 4,
 "nbformat_minor": 4
}
