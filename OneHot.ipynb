{
 "cells": [
  {
   "cell_type": "markdown",
   "metadata": {},
   "source": [
    "# One Hot Encoding\n",
    "\n",
    "In a multi-classification problem, you need one-hot encoding of the y-variable to feed the neural net.  There are many functions available in sklearn to do this, described below.  \n",
    "\n",
    "**X Variable**  \n",
    "However the easiest to use is Pandas `pd.get_dummies(dataframe columns to encode)`.  The reason is that Pandas will give you column headings, whereas sklearn uses arrays that have no column headings and in the first two functions it is not possible to figure out which column is which.  \n",
    "  \n",
    "**Y Variable**  \n",
    "Easiest to use `LabelBinarizer` and `MultiLabelBinarizer` that both give column headings too.  See usage below.\n",
    "  \n",
    "Once you have the pandas one-hot dataframe, you can convert it to an array using `np.asarray(df)` and feed it to the neural net.  \n",
    "  \n",
    "See example below:  \n",
    "  "
   ]
  },
  {
   "cell_type": "code",
   "execution_count": 119,
   "metadata": {},
   "outputs": [],
   "source": [
    "mylist = ['apple', 'banana', 'pear', 'pear', 'apple', 'apple']\n",
    "\n",
    "     "
   ]
  },
  {
   "cell_type": "code",
   "execution_count": 120,
   "metadata": {},
   "outputs": [
    {
     "data": {
      "text/html": [
       "<div>\n",
       "<style scoped>\n",
       "    .dataframe tbody tr th:only-of-type {\n",
       "        vertical-align: middle;\n",
       "    }\n",
       "\n",
       "    .dataframe tbody tr th {\n",
       "        vertical-align: top;\n",
       "    }\n",
       "\n",
       "    .dataframe thead th {\n",
       "        text-align: right;\n",
       "    }\n",
       "</style>\n",
       "<table border=\"1\" class=\"dataframe\">\n",
       "  <thead>\n",
       "    <tr style=\"text-align: right;\">\n",
       "      <th></th>\n",
       "      <th>0_apple</th>\n",
       "      <th>0_banana</th>\n",
       "      <th>0_pear</th>\n",
       "    </tr>\n",
       "  </thead>\n",
       "  <tbody>\n",
       "    <tr>\n",
       "      <td>0</td>\n",
       "      <td>1</td>\n",
       "      <td>0</td>\n",
       "      <td>0</td>\n",
       "    </tr>\n",
       "    <tr>\n",
       "      <td>1</td>\n",
       "      <td>0</td>\n",
       "      <td>1</td>\n",
       "      <td>0</td>\n",
       "    </tr>\n",
       "    <tr>\n",
       "      <td>2</td>\n",
       "      <td>0</td>\n",
       "      <td>0</td>\n",
       "      <td>1</td>\n",
       "    </tr>\n",
       "    <tr>\n",
       "      <td>3</td>\n",
       "      <td>0</td>\n",
       "      <td>0</td>\n",
       "      <td>1</td>\n",
       "    </tr>\n",
       "    <tr>\n",
       "      <td>4</td>\n",
       "      <td>1</td>\n",
       "      <td>0</td>\n",
       "      <td>0</td>\n",
       "    </tr>\n",
       "    <tr>\n",
       "      <td>5</td>\n",
       "      <td>1</td>\n",
       "      <td>0</td>\n",
       "      <td>0</td>\n",
       "    </tr>\n",
       "  </tbody>\n",
       "</table>\n",
       "</div>"
      ],
      "text/plain": [
       "   0_apple  0_banana  0_pear\n",
       "0        1         0       0\n",
       "1        0         1       0\n",
       "2        0         0       1\n",
       "3        0         0       1\n",
       "4        1         0       0\n",
       "5        1         0       0"
      ]
     },
     "execution_count": 120,
     "metadata": {},
     "output_type": "execute_result"
    }
   ],
   "source": [
    "pd.get_dummies(pd.DataFrame(mylist))"
   ]
  },
  {
   "cell_type": "markdown",
   "metadata": {},
   "source": [
    "## One hot using sklearn\n",
    "  \n",
    "sklearn has many functions for one hot encoding.  All have examples below.  All of these have an interesting way to implement:  \n",
    "  \n",
    "1. Each needs to be assigned to a string first, eg `le=LabelEncoder()`,  \n",
    "2. Then use the `string.fit_transform(values)`, where values is the array containing the text label categories.  \n",
    "3. Each returns an array.  \n",
    "  \n",
    "\n",
    "***\n",
    "**Prep the data**"
   ]
  },
  {
   "cell_type": "code",
   "execution_count": 129,
   "metadata": {},
   "outputs": [
    {
     "name": "stdout",
     "output_type": "stream",
     "text": [
      "values: \n",
      " ['apple' 'banana' 'pear' 'pear' 'apple' 'apple'] \n",
      "\n",
      "\n",
      "values shape: \n",
      " (6,) \n",
      "\n",
      "\n",
      "values after reshape: \n",
      " [['apple']\n",
      " ['banana']\n",
      " ['pear']\n",
      " ['pear']\n",
      " ['apple']\n",
      " ['apple']] \n",
      "\n",
      "\n",
      "values new shape: \n",
      " (6, 1) \n",
      "\n",
      "\n"
     ]
    }
   ],
   "source": [
    "# Convert list of labels to array\n",
    "values = np.asarray(mylist)\n",
    "print('values: \\n',values, '\\n\\n')\n",
    "print('values shape: \\n',values.shape, '\\n\\n')\n",
    "\n",
    "# Now reshape it to be a 2D array\n",
    "values= values.reshape(values.shape[0],1) \n",
    "print('values after reshape: \\n',values, '\\n\\n')\n",
    "print('values new shape: \\n',values.shape, '\\n\\n')\n"
   ]
  },
  {
   "cell_type": "code",
   "execution_count": 122,
   "metadata": {},
   "outputs": [],
   "source": [
    "import numpy as np\n",
    "import pandas as pd\n",
    "from numpy import array\n",
    "from numpy import argmax\n",
    "\n",
    "from sklearn.preprocessing import OneHotEncoder\n",
    "from sklearn.preprocessing import LabelEncoder\n",
    "from sklearn.preprocessing import LabelBinarizer\n",
    "from sklearn.preprocessing import MultiLabelBinarizer"
   ]
  },
  {
   "cell_type": "markdown",
   "metadata": {},
   "source": [
    "***\n",
    "**OneHotEncoder**  \n",
    "Used for X variables.  Can convert multiple columns to one hot format directly from categorical text. Directly takes an array as an input. "
   ]
  },
  {
   "cell_type": "code",
   "execution_count": 123,
   "metadata": {},
   "outputs": [
    {
     "data": {
      "text/plain": [
       "array([[1., 0., 0.],\n",
       "       [0., 1., 0.],\n",
       "       [0., 0., 1.],\n",
       "       [0., 0., 1.],\n",
       "       [1., 0., 0.],\n",
       "       [1., 0., 0.]])"
      ]
     },
     "execution_count": 123,
     "metadata": {},
     "output_type": "execute_result"
    }
   ],
   "source": [
    "oh = OneHotEncoder(sparse=False)\n",
    "myonehot = oh.fit_transform(values)\n",
    "myonehot\n"
   ]
  },
  {
   "cell_type": "markdown",
   "metadata": {},
   "source": [
    "***\n",
    "**LabelEncoder**  \n",
    "Used for Y variables - this doesn't give you one-hot encoding, but gives you integer encoding."
   ]
  },
  {
   "cell_type": "code",
   "execution_count": 124,
   "metadata": {},
   "outputs": [
    {
     "name": "stdout",
     "output_type": "stream",
     "text": [
      "Now int has integers, type is  <class 'numpy.ndarray'>\n",
      "int shape:  (6,)\n"
     ]
    },
    {
     "data": {
      "text/plain": [
       "array([0, 1, 2, 2, 0, 0], dtype=int64)"
      ]
     },
     "execution_count": 124,
     "metadata": {},
     "output_type": "execute_result"
    }
   ],
   "source": [
    "le = LabelEncoder()\n",
    "int = le.fit_transform(values.ravel()) # This needs a 1D arrary\n",
    "print(\"Now int has integers, type is \", type(int))\n",
    "print('int shape: ', int.shape)\n",
    "int"
   ]
  },
  {
   "cell_type": "markdown",
   "metadata": {},
   "source": [
    "***  \n",
    "**LabelBinarizer**  \n",
    "Used for Y variables - produces one-hot encoding for Y variables.  Each observation belongs to one and only one class."
   ]
  },
  {
   "cell_type": "code",
   "execution_count": 125,
   "metadata": {},
   "outputs": [
    {
     "name": "stdout",
     "output_type": "stream",
     "text": [
      "   apple  banana  pear\n",
      "0      1       0     0\n",
      "1      0       1     0\n",
      "2      0       0     1\n",
      "3      0       0     1\n",
      "4      1       0     0\n",
      "5      1       0     0\n",
      "\n",
      " \n",
      "\n",
      "[[1 0 0]\n",
      " [0 1 0]\n",
      " [0 0 1]\n",
      " [0 0 1]\n",
      " [1 0 0]\n",
      " [1 0 0]]\n"
     ]
    }
   ],
   "source": [
    "lb = LabelBinarizer()\n",
    "myonehot = lb.fit_transform(values) \n",
    "my1hot_df = pd.DataFrame(lb.fit_transform(values), columns=lb.classes_)\n",
    "print(my1hot_df)\n",
    "print('\\n \\n')\n",
    "print(myonehot)"
   ]
  },
  {
   "cell_type": "markdown",
   "metadata": {},
   "source": [
    "***\n",
    "**MultiLabelBinarizer**: This is used when an observation can belong to multiple labels"
   ]
  },
  {
   "cell_type": "code",
   "execution_count": 126,
   "metadata": {},
   "outputs": [],
   "source": [
    "df = pd.DataFrame({\"genre\": [[\"action\", \"drama\",\"fantasy\"], \\\n",
    "                             [\"fantasy\",\"action\"], [\"drama\"], \n",
    "                             [\"sci-fi\", \"drama\"]]})"
   ]
  },
  {
   "cell_type": "code",
   "execution_count": 127,
   "metadata": {},
   "outputs": [
    {
     "data": {
      "text/html": [
       "<div>\n",
       "<style scoped>\n",
       "    .dataframe tbody tr th:only-of-type {\n",
       "        vertical-align: middle;\n",
       "    }\n",
       "\n",
       "    .dataframe tbody tr th {\n",
       "        vertical-align: top;\n",
       "    }\n",
       "\n",
       "    .dataframe thead th {\n",
       "        text-align: right;\n",
       "    }\n",
       "</style>\n",
       "<table border=\"1\" class=\"dataframe\">\n",
       "  <thead>\n",
       "    <tr style=\"text-align: right;\">\n",
       "      <th></th>\n",
       "      <th>genre</th>\n",
       "    </tr>\n",
       "  </thead>\n",
       "  <tbody>\n",
       "    <tr>\n",
       "      <td>0</td>\n",
       "      <td>[action, drama, fantasy]</td>\n",
       "    </tr>\n",
       "    <tr>\n",
       "      <td>1</td>\n",
       "      <td>[fantasy, action]</td>\n",
       "    </tr>\n",
       "    <tr>\n",
       "      <td>2</td>\n",
       "      <td>[drama]</td>\n",
       "    </tr>\n",
       "    <tr>\n",
       "      <td>3</td>\n",
       "      <td>[sci-fi, drama]</td>\n",
       "    </tr>\n",
       "  </tbody>\n",
       "</table>\n",
       "</div>"
      ],
      "text/plain": [
       "                      genre\n",
       "0  [action, drama, fantasy]\n",
       "1         [fantasy, action]\n",
       "2                   [drama]\n",
       "3           [sci-fi, drama]"
      ]
     },
     "execution_count": 127,
     "metadata": {},
     "output_type": "execute_result"
    }
   ],
   "source": [
    "df"
   ]
  },
  {
   "cell_type": "code",
   "execution_count": null,
   "metadata": {},
   "outputs": [],
   "source": []
  },
  {
   "cell_type": "code",
   "execution_count": 128,
   "metadata": {},
   "outputs": [
    {
     "name": "stdout",
     "output_type": "stream",
     "text": [
      "mlb.classes \n",
      " ['action' 'drama' 'fantasy' 'sci-fi'] \n",
      "\n",
      "\n",
      "my1hot_df \n",
      "    action  drama  fantasy  sci-fi\n",
      "0       1      1        1       0\n",
      "1       1      0        1       0\n",
      "2       0      1        0       0\n",
      "3       0      1        0       1 \n",
      "\n",
      "\n",
      "myonehot \n",
      " [[1 1 1 0]\n",
      " [1 0 1 0]\n",
      " [0 1 0 0]\n",
      " [0 1 0 1]] \n",
      "\n",
      "\n"
     ]
    }
   ],
   "source": [
    "mlb = MultiLabelBinarizer()\n",
    "myonehot = mlb.fit_transform(df['genre'])\n",
    "my1hot_df = pd.DataFrame(mlb.fit_transform(df['genre']), columns=mlb.classes_)\n",
    "print('mlb.classes \\n',mlb.classes_, '\\n\\n')\n",
    "print('my1hot_df \\n', my1hot_df, '\\n\\n')\n",
    "print('myonehot \\n', myonehot, '\\n\\n')"
   ]
  },
  {
   "cell_type": "markdown",
   "metadata": {},
   "source": [
    "***\n",
    "  \n",
    "  \n",
    "**useless stuff**  \n",
    "I created a function to get the equivalent of LabelEncoder before I knew about it, but useless now."
   ]
  },
  {
   "cell_type": "code",
   "execution_count": 33,
   "metadata": {},
   "outputs": [],
   "source": [
    "def to_cat(l):\n",
    "    uniques = list(set(l))\n",
    "    l1=[]\n",
    "    word_to_index = {}\n",
    "    index_to_word = {}\n",
    "    x=0\n",
    "    for i in uniques:\n",
    "        x = x + 1\n",
    "        index_to_word.update({x: i})\n",
    "        word_to_index.update({i: x})\n",
    "        print(i)\n",
    "        print(word_to_index[i])\n",
    "\n",
    "    for t in l:\n",
    "        print(l1)\n",
    "        print(word_to_index[t])\n",
    "        l1.append(word_to_index[t])\n",
    "\n",
    "    return l1, index_to_word, word_to_index"
   ]
  }
 ],
 "metadata": {
  "kernelspec": {
   "display_name": "Python 3",
   "language": "python",
   "name": "python3"
  },
  "language_info": {
   "codemirror_mode": {
    "name": "ipython",
    "version": 3
   },
   "file_extension": ".py",
   "mimetype": "text/x-python",
   "name": "python",
   "nbconvert_exporter": "python",
   "pygments_lexer": "ipython3",
   "version": "3.7.6"
  }
 },
 "nbformat": 4,
 "nbformat_minor": 4
}
